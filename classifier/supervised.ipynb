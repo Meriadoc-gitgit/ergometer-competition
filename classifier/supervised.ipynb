{
 "cells": [
  {
   "cell_type": "code",
   "execution_count": 1,
   "metadata": {},
   "outputs": [],
   "source": [
    "# Importation de librairies standards:\n",
    "import numpy as np\n",
    "import pandas as pd\n",
    "import matplotlib.pyplot as plt\n",
    "from sklearn.model_selection import train_test_split\n",
    "# Importation de la librairie seaborn:\n",
    "import seaborn as sns\n",
    "sns.set_theme(style=\"whitegrid\")\n",
    "%matplotlib inline  \n",
    "\n",
    "# un nouvel import utile pour la 3D:\n",
    "from matplotlib import cm\n",
    "\n",
    "# Pour mesurer le temps\n",
    "import time\n",
    "\n",
    "# Importation de votre librairie iads:\n",
    "# La ligne suivante permet de préciser le chemin d'accès à la librairie iads\n",
    "# import sys\n",
    "# sys.path.append('../')   # iads doit être dans le répertoire père du répertoire courant !\n",
    "\n",
    "# Importation de la librairie iads\n",
    "import iads as iads\n",
    "\n",
    "# importation de Classifiers\n",
    "from iads import Classifiers as classif\n",
    "\n",
    "# importation de utils\n",
    "from iads import utils as ut\n",
    "\n",
    "# importation de evaluation\n",
    "from iads import evaluation as ev\n",
    "\n",
    "# importation de Clustering\n",
    "from iads import Clustering as clust\n",
    "\n",
    "# commande TRES utile pour recharger automatiquement le code que vous modifiez dans les modules\n",
    "%load_ext autoreload\n",
    "%autoreload 2"
   ]
  },
  {
   "cell_type": "code",
   "execution_count": 2,
   "metadata": {},
   "outputs": [],
   "source": [
    "import warnings\n",
    "\n",
    "# Suppress all warnings\n",
    "warnings.filterwarnings(\"ignore\")\n",
    "\n",
    "# Suppress a specific warning type\n",
    "warnings.filterwarnings(\"ignore\", category=DeprecationWarning)"
   ]
  },
  {
   "cell_type": "code",
   "execution_count": 3,
   "metadata": {},
   "outputs": [
    {
     "data": {
      "text/plain": [
       "['test copy.ipynb',\n",
       " 'Q3.ipynb',\n",
       " 'side.ipynb',\n",
       " 'main.ipynb',\n",
       " 'Test',\n",
       " 'fatigue_analysis.ipynb',\n",
       " 'Sujet de test.pdf',\n",
       " 'README.md',\n",
       " 'classifier',\n",
       " 'main copie.html',\n",
       " 'classifier.ipynb',\n",
       " '.gitattributes',\n",
       " '.git',\n",
       " '.vscode',\n",
       " 'test.ipynb']"
      ]
     },
     "execution_count": 3,
     "metadata": {},
     "output_type": "execute_result"
    }
   ],
   "source": [
    "import os\n",
    "from os import listdir\n",
    "parent_dir = os.path.abspath(os.path.join(os.getcwd(), '..'))  # Get the parent directory\n",
    "os.chdir(parent_dir)  # Change the working directory to the parent directory\n",
    "os.sys.path.append(parent_dir)  # Append the parent directory to the system path\n",
    "listdir()"
   ]
  },
  {
   "cell_type": "markdown",
   "metadata": {},
   "source": [
    "### Chargement des données"
   ]
  },
  {
   "cell_type": "code",
   "execution_count": 4,
   "metadata": {},
   "outputs": [],
   "source": [
    "# Load the data \n",
    "df = pd.read_json(\"Test/ergometer_500m.json\")"
   ]
  },
  {
   "cell_type": "code",
   "execution_count": 148,
   "metadata": {},
   "outputs": [],
   "source": [
    "# Calcul de la vitesse en km/h (distance en km / temps en heures)\n",
    "df['split_time_hours'] = df['split_time'] / 3600  # Conversion du temps en heures\n",
    "df['speed_kmh'] = (0.5 / df['split_time_hours'])  # La distance est de 0.5 km (500m)\n",
    "df['speed_category'] = pd.cut(df['speed_kmh'], bins=[0, 13.5, 15, 20], labels=[0, 1, 2])\n",
    "\n",
    "X = df[['split_calories','split_drag_factor','split_stroke_rate','split_stroke_count','split_time']]\n",
    "y = df['speed_category']\n",
    "\n",
    "X_noms = X.columns"
   ]
  },
  {
   "cell_type": "code",
   "execution_count": 149,
   "metadata": {},
   "outputs": [
    {
     "data": {
      "text/html": [
       "<div>\n",
       "<style scoped>\n",
       "    .dataframe tbody tr th:only-of-type {\n",
       "        vertical-align: middle;\n",
       "    }\n",
       "\n",
       "    .dataframe tbody tr th {\n",
       "        vertical-align: top;\n",
       "    }\n",
       "\n",
       "    .dataframe thead th {\n",
       "        text-align: right;\n",
       "    }\n",
       "</style>\n",
       "<table border=\"1\" class=\"dataframe\">\n",
       "  <thead>\n",
       "    <tr style=\"text-align: right;\">\n",
       "      <th></th>\n",
       "      <th>split_avg_pace</th>\n",
       "      <th>split_calories</th>\n",
       "      <th>split_distance</th>\n",
       "      <th>split_drag_factor</th>\n",
       "      <th>split_running_calories</th>\n",
       "      <th>split_running_distance</th>\n",
       "      <th>split_running_time</th>\n",
       "      <th>split_stroke_count</th>\n",
       "      <th>split_stroke_rate</th>\n",
       "      <th>split_time</th>\n",
       "      <th>split_type</th>\n",
       "      <th>participant</th>\n",
       "      <th>serial_number</th>\n",
       "      <th>calories</th>\n",
       "      <th>place</th>\n",
       "      <th>split_time_hours</th>\n",
       "      <th>speed_kmh</th>\n",
       "      <th>speed_category</th>\n",
       "    </tr>\n",
       "  </thead>\n",
       "  <tbody>\n",
       "    <tr>\n",
       "      <th>0</th>\n",
       "      <td>1:59.4</td>\n",
       "      <td>33</td>\n",
       "      <td>500</td>\n",
       "      <td>120</td>\n",
       "      <td>33</td>\n",
       "      <td>500</td>\n",
       "      <td>119.4</td>\n",
       "      <td>56</td>\n",
       "      <td>28</td>\n",
       "      <td>119.4</td>\n",
       "      <td>distance_split</td>\n",
       "      <td>Eric</td>\n",
       "      <td>430839301</td>\n",
       "      <td>131</td>\n",
       "      <td>1</td>\n",
       "      <td>0.033167</td>\n",
       "      <td>15.075377</td>\n",
       "      <td>2</td>\n",
       "    </tr>\n",
       "    <tr>\n",
       "      <th>1</th>\n",
       "      <td>2:01.2</td>\n",
       "      <td>32</td>\n",
       "      <td>500</td>\n",
       "      <td>120</td>\n",
       "      <td>65</td>\n",
       "      <td>1000</td>\n",
       "      <td>240.6</td>\n",
       "      <td>53</td>\n",
       "      <td>26</td>\n",
       "      <td>121.2</td>\n",
       "      <td>distance_split</td>\n",
       "      <td>Eric</td>\n",
       "      <td>430839301</td>\n",
       "      <td>131</td>\n",
       "      <td>1</td>\n",
       "      <td>0.033667</td>\n",
       "      <td>14.851485</td>\n",
       "      <td>1</td>\n",
       "    </tr>\n",
       "    <tr>\n",
       "      <th>2</th>\n",
       "      <td>2:01.2</td>\n",
       "      <td>32</td>\n",
       "      <td>500</td>\n",
       "      <td>120</td>\n",
       "      <td>97</td>\n",
       "      <td>1500</td>\n",
       "      <td>361.8</td>\n",
       "      <td>54</td>\n",
       "      <td>27</td>\n",
       "      <td>121.2</td>\n",
       "      <td>distance_split</td>\n",
       "      <td>Eric</td>\n",
       "      <td>430839301</td>\n",
       "      <td>131</td>\n",
       "      <td>1</td>\n",
       "      <td>0.033667</td>\n",
       "      <td>14.851485</td>\n",
       "      <td>1</td>\n",
       "    </tr>\n",
       "    <tr>\n",
       "      <th>3</th>\n",
       "      <td>1:55.5</td>\n",
       "      <td>34</td>\n",
       "      <td>500</td>\n",
       "      <td>120</td>\n",
       "      <td>131</td>\n",
       "      <td>2000</td>\n",
       "      <td>477.3</td>\n",
       "      <td>56</td>\n",
       "      <td>29</td>\n",
       "      <td>115.5</td>\n",
       "      <td>distance_split</td>\n",
       "      <td>Eric</td>\n",
       "      <td>430839301</td>\n",
       "      <td>131</td>\n",
       "      <td>1</td>\n",
       "      <td>0.032083</td>\n",
       "      <td>15.584416</td>\n",
       "      <td>2</td>\n",
       "    </tr>\n",
       "    <tr>\n",
       "      <th>4</th>\n",
       "      <td>1:54.8</td>\n",
       "      <td>35</td>\n",
       "      <td>500</td>\n",
       "      <td>121</td>\n",
       "      <td>35</td>\n",
       "      <td>500</td>\n",
       "      <td>114.8</td>\n",
       "      <td>59</td>\n",
       "      <td>31</td>\n",
       "      <td>114.8</td>\n",
       "      <td>distance_split</td>\n",
       "      <td>Edouard</td>\n",
       "      <td>530398582</td>\n",
       "      <td>130</td>\n",
       "      <td>2</td>\n",
       "      <td>0.031889</td>\n",
       "      <td>15.679443</td>\n",
       "      <td>2</td>\n",
       "    </tr>\n",
       "    <tr>\n",
       "      <th>...</th>\n",
       "      <td>...</td>\n",
       "      <td>...</td>\n",
       "      <td>...</td>\n",
       "      <td>...</td>\n",
       "      <td>...</td>\n",
       "      <td>...</td>\n",
       "      <td>...</td>\n",
       "      <td>...</td>\n",
       "      <td>...</td>\n",
       "      <td>...</td>\n",
       "      <td>...</td>\n",
       "      <td>...</td>\n",
       "      <td>...</td>\n",
       "      <td>...</td>\n",
       "      <td>...</td>\n",
       "      <td>...</td>\n",
       "      <td>...</td>\n",
       "      <td>...</td>\n",
       "    </tr>\n",
       "    <tr>\n",
       "      <th>123</th>\n",
       "      <td>2:11.0</td>\n",
       "      <td>30</td>\n",
       "      <td>500</td>\n",
       "      <td>117</td>\n",
       "      <td>119</td>\n",
       "      <td>2000</td>\n",
       "      <td>528.8</td>\n",
       "      <td>71</td>\n",
       "      <td>33</td>\n",
       "      <td>131.0</td>\n",
       "      <td>distance_split</td>\n",
       "      <td>Julie</td>\n",
       "      <td>530087901</td>\n",
       "      <td>119</td>\n",
       "      <td>3</td>\n",
       "      <td>0.036389</td>\n",
       "      <td>13.740458</td>\n",
       "      <td>1</td>\n",
       "    </tr>\n",
       "    <tr>\n",
       "      <th>124</th>\n",
       "      <td>2:07.2</td>\n",
       "      <td>31</td>\n",
       "      <td>500</td>\n",
       "      <td>131</td>\n",
       "      <td>31</td>\n",
       "      <td>500</td>\n",
       "      <td>127.2</td>\n",
       "      <td>56</td>\n",
       "      <td>26</td>\n",
       "      <td>127.2</td>\n",
       "      <td>distance_split</td>\n",
       "      <td>Hervé</td>\n",
       "      <td>530398582</td>\n",
       "      <td>119</td>\n",
       "      <td>4</td>\n",
       "      <td>0.035333</td>\n",
       "      <td>14.150943</td>\n",
       "      <td>1</td>\n",
       "    </tr>\n",
       "    <tr>\n",
       "      <th>125</th>\n",
       "      <td>2:13.4</td>\n",
       "      <td>29</td>\n",
       "      <td>500</td>\n",
       "      <td>115</td>\n",
       "      <td>60</td>\n",
       "      <td>1000</td>\n",
       "      <td>260.6</td>\n",
       "      <td>56</td>\n",
       "      <td>25</td>\n",
       "      <td>133.4</td>\n",
       "      <td>distance_split</td>\n",
       "      <td>Hervé</td>\n",
       "      <td>530398582</td>\n",
       "      <td>119</td>\n",
       "      <td>4</td>\n",
       "      <td>0.037056</td>\n",
       "      <td>13.493253</td>\n",
       "      <td>0</td>\n",
       "    </tr>\n",
       "    <tr>\n",
       "      <th>126</th>\n",
       "      <td>2:16.5</td>\n",
       "      <td>29</td>\n",
       "      <td>500</td>\n",
       "      <td>115</td>\n",
       "      <td>89</td>\n",
       "      <td>1500</td>\n",
       "      <td>397.1</td>\n",
       "      <td>61</td>\n",
       "      <td>27</td>\n",
       "      <td>136.5</td>\n",
       "      <td>distance_split</td>\n",
       "      <td>Hervé</td>\n",
       "      <td>530398582</td>\n",
       "      <td>119</td>\n",
       "      <td>4</td>\n",
       "      <td>0.037917</td>\n",
       "      <td>13.186813</td>\n",
       "      <td>0</td>\n",
       "    </tr>\n",
       "    <tr>\n",
       "      <th>127</th>\n",
       "      <td>2:12.8</td>\n",
       "      <td>30</td>\n",
       "      <td>500</td>\n",
       "      <td>115</td>\n",
       "      <td>119</td>\n",
       "      <td>2000</td>\n",
       "      <td>529.9</td>\n",
       "      <td>69</td>\n",
       "      <td>31</td>\n",
       "      <td>132.8</td>\n",
       "      <td>distance_split</td>\n",
       "      <td>Hervé</td>\n",
       "      <td>530398582</td>\n",
       "      <td>119</td>\n",
       "      <td>4</td>\n",
       "      <td>0.036889</td>\n",
       "      <td>13.554217</td>\n",
       "      <td>1</td>\n",
       "    </tr>\n",
       "  </tbody>\n",
       "</table>\n",
       "<p>128 rows × 18 columns</p>\n",
       "</div>"
      ],
      "text/plain": [
       "    split_avg_pace  split_calories  split_distance  split_drag_factor  \\\n",
       "0           1:59.4              33             500                120   \n",
       "1           2:01.2              32             500                120   \n",
       "2           2:01.2              32             500                120   \n",
       "3           1:55.5              34             500                120   \n",
       "4           1:54.8              35             500                121   \n",
       "..             ...             ...             ...                ...   \n",
       "123         2:11.0              30             500                117   \n",
       "124         2:07.2              31             500                131   \n",
       "125         2:13.4              29             500                115   \n",
       "126         2:16.5              29             500                115   \n",
       "127         2:12.8              30             500                115   \n",
       "\n",
       "     split_running_calories  split_running_distance  split_running_time  \\\n",
       "0                        33                     500               119.4   \n",
       "1                        65                    1000               240.6   \n",
       "2                        97                    1500               361.8   \n",
       "3                       131                    2000               477.3   \n",
       "4                        35                     500               114.8   \n",
       "..                      ...                     ...                 ...   \n",
       "123                     119                    2000               528.8   \n",
       "124                      31                     500               127.2   \n",
       "125                      60                    1000               260.6   \n",
       "126                      89                    1500               397.1   \n",
       "127                     119                    2000               529.9   \n",
       "\n",
       "     split_stroke_count  split_stroke_rate  split_time      split_type  \\\n",
       "0                    56                 28       119.4  distance_split   \n",
       "1                    53                 26       121.2  distance_split   \n",
       "2                    54                 27       121.2  distance_split   \n",
       "3                    56                 29       115.5  distance_split   \n",
       "4                    59                 31       114.8  distance_split   \n",
       "..                  ...                ...         ...             ...   \n",
       "123                  71                 33       131.0  distance_split   \n",
       "124                  56                 26       127.2  distance_split   \n",
       "125                  56                 25       133.4  distance_split   \n",
       "126                  61                 27       136.5  distance_split   \n",
       "127                  69                 31       132.8  distance_split   \n",
       "\n",
       "    participant  serial_number  calories  place  split_time_hours  speed_kmh  \\\n",
       "0          Eric      430839301       131      1          0.033167  15.075377   \n",
       "1          Eric      430839301       131      1          0.033667  14.851485   \n",
       "2          Eric      430839301       131      1          0.033667  14.851485   \n",
       "3          Eric      430839301       131      1          0.032083  15.584416   \n",
       "4       Edouard      530398582       130      2          0.031889  15.679443   \n",
       "..          ...            ...       ...    ...               ...        ...   \n",
       "123       Julie      530087901       119      3          0.036389  13.740458   \n",
       "124       Hervé      530398582       119      4          0.035333  14.150943   \n",
       "125       Hervé      530398582       119      4          0.037056  13.493253   \n",
       "126       Hervé      530398582       119      4          0.037917  13.186813   \n",
       "127       Hervé      530398582       119      4          0.036889  13.554217   \n",
       "\n",
       "    speed_category  \n",
       "0                2  \n",
       "1                1  \n",
       "2                1  \n",
       "3                2  \n",
       "4                2  \n",
       "..             ...  \n",
       "123              1  \n",
       "124              1  \n",
       "125              0  \n",
       "126              0  \n",
       "127              1  \n",
       "\n",
       "[128 rows x 18 columns]"
      ]
     },
     "execution_count": 149,
     "metadata": {},
     "output_type": "execute_result"
    }
   ],
   "source": [
    "df"
   ]
  },
  {
   "cell_type": "code",
   "execution_count": 150,
   "metadata": {},
   "outputs": [
    {
     "data": {
      "text/html": [
       "<div>\n",
       "<style scoped>\n",
       "    .dataframe tbody tr th:only-of-type {\n",
       "        vertical-align: middle;\n",
       "    }\n",
       "\n",
       "    .dataframe tbody tr th {\n",
       "        vertical-align: top;\n",
       "    }\n",
       "\n",
       "    .dataframe thead th {\n",
       "        text-align: right;\n",
       "    }\n",
       "</style>\n",
       "<table border=\"1\" class=\"dataframe\">\n",
       "  <thead>\n",
       "    <tr style=\"text-align: right;\">\n",
       "      <th></th>\n",
       "      <th>split_calories</th>\n",
       "      <th>split_drag_factor</th>\n",
       "      <th>split_stroke_rate</th>\n",
       "      <th>split_stroke_count</th>\n",
       "      <th>split_time</th>\n",
       "    </tr>\n",
       "  </thead>\n",
       "  <tbody>\n",
       "    <tr>\n",
       "      <th>0</th>\n",
       "      <td>33</td>\n",
       "      <td>120</td>\n",
       "      <td>28</td>\n",
       "      <td>56</td>\n",
       "      <td>119.4</td>\n",
       "    </tr>\n",
       "    <tr>\n",
       "      <th>1</th>\n",
       "      <td>32</td>\n",
       "      <td>120</td>\n",
       "      <td>26</td>\n",
       "      <td>53</td>\n",
       "      <td>121.2</td>\n",
       "    </tr>\n",
       "    <tr>\n",
       "      <th>2</th>\n",
       "      <td>32</td>\n",
       "      <td>120</td>\n",
       "      <td>27</td>\n",
       "      <td>54</td>\n",
       "      <td>121.2</td>\n",
       "    </tr>\n",
       "    <tr>\n",
       "      <th>3</th>\n",
       "      <td>34</td>\n",
       "      <td>120</td>\n",
       "      <td>29</td>\n",
       "      <td>56</td>\n",
       "      <td>115.5</td>\n",
       "    </tr>\n",
       "    <tr>\n",
       "      <th>4</th>\n",
       "      <td>35</td>\n",
       "      <td>121</td>\n",
       "      <td>31</td>\n",
       "      <td>59</td>\n",
       "      <td>114.8</td>\n",
       "    </tr>\n",
       "    <tr>\n",
       "      <th>...</th>\n",
       "      <td>...</td>\n",
       "      <td>...</td>\n",
       "      <td>...</td>\n",
       "      <td>...</td>\n",
       "      <td>...</td>\n",
       "    </tr>\n",
       "    <tr>\n",
       "      <th>123</th>\n",
       "      <td>30</td>\n",
       "      <td>117</td>\n",
       "      <td>33</td>\n",
       "      <td>71</td>\n",
       "      <td>131.0</td>\n",
       "    </tr>\n",
       "    <tr>\n",
       "      <th>124</th>\n",
       "      <td>31</td>\n",
       "      <td>131</td>\n",
       "      <td>26</td>\n",
       "      <td>56</td>\n",
       "      <td>127.2</td>\n",
       "    </tr>\n",
       "    <tr>\n",
       "      <th>125</th>\n",
       "      <td>29</td>\n",
       "      <td>115</td>\n",
       "      <td>25</td>\n",
       "      <td>56</td>\n",
       "      <td>133.4</td>\n",
       "    </tr>\n",
       "    <tr>\n",
       "      <th>126</th>\n",
       "      <td>29</td>\n",
       "      <td>115</td>\n",
       "      <td>27</td>\n",
       "      <td>61</td>\n",
       "      <td>136.5</td>\n",
       "    </tr>\n",
       "    <tr>\n",
       "      <th>127</th>\n",
       "      <td>30</td>\n",
       "      <td>115</td>\n",
       "      <td>31</td>\n",
       "      <td>69</td>\n",
       "      <td>132.8</td>\n",
       "    </tr>\n",
       "  </tbody>\n",
       "</table>\n",
       "<p>128 rows × 5 columns</p>\n",
       "</div>"
      ],
      "text/plain": [
       "     split_calories  split_drag_factor  split_stroke_rate  split_stroke_count  \\\n",
       "0                33                120                 28                  56   \n",
       "1                32                120                 26                  53   \n",
       "2                32                120                 27                  54   \n",
       "3                34                120                 29                  56   \n",
       "4                35                121                 31                  59   \n",
       "..              ...                ...                ...                 ...   \n",
       "123              30                117                 33                  71   \n",
       "124              31                131                 26                  56   \n",
       "125              29                115                 25                  56   \n",
       "126              29                115                 27                  61   \n",
       "127              30                115                 31                  69   \n",
       "\n",
       "     split_time  \n",
       "0         119.4  \n",
       "1         121.2  \n",
       "2         121.2  \n",
       "3         115.5  \n",
       "4         114.8  \n",
       "..          ...  \n",
       "123       131.0  \n",
       "124       127.2  \n",
       "125       133.4  \n",
       "126       136.5  \n",
       "127       132.8  \n",
       "\n",
       "[128 rows x 5 columns]"
      ]
     },
     "execution_count": 150,
     "metadata": {},
     "output_type": "execute_result"
    }
   ],
   "source": [
    "X"
   ]
  },
  {
   "cell_type": "code",
   "execution_count": 151,
   "metadata": {},
   "outputs": [
    {
     "data": {
      "text/plain": [
       "0      2\n",
       "1      1\n",
       "2      1\n",
       "3      2\n",
       "4      2\n",
       "      ..\n",
       "123    1\n",
       "124    1\n",
       "125    0\n",
       "126    0\n",
       "127    1\n",
       "Name: speed_category, Length: 128, dtype: category\n",
       "Categories (3, int64): [0 < 1 < 2]"
      ]
     },
     "execution_count": 151,
     "metadata": {},
     "output_type": "execute_result"
    }
   ],
   "source": [
    "y"
   ]
  },
  {
   "cell_type": "code",
   "execution_count": 152,
   "metadata": {},
   "outputs": [
    {
     "data": {
      "text/plain": [
       "array([0, 1, 2])"
      ]
     },
     "execution_count": 152,
     "metadata": {},
     "output_type": "execute_result"
    }
   ],
   "source": [
    "np.unique(y)"
   ]
  },
  {
   "cell_type": "markdown",
   "metadata": {},
   "source": [
    "## Prétraitement de données"
   ]
  },
  {
   "cell_type": "markdown",
   "metadata": {},
   "source": [
    "### Division de base de données"
   ]
  },
  {
   "cell_type": "code",
   "execution_count": 153,
   "metadata": {},
   "outputs": [],
   "source": [
    "X = np.array(X)\n",
    "y = np.array(y)\n",
    "\n",
    "# Définition de variables\n",
    "dim = len(X[0])\n",
    "nb_labels = len(np.unique(y))"
   ]
  },
  {
   "cell_type": "code",
   "execution_count": 154,
   "metadata": {},
   "outputs": [],
   "source": [
    "# -----\n",
    "# Définition des données d'apprentissage (on reprend les données data_gauss générées plus haut)\n",
    "np.random.seed(42)\n",
    "(train_desc, train_label), (test_desc, test_label) = ut.genere_train_test(X, y,25)\n",
    "\n",
    "data_train = train_desc\n",
    "label_train = train_label\n",
    "data_test = test_desc\n",
    "label_test = test_label\n",
    "\n",
    "import random\n",
    "\n",
    "index = random.sample(range(len(X)),70)\n",
    "data_cv, label_cv = X[index], y[index]"
   ]
  },
  {
   "cell_type": "markdown",
   "metadata": {},
   "source": [
    "### Réduction de données 3D => 2D"
   ]
  },
  {
   "cell_type": "code",
   "execution_count": 155,
   "metadata": {},
   "outputs": [
    {
     "data": {
      "text/plain": [
       "<matplotlib.legend.Legend at 0x7fd319829400>"
      ]
     },
     "execution_count": 155,
     "metadata": {},
     "output_type": "execute_result"
    },
    {
     "data": {
      "image/png": "[encoded data removed]",
      "text/plain": [
       "<Figure size 432x288 with 1 Axes>"
      ]
     },
     "metadata": {
      "needs_background": "light"
     },
     "output_type": "display_data"
    }
   ],
   "source": [
    "# A réaliser :\n",
    "\n",
    "# 1) calcul des vecteurs propres\n",
    "lam_train, V_train = np.linalg.eig(X.T @ X)\n",
    "# lam_test, V_test = np.linalg.eig(XTu.T @ XTu)\n",
    "\n",
    "# Trouver les indices des deux plus grandes valeurs propres\n",
    "largest_indices = np.argsort(lam_train)[::-1][:2]\n",
    "\n",
    "\n",
    "\n",
    "# Extraire les deux plus grandes valeurs propres et leurs vecteurs propres correspondants\n",
    "largest_eigenvalues = lam_train[largest_indices]\n",
    "\n",
    "\n",
    "max_train = V_train[:, largest_indices]\n",
    "# max_test = V_test[:, np.argmax(lam_test)]\n",
    "\n",
    "\n",
    "# 2) affichage (print)\n",
    "#print(\"1er valeur rendue:\\n\", lam_train)\n",
    "#print(\"2e valeur rendue :\\n\", V_train)\n",
    "\n",
    "# 3) tri et sélection des 2 vecteurs associés aux 2 plus grandes valeurs propres \n",
    "#print(\"Vecteur train :\\n\", max_train)\n",
    "\n",
    "# 4) affichage (plot) avec un code couleur pour les classes\n",
    "for i in np.unique(y) :\n",
    "  one_train = X[y==i]\n",
    "  #print(one_train)\n",
    "\n",
    "  projected_data_train = np.dot(one_train, max_train)\n",
    "\n",
    "  plt.scatter(projected_data_train[:,0], projected_data_train[:,1],alpha=.5)\n",
    "\n",
    "\n",
    "# ####################################\n",
    "plt.legend(np.arange(10))\n",
    "\n",
    "#plt.savefig(\"out/proj_usps_all.png\",bbox_inches='tight', transparent=True,pad_inches=0)\n",
    "\n"
   ]
  },
  {
   "cell_type": "code",
   "execution_count": 156,
   "metadata": {},
   "outputs": [
    {
     "data": {
      "image/png": "[encoded data removed]",
      "text/plain": [
       "<Figure size 432x288 with 1 Axes>"
      ]
     },
     "metadata": {
      "needs_background": "light"
     },
     "output_type": "display_data"
    }
   ],
   "source": [
    "import math \n",
    "plt.figure()\n",
    "\n",
    "lam, V = np.linalg.eig(X.T @ X)\n",
    "max_eigenvalue_index = np.argmax(lam)\n",
    "max_eigenvector = V[:, max_eigenvalue_index]\n",
    "\n",
    "for i in range(10) : \n",
    "  data = X[y==i]\n",
    "  projected_data = np.dot(data, max_eigenvector)\n",
    "  plt.scatter(projected_data, [i for _ in range(len(projected_data))], alpha=0.5)"
   ]
  },
  {
   "cell_type": "markdown",
   "metadata": {},
   "source": [
    "## Algorithme de $k$ plus proches voisins"
   ]
  },
  {
   "cell_type": "markdown",
   "metadata": {},
   "source": [
    "### Classification des 10 premiers exemples du dataset"
   ]
  },
  {
   "cell_type": "code",
   "execution_count": 157,
   "metadata": {},
   "outputs": [
    {
     "name": "stdout",
     "output_type": "stream",
     "text": [
      "Classification des 10 premiers exemples du dataset:\n",
      "\t+33.000 +120.000 : +2 ---> +3 [+2.00000]\n",
      "\t+32.000 +120.000 : +1 ---> +2 [+1.00000]\n",
      "\t+32.000 +120.000 : +1 ---> +2 [+1.00000]\n",
      "\t+34.000 +120.000 : +2 ---> +3 [+2.00000]\n",
      "\t+35.000 +121.000 : +2 ---> +3 [+2.00000]\n",
      "\t+31.000 +120.000 : +1 ---> +2 [+1.00000]\n",
      "\t+31.000 +120.000 : +1 ---> +2 [+1.00000]\n",
      "\t+33.000 +120.000 : +2 ---> +3 [+2.00000]\n",
      "\t+33.000 +119.000 : +2 ---> +3 [+2.00000]\n",
      "\t+31.000 +119.000 : +1 ---> +2 [+1.00000]\n",
      "Taux de bonne classification sur le dataset train:  0.0\n",
      "Taux de bonne classification sur le dataset test:  0.03773584905660377\n"
     ]
    }
   ],
   "source": [
    "np.random.seed(42)\n",
    "\n",
    "# Création d'un knn avec k=1 et 16 dimensions pour les données\n",
    "KNN = classif.ClassifierKNN(dim, 1)\n",
    "\n",
    "KNN.train(data_train,label_train)\n",
    "\n",
    "# Classification du dataset (contrôle de predict et score):\n",
    "print(\"Classification des 10 premiers exemples du dataset:\")\n",
    "\n",
    "for i in range(0,10):\n",
    "    print(\"\\t{0:+.3f} {1:+.3f} : {2:+} ---> {3:+} [{4:+.5f}]\".format(X[i,:][0], X[i,:][1], \\\n",
    "                                                                  y[i], \\\n",
    "                                                                  KNN.predict(X[i,:]), \\\n",
    "                                                                  KNN.score(X[i,:])) )\n",
    "\n",
    "# Affichage du taux de bonne classification    \n",
    "print(\"Taux de bonne classification sur le dataset train: \", KNN.accuracy(data_train,label_train))   \n",
    "print(\"Taux de bonne classification sur le dataset test: \", KNN.accuracy(data_test,label_test))   \n"
   ]
  },
  {
   "cell_type": "code",
   "execution_count": 163,
   "metadata": {},
   "outputs": [
    {
     "name": "stdout",
     "output_type": "stream",
     "text": [
      "Classification des 10 premiers exemples du dataset:\n",
      "\t+33.000 +120.000 : +2 ---> +1 [+0.00000]\n",
      "\t+32.000 +120.000 : +1 ---> +1 [+0.00000]\n",
      "\t+32.000 +120.000 : +1 ---> +1 [+0.00000]\n",
      "\t+34.000 +120.000 : +2 ---> +1 [+0.00000]\n",
      "\t+35.000 +121.000 : +2 ---> +1 [+0.00000]\n",
      "\t+31.000 +120.000 : +1 ---> +1 [+0.00000]\n",
      "\t+31.000 +120.000 : +1 ---> +1 [+0.00000]\n",
      "\t+33.000 +120.000 : +2 ---> +1 [+0.00000]\n",
      "\t+33.000 +119.000 : +2 ---> +1 [+0.00000]\n",
      "\t+31.000 +119.000 : +1 ---> +1 [+0.00000]\n",
      "Taux de bonne classification sur le dataset train:  0.3333333333333333\n",
      "Taux de bonne classification sur le dataset test:  0.5094339622641509\n"
     ]
    }
   ],
   "source": [
    "np.random.seed(42)\n",
    "\n",
    "# Création d'un knn avec k=100 et 16 dimensions pour les données\n",
    "KNN = classif.ClassifierKNN(dim, 100)\n",
    "\n",
    "KNN.train(data_train,label_train)\n",
    "\n",
    "# Classification du dataset (contrôle de predict et score):\n",
    "print(\"Classification des 10 premiers exemples du dataset:\")\n",
    "\n",
    "for i in range(0,10):\n",
    "    print(\"\\t{0:+.3f} {1:+.3f} : {2:+} ---> {3:+} [{4:+.5f}]\".format(X[i,:][0], X[i,:][1], \\\n",
    "                                                                  y[i], \\\n",
    "                                                                  KNN.predict(X[i,:]), \\\n",
    "                                                                  KNN.score(X[i,:])) )\n",
    "\n",
    "# Affichage du taux de bonne classification    \n",
    "print(\"Taux de bonne classification sur le dataset train: \", KNN.accuracy(data_train,label_train))   \n",
    "print(\"Taux de bonne classification sur le dataset test: \", KNN.accuracy(data_test,label_test))   \n"
   ]
  },
  {
   "cell_type": "markdown",
   "metadata": {},
   "source": [
    "### Performances du modèle en fonction de $k$ en faisant varier $k$ de $1$ à $20$."
   ]
  },
  {
   "cell_type": "code",
   "execution_count": 172,
   "metadata": {},
   "outputs": [
    {
     "name": "stdout",
     "output_type": "stream",
     "text": [
      "Liste des valeurs de  à tester : [1, 11, 21, 31, 41, 51, 61, 71, 81]\n",
      "Accuracy pour  1 : 0.03773584905660377\n",
      "Accuracy pour  11 : 0.018867924528301886\n",
      "Accuracy pour  21 : 0.03773584905660377\n",
      "Accuracy pour  31 : 0.05660377358490566\n",
      "Accuracy pour  41 : 0.05660377358490566\n",
      "Accuracy pour  51 : 0.03773584905660377\n",
      "Accuracy pour  61 : 0.1320754716981132\n",
      "Accuracy pour  71 : 0.22641509433962265\n",
      "Accuracy pour  81 : 0.5094339622641509\n"
     ]
    }
   ],
   "source": [
    "# on stocke les accuracies dans une liste :\n",
    "accuracies = []\n",
    "\n",
    "# seuil max des valeurs de k à regarder:\n",
    "seuil_k = len(data_train)\n",
    "\n",
    "# toutes les valeurs de k à regarder:\n",
    "valeurs_k = [k for k in range(1,seuil_k+10,10)]\n",
    "\n",
    "print(\"Liste des valeurs de  à tester :\",valeurs_k)\n",
    "\n",
    "for k in valeurs_k:\n",
    "        \n",
    "    KNN = classif.ClassifierKNN(dim,k)\n",
    "    KNN.train(data_train, label_train)\n",
    "    a = KNN.accuracy(data_test, label_test)\n",
    "    accuracies.append(a)\n",
    "    \n",
    "# ---------------------------------------------\n",
    "for i in range(0,len(valeurs_k)):\n",
    "    print(\"Accuracy pour \",valeurs_k[i],\":\",accuracies[i])\n"
   ]
  },
  {
   "cell_type": "markdown",
   "metadata": {},
   "source": [
    "### Accuracy en fonction de la valeur de $k$"
   ]
  },
  {
   "cell_type": "code",
   "execution_count": 173,
   "metadata": {},
   "outputs": [
    {
     "data": {
      "image/png": "[encoded data removed]",
      "text/plain": [
       "<Figure size 432x288 with 1 Axes>"
      ]
     },
     "metadata": {
      "needs_background": "light"
     },
     "output_type": "display_data"
    }
   ],
   "source": [
    "# Tracé de la variation de l'accuracy en fonction de la valeur de k:\n",
    "# \n",
    "# Tracer de la courbe des variations\n",
    "plt.plot(valeurs_k, accuracies, color='r')  \n",
    "plt.ylabel('Accuracy')\n",
    "plt.xlabel(\"k\")\n",
    "plt.show()\n"
   ]
  },
  {
   "cell_type": "markdown",
   "metadata": {},
   "source": [
    "### Étude de la validation croisée"
   ]
  },
  {
   "cell_type": "code",
   "execution_count": 174,
   "metadata": {},
   "outputs": [
    {
     "name": "stdout",
     "output_type": "stream",
     "text": [
      "------ affichage validation croisée\n",
      "Itération 0  : taille base app.= 63  taille base test= 7  Taux de bonne classif: 0.14285714285714285\n",
      "Itération 1  : taille base app.= 63  taille base test= 7  Taux de bonne classif: 0.2857142857142857\n",
      "Itération 2  : taille base app.= 63  taille base test= 7  Taux de bonne classif: 0.42857142857142855\n",
      "Itération 3  : taille base app.= 63  taille base test= 7  Taux de bonne classif: 0.42857142857142855\n",
      "Itération 4  : taille base app.= 63  taille base test= 7  Taux de bonne classif: 0.42857142857142855\n",
      "Itération 5  : taille base app.= 63  taille base test= 7  Taux de bonne classif: 0.2857142857142857\n",
      "Itération 6  : taille base app.= 63  taille base test= 7  Taux de bonne classif: 0.42857142857142855\n",
      "Itération 7  : taille base app.= 63  taille base test= 7  Taux de bonne classif: 0.42857142857142855\n",
      "Itération 8  : taille base app.= 63  taille base test= 7  Taux de bonne classif: 0.42857142857142855\n",
      "Itération 9  : taille base app.= 63  taille base test= 7  Taux de bonne classif: 0.5714285714285714\n",
      "------ fin affichage validation croisée\n",
      "Validation croisée sur ergometer :\n",
      "Perf obtenues :  [0.14285714285714285, 0.2857142857142857, 0.42857142857142855, 0.42857142857142855, 0.42857142857142855, 0.2857142857142857, 0.42857142857142855, 0.42857142857142855, 0.42857142857142855, 0.5714285714285714]\n",
      "Accuracy moyenne: 0.386\técart type: 0.1116\n",
      "Résultat en 0.0192 secondes.\n"
     ]
    }
   ],
   "source": [
    "print(\"------ affichage validation croisée\")\n",
    "\n",
    "#################################\n",
    "\n",
    "# ce qui se passe:\n",
    "tic= time.time()\n",
    "(res_all, res_moy, res_sd) = ev.validation_croisee(KNN, (data_cv, label_cv), 10)\n",
    "toc= time.time()\n",
    "\n",
    "print(\"------ fin affichage validation croisée\")\n",
    "\n",
    "print(\"Validation croisée sur ergometer :\")\n",
    "print(\"Perf obtenues : \",res_all)\n",
    "print(f'Accuracy moyenne: {res_moy:0.3f}\\técart type: {res_sd:0.4f}')\n",
    "print(f'Résultat en {(toc-tic):0.4f} secondes.')"
   ]
  },
  {
   "cell_type": "markdown",
   "metadata": {},
   "source": [
    "## Perceptron de Rosenblatt"
   ]
  },
  {
   "cell_type": "code",
   "execution_count": 175,
   "metadata": {},
   "outputs": [],
   "source": [
    "# ------------------------ COMPLETER LES INSTRUCTIONS DANS CETTE BOITE \n",
    "\n",
    "np.random.seed(42)   # on prend 42 comme graine pour tester\n",
    "\n",
    "# -----\n",
    "# Création d'un perceptron avec initialisation à 0 et le learning_rate ci-dessous:\n",
    "learning_rate = 0.01\n",
    "perceptron = classif.ClassifierPerceptron(dim,learning_rate=learning_rate)"
   ]
  },
  {
   "cell_type": "markdown",
   "metadata": {},
   "source": [
    "### Initialisation aléatoire et convergence"
   ]
  },
  {
   "cell_type": "code",
   "execution_count": 183,
   "metadata": {},
   "outputs": [
    {
     "name": "stdout",
     "output_type": "stream",
     "text": [
      "Nb iterations:  1000\n"
     ]
    },
    {
     "data": {
      "image/png": "[encoded data removed]",
      "text/plain": [
       "<Figure size 432x288 with 1 Axes>"
      ]
     },
     "metadata": {
      "needs_background": "light"
     },
     "output_type": "display_data"
    },
    {
     "name": "stdout",
     "output_type": "stream",
     "text": [
      "Les variations : [114.86699777568839, 114.8669977756884, 114.86699777568843, 114.86699777568842, 114.86699777568829, 114.86699777568822, 114.86699777568822, 114.86699777568825, 114.86699777568835, 114.86699777568833, 114.86699777568829, 114.86699777568829, 114.86699777568829, 114.86699777568829, 114.86699777568828, 114.86699777568829, 114.86699777568828, 114.86699777568872, 114.86699777568893, 114.86699777568896, 114.86699777568896, 114.86699777568896, 114.86699777568896, 114.86699777568896, 114.86699777568896, 114.86699777568896, 114.86699777568896, 114.86699777568896, 114.86699777568896, 114.86699777568894, 114.866997775689, 114.86699777568899, 114.86699777568859, 114.86699777568893, 114.86699777568893, 114.86699777568855, 114.86699777568798, 114.86699777568808, 114.86699777568805, 114.86699777568805, 114.86699777568805, 114.86699777568805, 114.86699777568805, 114.86699777568805, 114.86699777568805, 114.86699777568805, 114.86699777568805, 114.86699777568805, 114.86699777568805, 114.86699777568805, 114.86699777568805, 114.86699777568805, 114.86699777568805, 114.86699777568805, 114.86699777568805, 114.86699777568805, 114.86699777568808, 114.866997775688, 114.86699777568779, 114.86699777568779, 114.86699777568779, 114.86699777568792, 114.86699777568792, 114.86699777568779, 114.8669977756873, 114.86699777568806, 114.86699777568806, 114.86699777568836, 114.86699777568823, 114.86699777568823, 114.86699777568889, 114.86699777568897, 114.86699777568894, 114.86699777568896, 114.86699777568907, 114.86699777568901, 114.86699777568901, 114.86699777568901, 114.86699777568901, 114.86699777568901, 114.86699777568901, 114.86699777568901, 114.86699777568901, 114.86699777568901, 114.86699777568901, 114.86699777568901, 114.86699777568901, 114.86699777568901, 114.86699777568901, 114.86699777568901, 114.86699777568901, 114.86699777568901, 114.86699777568901, 114.86699777568901, 114.86699777568901, 114.86699777568901, 114.86699777568901, 114.86699777568901, 114.86699777568901, 114.86699777568901, 114.86699777568901, 114.86699777568901, 114.86699777568901, 114.86699777568901, 114.86699777568901, 114.86699777568901, 114.86699777568901, 114.86699777568901, 114.86699777568901, 114.86699777568901, 114.86699777568901, 114.86699777568901, 114.86699777568901, 114.86699777568894, 114.86699777568894, 114.86699777568894, 114.86699777568909, 114.86699777568909, 114.86699777568909, 114.86699777568909, 114.86699777568909, 114.86699777568893, 114.86699777568899, 114.86699777568899, 114.86699777568899, 114.86699777568899, 114.86699777568899, 114.86699777568937, 114.8669977756894, 114.8669977756889, 114.8669977756889, 114.8669977756889, 114.8669977756889, 114.8669977756889, 114.86699777568842, 114.8669977756877, 114.8669977756877, 114.8669977756877, 114.8669977756877, 114.8669977756877, 114.86699777568766, 114.866997775691, 114.86699777569171, 114.86699777569171, 114.8669977756917, 114.86699777569171, 114.8669977756917, 114.8669977756918, 114.8669977756917, 114.8669977756917, 114.8669977756917, 114.86699777569183, 114.86699777569186, 114.86699777569186, 114.86699777569186, 114.86699777569186, 114.86699777569186, 114.86699777569186, 114.86699777569186, 114.86699777569186, 114.86699777569186, 114.86699777569186, 114.86699777569186, 114.86699777569186, 114.86699777569186, 114.86699777569186, 114.86699777569186, 114.86699777569186, 114.86699777569186, 114.86699777569186, 114.86699777569186, 114.86699777569186, 114.86699777569186, 114.86699777569186, 114.86699777569186, 114.86699777569186, 114.86699777569186, 114.86699777569186, 114.86699777569186, 114.86699777569186, 114.86699777569186, 114.86699777569186, 114.86699777569186, 114.86699777569186, 114.86699777569186, 114.86699777569186, 114.86699777569186, 114.86699777569186, 114.86699777569186, 114.86699777569186, 114.86699777569186, 114.86699777569186, 114.86699777569186, 114.86699777569186, 114.86699777569186, 114.86699777569186, 114.86699777569186, 114.86699777569186, 114.86699777569186, 114.86699777569186, 114.86699777569186, 114.86699777569186, 114.86699777569186, 114.86699777569186, 114.86699777569186, 114.86699777569186, 114.86699777569186, 114.86699777569186, 114.86699777569186, 114.86699777569186, 114.86699777569186, 114.86699777569186, 114.86699777569186, 114.86699777569186, 114.86699777569186, 114.86699777569186, 114.86699777569186, 114.86699777569186, 114.86699777569186, 114.86699777569186, 114.86699777569186, 114.86699777569186, 114.86699777569186, 114.86699777569186, 114.86699777569186, 114.86699777569183, 114.86699777569194, 114.86699777569194, 114.86699777569194, 114.86699777569194, 114.86699777569137, 114.86699777569137, 114.86699777569137, 114.86699777569137, 114.86699777569137, 114.86699777569137, 114.86699777569137, 114.86699777569137, 114.86699777569137, 114.86699777569137, 114.86699777569137, 114.86699777569137, 114.86699777569103, 114.8669977756909, 114.8669977756909, 114.8669977756909, 114.8669977756909, 114.8669977756909, 114.8669977756909, 114.8669977756909, 114.8669977756909, 114.8669977756909, 114.8669977756909, 114.8669977756909, 114.86699777569103, 114.86699777569083, 114.86699777569083, 114.86699777569083, 114.86699777569083, 114.86699777568583, 114.86699777568583, 114.86699777568583, 114.86699777568583, 114.86699777568583, 114.86699777568583, 114.86699777568583, 114.86699777568583, 114.86699777568583, 114.8669977756868, 114.86699777568656, 114.86699777568656, 114.86699777568656, 114.86699777568656, 114.86699777568656, 114.86699777568656, 114.86699777568656, 114.86699777568656, 114.86699777568656, 114.86699777568656, 114.86699777568663, 114.8669977756867, 114.86699777568624, 114.86699777568647, 114.86699777569002, 114.86699777569014, 114.86699777569014, 114.86699777569014, 114.8669977756903, 114.8669977756903, 114.8669977756903, 114.8669977756903, 114.86699777569032, 114.86699777569042, 114.86699777569042, 114.86699777569042, 114.86699777568998, 114.86699777569063, 114.86699777569063, 114.86699777569063, 114.86699777569063, 114.86699777569063, 114.86699777569063, 114.86699777569042, 114.86699777569048, 114.86699777569048, 114.86699777569048, 114.86699777569048, 114.86699777569048, 114.86699777569048, 114.86699777569048, 114.86699777569048, 114.86699777569048, 114.86699777569048, 114.86699777569048, 114.86699777569048, 114.86699777569048, 114.86699777569048, 114.86699777569048, 114.86699777569048, 114.86699777569048, 114.86699777569048, 114.86699777569048, 114.86699777569048, 114.86699777569048, 114.86699777569048, 114.86699777569048, 114.86699777569048, 114.86699777569048, 114.86699777569048, 114.86699777569048, 114.86699777569048, 114.86699777569048, 114.86699777569048, 114.86699777569048, 114.86699777569048, 114.86699777569048, 114.86699777569048, 114.86699777569048, 114.86699777569048, 114.86699777569048, 114.86699777569048, 114.86699777569048, 114.86699777569048, 114.86699777569048, 114.86699777569048, 114.86699777569048, 114.86699777569048, 114.86699777569048, 114.86699777569048, 114.86699777569048, 114.86699777569048, 114.86699777569048, 114.86699777569048, 114.86699777569048, 114.86699777569048, 114.86699777569048, 114.86699777569048, 114.86699777569048, 114.86699777569048, 114.86699777569048, 114.86699777569048, 114.86699777569048, 114.86699777569048, 114.86699777569048, 114.86699777569048, 114.86699777569048, 114.86699777569048, 114.86699777569048, 114.86699777569048, 114.86699777569048, 114.86699777569048, 114.86699777569048, 114.86699777569048, 114.86699777569048, 114.86699777569048, 114.86699777569048, 114.86699777569048, 114.86699777569048, 114.86699777569048, 114.86699777569048, 114.86699777569048, 114.86699777569048, 114.86699777569048, 114.86699777569048, 114.86699777569048, 114.86699777569048, 114.86699777569048, 114.86699777569048, 114.86699777569048, 114.86699777569048, 114.86699777569048, 114.86699777569048, 114.86699777569048, 114.86699777569048, 114.86699777569048, 114.86699777569048, 114.86699777569048, 114.86699777569048, 114.86699777569048, 114.86699777569048, 114.86699777569048, 114.86699777569048, 114.86699777569048, 114.86699777569048, 114.86699777569048, 114.86699777569048, 114.86699777569048, 114.86699777569048, 114.86699777569048, 114.86699777569048, 114.86699777569048, 114.86699777569048, 114.86699777569048, 114.86699777569048, 114.86699777569048, 114.86699777569048, 114.86699777569048, 114.86699777569048, 114.86699777569048, 114.86699777569048, 114.86699777569048, 114.86699777569048, 114.86699777569048, 114.86699777569048, 114.86699777569048, 114.86699777569048, 114.86699777569048, 114.86699777569048, 114.86699777569048, 114.86699777569048, 114.86699777569048, 114.86699777569048, 114.86699777569048, 114.86699777569048, 114.86699777569048, 114.86699777569048, 114.86699777569048, 114.86699777569048, 114.86699777569048, 114.86699777569048, 114.86699777569048, 114.86699777569048, 114.86699777569048, 114.86699777569048, 114.86699777569048, 114.86699777569048, 114.86699777569048, 114.86699777569048, 114.86699777569048, 114.86699777569048, 114.86699777569048, 114.86699777569045, 114.86699777569045, 114.86699777569045, 114.86699777569045, 114.86699777569045, 114.86699777569045, 114.86699777569045, 114.86699777569045, 114.86699777569045, 114.86699777568933, 114.86699777568988, 114.86699777568988, 114.86699777568988, 114.86699777568988, 114.86699777568988, 114.86699777568988, 114.86699777568988, 114.86699777568988, 114.86699777568988, 114.86699777568988, 114.86699777568988, 114.86699777568988, 114.86699777568988, 114.86699777568988, 114.86699777568988, 114.86699777568988, 114.86699777568988, 114.86699777568988, 114.86699777568988, 114.86699777568988, 114.86699777568988, 114.86699777568988, 114.86699777568988, 114.86699777569001, 114.86699777569001, 114.86699777569001, 114.86699777569001, 114.86699777569001, 114.86699777569001, 114.86699777569001, 114.86699777569001, 114.86699777569001, 114.86699777569001, 114.86699777569001, 114.86699777569001, 114.86699777569001, 114.86699777569001, 114.86699777569001, 114.86699777569001, 114.86699777569001, 114.86699777569001, 114.86699777569001, 114.86699777569001, 114.86699777569001, 114.86699777569001, 114.86699777569001, 114.86699777569001, 114.86699777569027, 114.86699777569193, 114.86699777569193, 114.86699777569193, 114.86699777569193, 114.86699777569193, 114.86699777569193, 114.86699777569193, 114.86699777569193, 114.86699777569193, 114.86699777570794, 114.86699777570794, 114.86699777570794, 114.86699777570794, 114.86699777570794, 114.86699777570794, 114.86699777570794, 114.86699777570794, 114.86699777570794, 114.86699777570794, 114.86699777570794, 114.86699777570794, 114.86699777570794, 114.86699777570794, 114.86699777570794, 114.86699777570794, 114.86699777570794, 114.86699777570794, 114.86699777570794, 114.86699777570794, 114.86699777570651, 114.86699777570651, 114.86699777570651, 114.86699777570651, 114.86699777570651, 114.86699777570651, 114.86699777570651, 114.86699777570651, 114.86699777570651, 114.86699777570651, 114.86699777570651, 114.86699777570651, 114.86699777570651, 114.86699777570651, 114.86699777570651, 114.86699777570651, 114.86699777570651, 114.86699777570651, 114.86699777570651, 114.86699777570651, 114.86699777570651, 114.86699777570658, 114.86699777570658, 114.86699777570658, 114.86699777570612, 114.86699777570658, 114.86699777569372, 114.86699777568728, 114.8669977756867, 114.86699777568704, 114.86699777568704, 114.86699777568704, 114.86699777568704, 114.86699777568704, 114.86699777568704, 114.86699777568714, 114.86699777568708, 114.86699777568708, 114.86699777568708, 114.86699777568708, 114.86699777568708, 114.86699777568708, 114.86699777568708, 114.86699777568708, 114.86699777568708, 114.86699777568703, 114.86699777568708, 114.86699777568708, 114.86699777568708, 114.86699777568708, 114.86699777568708, 114.86699777568708, 114.86699777568708, 114.86699777568488, 114.86699777568532, 114.86699777568532, 114.86699777568532, 114.86699777568532, 114.86699777568532, 114.86699777568532, 114.86699777568532, 114.86699777568532, 114.86699777568532, 114.86699777568532, 114.86699777568532, 114.86699777568532, 114.86699777568553, 114.86699777568553, 114.86699777568553, 114.86699777568553, 114.86699777568553, 114.86699777568553, 114.86699777568553, 114.86699777568553, 114.86699777568553, 114.86699777568553, 114.86699777568553, 114.86699777568553, 114.86699777568553, 114.86699777568553, 114.86699777568553, 114.86699777568553, 114.86699777568553, 114.86699777568553, 114.86699777568553, 114.86699777568553, 114.86699777568553, 114.86699777568553, 114.86699777568553, 114.86699777568553, 114.86699777568553, 114.86699777568553, 114.86699777568553, 114.86699777568553, 114.86699777568553, 114.86699777568553, 114.86699777568553, 114.86699777568553, 114.86699777568553, 114.86699777568553, 114.86699777568553, 114.86699777568553, 114.86699777568553, 114.86699777568553, 114.86699777568553, 114.86699777568553, 114.86699777568553, 114.86699777568553, 114.86699777568553, 114.86699777568553, 114.86699777568553, 114.86699777568553, 114.86699777568553, 114.86699777568553, 114.86699777568553, 114.86699777568553, 114.86699777568553, 114.86699777568553, 114.86699777568553, 114.86699777568553, 114.86699777568553, 114.86699777568553, 114.86699777568553, 114.86699777568553, 114.86699777568553, 114.86699777568553, 114.86699777568553, 114.86699777568553, 114.86699777568553, 114.86699777568553, 114.86699777568553, 114.86699777568553, 114.86699777568553, 114.86699777568553, 114.86699777568553, 114.86699777568553, 114.86699777568553, 114.86699777568553, 114.86699777568553, 114.86699777568553, 114.86699777568553, 114.86699777568553, 114.86699777568553, 114.86699777568553, 114.86699777568553, 114.86699777568553, 114.86699777568553, 114.86699777568553, 114.86699777568553, 114.86699777568553, 114.86699777568553, 114.86699777568553, 114.86699777568553, 114.86699777568553, 114.86699777568553, 114.86699777568553, 114.86699777568553, 114.86699777568553, 114.86699777568553, 114.86699777568553, 114.86699777568553, 114.86699777568553, 114.86699777568553, 114.86699777568553, 114.86699777568553, 114.86699777568553, 114.86699777568553, 114.86699777568553, 114.86699777568553, 114.86699777568553, 114.86699777568553, 114.86699777568553, 114.86699777568553, 114.86699777568553, 114.86699777568553, 114.86699777568553, 114.86699777568553, 114.86699777568553, 114.86699777568553, 114.86699777568553, 114.86699777568553, 114.86699777568553, 114.86699777568553, 114.86699777568553, 114.86699777568553, 114.86699777568553, 114.86699777568553, 114.86699777568553, 114.86699777568553, 114.86699777568553, 114.86699777568553, 114.86699777568553, 114.86699777568553, 114.86699777568553, 114.86699777568553, 114.86699777568553, 114.86699777568553, 114.86699777568553, 114.86699777568553, 114.86699777568553, 114.86699777568553, 114.86699777568553, 114.86699777568553, 114.86699777568553, 114.86699777568553, 114.86699777568553, 114.86699777568553, 114.86699777568553, 114.86699777568553, 114.86699777568553, 114.86699777568553, 114.86699777568553, 114.86699777568553, 114.86699777568553, 114.86699777568553, 114.86699777568553, 114.86699777568553, 114.86699777568553, 114.86699777568553, 114.86699777568553, 114.86699777568553, 114.86699777568553, 114.86699777568553, 114.86699777568553, 114.86699777568553, 114.86699777568553, 114.86699777568553, 114.86699777568553, 114.86699777568553, 114.86699777568553, 114.86699777568553, 114.86699777568553, 114.86699777568553, 114.86699777568553, 114.86699777568553, 114.86699777568553, 114.86699777568553, 114.86699777568553, 114.86699777568553, 114.86699777568553, 114.86699777568553, 114.86699777568553, 114.86699777568553, 114.86699777568553, 114.86699777568553, 114.86699777568553, 114.86699777568553, 114.86699777568553, 114.86699777568553, 114.86699777568553, 114.86699777568553, 114.86699777568553, 114.86699777568553, 114.86699777568553, 114.86699777568553, 114.86699777568553, 114.86699777568553, 114.86699777568553, 114.86699777568553, 114.86699777568553, 114.86699777568553, 114.86699777568553, 114.86699777568553, 114.86699777568553, 114.86699777568553, 114.86699777568553, 114.86699777568553, 114.86699777568553, 114.86699777568553, 114.86699777568553, 114.86699777568553, 114.86699777568553, 114.86699777568553, 114.86699777568553, 114.86699777568553, 114.86699777568553, 114.86699777568553, 114.86699777568553, 114.86699777568553, 114.86699777568553, 114.86699777568553, 114.86699777568553, 114.86699777568553, 114.86699777568553, 114.86699777568553, 114.86699777568553, 114.86699777568553, 114.86699777568553, 114.86699777568553, 114.86699777568553, 114.86699777568553, 114.86699777568553, 114.86699777568553, 114.86699777568553, 114.86699777568553, 114.86699777568553, 114.86699777568553, 114.86699777568553, 114.86699777568553, 114.86699777568553, 114.86699777568553, 114.86699777568553, 114.86699777568553, 114.86699777568553, 114.86699777568553, 114.86699777568553, 114.86699777568553, 114.86699777568553, 114.86699777568553, 114.86699777568553, 114.86699777568553, 114.86699777568553, 114.86699777568553, 114.86699777568553, 114.86699777568553, 114.86699777568553, 114.86699777568553, 114.86699777568553, 114.86699777568553, 114.86699777568553, 114.86699777568553, 114.86699777568553, 114.86699777568553, 114.86699777568553, 114.86699777568553, 114.86699777568553, 114.86699777568553, 114.86699777568553, 114.86699777568553, 114.86699777568553, 114.86699777568553, 114.86699777568553, 114.86699777568553, 114.86699777568553, 114.86699777568553, 114.86699777568553, 114.86699777568553, 114.86699777568553, 114.86699777568553, 114.86699777568553, 114.86699777568553, 114.86699777568553, 114.86699777568553, 114.86699777568553, 114.86699777568553, 114.86699777568553, 114.86699777568553, 114.86699777568553, 114.86699777568553, 114.86699777568553, 114.86699777568553, 114.86699777568553, 114.86699777568553, 114.86699777568553, 114.86699777568553, 114.86699777568553, 114.86699777568553, 114.86699777568553, 114.86699777568553, 114.86699777568553, 114.86699777568553, 114.86699777568553, 114.86699777568553, 114.86699777568553, 114.8669977756856, 114.86699777568553, 114.86699777568553, 114.86699777568553, 114.86699777568553, 114.86699777568553, 114.86699777568553, 114.86699777568553, 114.86699777568553, 114.86699777568553, 114.86699777568553, 114.86699777568553, 114.86699777568553, 114.86699777568553, 114.86699777568553, 114.86699777568553, 114.86699777568553, 114.86699777568553, 114.86699777568553, 114.86699777568553, 114.86699777569004, 114.86699777569004, 114.86699777569004, 114.86699777569004, 114.86699777569004, 114.86699777569004, 114.86699777569004, 114.86699777569004, 114.86699777569004, 114.86699777569004, 114.86699777569004, 114.86699777569004, 114.86699777569004, 114.86699777569004, 114.86699777569004, 114.86699777569004, 114.86699777569004, 114.86699777569004, 114.86699777569004, 114.86699777569004, 114.86699777569004, 114.86699777569004, 114.86699777569004, 114.86699777569004, 114.86699777569004, 114.86699777569004, 114.86699777569004, 114.86699777569004, 114.86699777569004, 114.86699777569004, 114.86699777569004, 114.86699777569004, 114.86699777569004, 114.86699777569004, 114.86699777569004, 114.86699777569004, 114.86699777569004, 114.86699777569004, 114.86699777569004, 114.86699777569004, 114.86699777569004, 114.86699777569004, 114.86699777569004, 114.86699777569004, 114.86699777569004, 114.86699777569004, 114.86699777568923, 114.86699777568923, 114.86699777568923, 114.86699777568923, 114.86699777568923, 114.86699777568923, 114.86699777568923, 114.86699777568923, 114.86699777568923, 114.86699777568923, 114.86699777568923, 114.86699777568923, 114.86699777568923, 114.86699777568923, 114.86699777568923, 114.86699777568923, 114.86699777568923, 114.86699777568923, 114.86699777568923, 114.86699777568923, 114.86699777568923, 114.86699777568923, 114.86699777568923, 114.86699777568923, 114.86699777568923, 114.86699777568923, 114.86699777568923, 114.86699777568923, 114.86699777568923, 114.86699777568923, 114.86699777568923, 114.86699777568923]\n",
      "Accuracy finale (train):  0.3333333333333333\n",
      "Accuracy finale (test) :  0.5094339622641509\n"
     ]
    }
   ],
   "source": [
    "# ------------------------ COMPLETER LES INSTRUCTIONS DANS CETTE BOITE \n",
    "\n",
    "np.random.seed(42)   # on prend 42 comme graine\n",
    "\n",
    "# Création d'un perceptron avec initialisation aléatoire et le learning_rate ci-dessous:\n",
    "learning_rate = 0.01\n",
    "perceptron = classif.ClassifierPerceptron(dim, learning_rate=learning_rate, init=True)\n",
    "\n",
    "# Apprentissage du perceptron\n",
    "les_variations = perceptron.train(data_train,label_train,nb_max=1000)\n",
    "print(\"Nb iterations: \", len(les_variations))\n",
    "\n",
    "\n",
    "# Traçage de la courbe des variations\n",
    "plt.plot(range(1,len(les_variations)+1),les_variations)  \n",
    "plt.ylabel('Différence')\n",
    "plt.xlabel(\"Etape\")\n",
    "plt.show()\n",
    "\n",
    "L_test = perceptron.train(data_test, label_test)\n",
    "print(\"Les variations :\", les_variations)\n",
    "print(\"Accuracy finale (train): \", perceptron.accuracy(data_train, label_train))\n",
    "print(\"Accuracy finale (test) : \", perceptron.accuracy(data_test, label_test))"
   ]
  },
  {
   "cell_type": "markdown",
   "metadata": {},
   "source": [
    "### Impact du learning rate"
   ]
  },
  {
   "cell_type": "markdown",
   "metadata": {},
   "source": [
    "Pour $\\alpha=0.1$ : "
   ]
  },
  {
   "cell_type": "code",
   "execution_count": 184,
   "metadata": {},
   "outputs": [
    {
     "name": "stdout",
     "output_type": "stream",
     "text": [
      "Nb iterations:  1000\n"
     ]
    },
    {
     "data": {
      "image/png": "[encoded data removed]",
      "text/plain": [
       "<Figure size 432x288 with 1 Axes>"
      ]
     },
     "metadata": {
      "needs_background": "light"
     },
     "output_type": "display_data"
    },
    {
     "name": "stdout",
     "output_type": "stream",
     "text": [
      "Les variations : [1148.669977756884, 1148.6699777568838, 1148.6699777568838, 1148.6699777568856, 1148.6699777568865, 1148.6699777568865, 1148.6699777568856, 1148.6699777568829, 1148.669977756883, 1148.669977756883, 1148.669977756883, 1148.6699777568822, 1148.669977756882, 1148.6699777568842, 1148.669977756878, 1148.669977756878, 1148.669977756878, 1148.669977756878, 1148.669977756878, 1148.669977756878, 1148.669977756878, 1148.669977756878, 1148.6699777568783, 1148.6699777568797, 1148.6699777568797, 1148.6699777568792, 1148.669977756872, 1148.6699777568724, 1148.669977756875, 1148.6699777568756, 1148.6699777568751, 1148.6699777568754, 1148.6699777568754, 1148.6699777568754, 1148.6699777568754, 1148.6699777568754, 1148.6699777568754, 1148.6699777568754, 1148.6699777568754, 1148.6699777568754, 1148.6699777568754, 1148.6699777568754, 1148.6699777568754, 1148.6699777568754, 1148.6699777568754, 1148.6699777568751, 1148.669977756873, 1148.6699777568726, 1148.6699777568726, 1148.6699777568726, 1148.6699777568726, 1148.6699777568735, 1148.6699777568815, 1148.6699777568815, 1148.669977756884, 1148.669977756884, 1148.6699777568942, 1148.6699777569065, 1148.6699777569065, 1148.6699777569056, 1148.6699777569056, 1148.6699777569056, 1148.6699777569056, 1148.6699777569056, 1148.6699777569056, 1148.6699777569056, 1148.6699777569056, 1148.6699777569056, 1148.6699777569056, 1148.6699777569056, 1148.6699777569056, 1148.6699777569056, 1148.6699777569056, 1148.6699777569056, 1148.6699777569056, 1148.6699777569056, 1148.6699777569056, 1148.6699777569056, 1148.6699777569056, 1148.6699777569056, 1148.6699777569056, 1148.6699777569056, 1148.6699777569056, 1148.6699777569056, 1148.6699777569056, 1148.6699777569056, 1148.6699777569056, 1148.6699777569056, 1148.6699777569056, 1148.6699777569056, 1148.6699777569052, 1148.6699777569052, 1148.6699777569052, 1148.6699777569063, 1148.6699777569063, 1148.6699777569063, 1148.6699777569065, 1148.6699777569072, 1148.6699777569072, 1148.6699777569072, 1148.6699777569072, 1148.6699777569072, 1148.6699777569097, 1148.6699777569215, 1148.6699777569336, 1148.6699777569336, 1148.6699777569336, 1148.6699777569318, 1148.6699777569327, 1148.6699777569327, 1148.6699777569327, 1148.6699777569327, 1148.669977756926, 1148.6699777569188, 1148.6699777569208, 1148.6699777569208, 1148.669977756921, 1148.6699777569208, 1148.6699777569245, 1148.6699777569245, 1148.6699777569252, 1148.6699777569247, 1148.6699777569247, 1148.6699777569247, 1148.6699777569247, 1148.6699777569247, 1148.6699777569247, 1148.6699777569247, 1148.6699777569247, 1148.6699777569247, 1148.6699777569247, 1148.6699777569247, 1148.6699777569247, 1148.6699777569247, 1148.6699777569247, 1148.6699777569247, 1148.6699777569247, 1148.6699777569247, 1148.6699777569247, 1148.6699777569247, 1148.6699777569247, 1148.6699777569247, 1148.6699777569247, 1148.6699777569247, 1148.6699777569247, 1148.6699777569247, 1148.6699777569247, 1148.6699777569247, 1148.6699777569247, 1148.6699777569247, 1148.6699777569247, 1148.6699777569247, 1148.6699777569247, 1148.6699777569247, 1148.6699777569247, 1148.6699777569247, 1148.6699777569247, 1148.6699777569247, 1148.6699777569247, 1148.6699777569247, 1148.6699777569247, 1148.6699777569247, 1148.6699777569247, 1148.6699777569247, 1148.6699777569247, 1148.6699777569247, 1148.6699777569247, 1148.6699777569247, 1148.6699777569247, 1148.6699777569247, 1148.6699777569247, 1148.6699777569247, 1148.6699777569247, 1148.6699777569247, 1148.6699777569247, 1148.6699777569247, 1148.6699777569247, 1148.6699777569247, 1148.6699777569247, 1148.6699777569247, 1148.6699777569247, 1148.669977756925, 1148.669977756925, 1148.669977756925, 1148.669977756936, 1148.669977756936, 1148.669977756936, 1148.669977756936, 1148.669977756936, 1148.669977756936, 1148.669977756936, 1148.669977756936, 1148.669977756936, 1148.669977756936, 1148.669977756936, 1148.669977756936, 1148.669977756936, 1148.669977756936, 1148.669977756936, 1148.669977756936, 1148.669977756936, 1148.669977756936, 1148.669977756936, 1148.669977756937, 1148.6699777569402, 1148.6699777569402, 1148.6699777569402, 1148.6699777569322, 1148.6699777569, 1148.6699777569, 1148.6699777569, 1148.6699777569, 1148.6699777569, 1148.6699777569, 1148.6699777569, 1148.6699777568883, 1148.6699777568904, 1148.6699777568904, 1148.6699777568904, 1148.6699777568904, 1148.6699777568904, 1148.6699777568904, 1148.6699777568904, 1148.6699777568901, 1148.6699777568901, 1148.6699777568406, 1148.6699777567997, 1148.6699777567987, 1148.6699777567987, 1148.669977756799, 1148.669977756799, 1148.669977756799, 1148.669977756799, 1148.6699777567997, 1148.6699777567999, 1148.6699777567999, 1148.6699777567947, 1148.6699777568017, 1148.6699777568017, 1148.6699777568017, 1148.6699777568017, 1148.6699777568017, 1148.6699777568012, 1148.6699777568012, 1148.6699777568012, 1148.6699777568012, 1148.6699777568012, 1148.6699777568012, 1148.6699777568012, 1148.6699777568012, 1148.6699777568012, 1148.6699777568012, 1148.6699777568012, 1148.6699777568012, 1148.6699777568012, 1148.6699777568012, 1148.6699777568012, 1148.6699777568012, 1148.6699777568012, 1148.6699777568012, 1148.6699777568012, 1148.6699777568012, 1148.6699777568012, 1148.6699777568012, 1148.6699777568012, 1148.6699777568012, 1148.6699777568012, 1148.6699777568012, 1148.6699777568012, 1148.6699777568012, 1148.6699777568012, 1148.6699777568012, 1148.6699777568012, 1148.6699777568012, 1148.6699777568012, 1148.6699777568012, 1148.6699777568012, 1148.6699777568012, 1148.6699777568012, 1148.6699777568012, 1148.6699777568012, 1148.6699777568012, 1148.6699777568012, 1148.6699777568012, 1148.6699777568012, 1148.6699777568012, 1148.6699777568012, 1148.6699777568012, 1148.6699777568012, 1148.6699777568012, 1148.6699777568012, 1148.6699777568012, 1148.6699777568012, 1148.6699777568012, 1148.6699777568012, 1148.6699777568012, 1148.6699777568012, 1148.6699777568012, 1148.6699777568012, 1148.6699777568012, 1148.6699777568012, 1148.6699777568012, 1148.6699777568012, 1148.6699777568012, 1148.6699777568012, 1148.6699777568012, 1148.6699777568012, 1148.6699777568012, 1148.6699777568012, 1148.6699777568012, 1148.6699777568012, 1148.6699777568012, 1148.6699777568012, 1148.6699777568012, 1148.6699777568012, 1148.6699777568012, 1148.6699777568012, 1148.6699777568012, 1148.6699777568012, 1148.6699777568012, 1148.6699777568012, 1148.6699777568012, 1148.6699777568012, 1148.6699777568012, 1148.6699777568012, 1148.6699777568012, 1148.6699777568012, 1148.6699777568012, 1148.6699777568012, 1148.6699777568012, 1148.6699777568012, 1148.6699777568012, 1148.6699777568012, 1148.6699777568012, 1148.6699777568012, 1148.6699777568012, 1148.6699777568012, 1148.6699777568012, 1148.6699777568012, 1148.6699777568012, 1148.6699777568012, 1148.6699777568012, 1148.6699777568012, 1148.6699777568012, 1148.6699777568012, 1148.6699777568012, 1148.6699777568012, 1148.6699777568012, 1148.6699777568012, 1148.6699777568012, 1148.6699777568012, 1148.6699777568012, 1148.6699777568012, 1148.6699777568012, 1148.6699777568012, 1148.6699777568012, 1148.6699777568012, 1148.6699777568012, 1148.6699777568012, 1148.6699777568012, 1148.669977756802, 1148.6699777568035, 1148.6699777568035, 1148.6699777568035, 1148.6699777568035, 1148.6699777568035, 1148.6699777568035, 1148.6699777568035, 1148.66997775679, 1148.669977756799, 1148.669977756799, 1148.669977756799, 1148.669977756799, 1148.669977756799, 1148.669977756799, 1148.669977756799, 1148.669977756799, 1148.669977756799, 1148.669977756799, 1148.669977756799, 1148.669977756799, 1148.669977756799, 1148.669977756799, 1148.669977756799, 1148.669977756799, 1148.669977756799, 1148.669977756799, 1148.6699777567978, 1148.6699777567947, 1148.6699777567947, 1148.6699777567947, 1148.6699777567947, 1148.6699777567947, 1148.6699777567947, 1148.6699777567947, 1148.6699777567947, 1148.6699777567947, 1148.6699777567947, 1148.6699777567947, 1148.6699777567947, 1148.6699777567947, 1148.6699777567947, 1148.6699777567947, 1148.6699777567947, 1148.6699777567947, 1148.6699777567947, 1148.6699777567947, 1148.6699777567876, 1148.6699777567853, 1148.6699777567853, 1148.6699777567853, 1148.6699777567853, 1148.6699777567853, 1148.6699777567853, 1148.6699777568656, 1148.6699777568977, 1148.6699777568977, 1148.6699777568977, 1148.6699777568977, 1148.6699777568977, 1148.6699777568977, 1148.6699777568977, 1148.6699777568977, 1148.6699777568977, 1148.6699777568977, 1148.6699777568977, 1148.6699777568977, 1148.6699777568977, 1148.6699777568977, 1148.6699777568977, 1148.6699777569015, 1148.6699777569015, 1148.6699777569015, 1148.6699777569015, 1148.6699777569015, 1148.6699777569015, 1148.6699777569015, 1148.6699777569015, 1148.6699777569015, 1148.6699777569015, 1148.6699777569015, 1148.6699777569015, 1148.6699777569015, 1148.6699777569015, 1148.6699777569015, 1148.6699777569015, 1148.6699777569015, 1148.6699777569027, 1148.6699777569027, 1148.6699777569027, 1148.6699777569027, 1148.6699777569688, 1148.6699777569754, 1148.6699777569495, 1148.6699777569495, 1148.6699777569495, 1148.6699777569495, 1148.6699777569495, 1148.6699777569495, 1148.6699777569488, 1148.6699777569488, 1148.6699777569488, 1148.6699777569488, 1148.6699777569488, 1148.6699777569488, 1148.6699777569488, 1148.6699777569488, 1148.6699777569488, 1148.6699777569488, 1148.6699777569488, 1148.6699777569488, 1148.6699777569488, 1148.6699777569488, 1148.6699777569347, 1148.6699777569347, 1148.6699777569347, 1148.6699777569347, 1148.6699777569347, 1148.6699777569347, 1148.6699777569347, 1148.6699777569347, 1148.6699777569347, 1148.6699777569347, 1148.6699777569331, 1148.669977756934, 1148.669977756934, 1148.669977756934, 1148.669977756934, 1148.669977756934, 1148.669977756934, 1148.669977756934, 1148.669977756934, 1148.669977756934, 1148.669977756934, 1148.669977756934, 1148.669977756934, 1148.669977756934, 1148.669977756934, 1148.669977756934, 1148.669977756934, 1148.669977756934, 1148.669977756934, 1148.669977756934, 1148.669977756934, 1148.669977756934, 1148.669977756934, 1148.669977756934, 1148.669977756934, 1148.669977756934, 1148.669977756934, 1148.669977756934, 1148.669977756934, 1148.669977756934, 1148.669977756934, 1148.669977756934, 1148.669977756934, 1148.669977756934, 1148.669977756934, 1148.669977756934, 1148.669977756934, 1148.669977756934, 1148.669977756934, 1148.669977756934, 1148.669977756934, 1148.669977756934, 1148.669977756934, 1148.669977756934, 1148.669977756934, 1148.669977756934, 1148.669977756934, 1148.669977756934, 1148.669977756934, 1148.669977756934, 1148.669977756934, 1148.669977756934, 1148.669977756934, 1148.669977756934, 1148.669977756934, 1148.669977756934, 1148.669977756934, 1148.669977756934, 1148.669977756934, 1148.669977756934, 1148.669977756934, 1148.669977756934, 1148.669977756934, 1148.669977756934, 1148.669977756934, 1148.669977756934, 1148.669977756934, 1148.669977756934, 1148.669977756934, 1148.669977756934, 1148.669977756934, 1148.669977756934, 1148.669977756934, 1148.669977756934, 1148.669977756934, 1148.669977756934, 1148.669977756934, 1148.669977756934, 1148.669977756934, 1148.669977756934, 1148.669977756934, 1148.669977756934, 1148.669977756934, 1148.669977756934, 1148.669977756934, 1148.669977756934, 1148.669977756934, 1148.669977756934, 1148.669977756934, 1148.669977756934, 1148.669977756934, 1148.669977756934, 1148.669977756934, 1148.669977756934, 1148.669977756934, 1148.669977756934, 1148.669977756934, 1148.669977756934, 1148.669977756934, 1148.669977756934, 1148.669977756934, 1148.669977756934, 1148.669977756934, 1148.669977756934, 1148.669977756934, 1148.669977756934, 1148.669977756934, 1148.669977756934, 1148.669977756934, 1148.669977756934, 1148.669977756934, 1148.669977756934, 1148.669977756934, 1148.669977756934, 1148.669977756934, 1148.669977756934, 1148.669977756934, 1148.669977756934, 1148.669977756934, 1148.669977756934, 1148.669977756934, 1148.669977756934, 1148.669977756934, 1148.669977756934, 1148.669977756934, 1148.669977756934, 1148.669977756934, 1148.669977756934, 1148.669977756934, 1148.669977756934, 1148.669977756934, 1148.669977756934, 1148.669977756934, 1148.669977756934, 1148.669977756934, 1148.669977756934, 1148.669977756934, 1148.669977756934, 1148.669977756934, 1148.669977756934, 1148.669977756934, 1148.669977756934, 1148.669977756934, 1148.669977756934, 1148.669977756934, 1148.669977756934, 1148.669977756934, 1148.669977756934, 1148.669977756934, 1148.669977756934, 1148.669977756934, 1148.669977756934, 1148.669977756934, 1148.669977756934, 1148.669977756934, 1148.669977756934, 1148.669977756934, 1148.669977756934, 1148.669977756934, 1148.669977756934, 1148.669977756934, 1148.669977756934, 1148.669977756934, 1148.669977756934, 1148.669977756934, 1148.669977756934, 1148.669977756934, 1148.669977756934, 1148.669977756934, 1148.669977756934, 1148.669977756934, 1148.669977756934, 1148.669977756934, 1148.669977756934, 1148.669977756934, 1148.669977756934, 1148.669977756934, 1148.669977756934, 1148.669977756934, 1148.669977756934, 1148.669977756934, 1148.669977756934, 1148.669977756934, 1148.669977756934, 1148.669977756934, 1148.669977756934, 1148.669977756934, 1148.669977756934, 1148.669977756934, 1148.669977756934, 1148.669977756934, 1148.669977756934, 1148.669977756934, 1148.669977756934, 1148.669977756934, 1148.669977756934, 1148.669977756934, 1148.669977756934, 1148.669977756934, 1148.669977756934, 1148.669977756934, 1148.669977756934, 1148.669977756934, 1148.669977756934, 1148.669977756934, 1148.669977756934, 1148.669977756934, 1148.669977756934, 1148.669977756934, 1148.669977756934, 1148.669977756934, 1148.669977756934, 1148.669977756934, 1148.669977756934, 1148.669977756934, 1148.669977756934, 1148.669977756934, 1148.669977756934, 1148.669977756934, 1148.669977756934, 1148.669977756934, 1148.669977756934, 1148.669977756934, 1148.669977756934, 1148.669977756934, 1148.669977756934, 1148.669977756934, 1148.669977756934, 1148.669977756934, 1148.669977756934, 1148.669977756934, 1148.669977756934, 1148.669977756934, 1148.669977756934, 1148.669977756934, 1148.669977756934, 1148.669977756934, 1148.669977756934, 1148.6699777569333, 1148.6699777569333, 1148.6699777569333, 1148.6699777569333, 1148.6699777569333, 1148.6699777569333, 1148.6699777569333, 1148.6699777569333, 1148.6699777569333, 1148.6699777569333, 1148.6699777569333, 1148.6699777569333, 1148.6699777569333, 1148.6699777569333, 1148.6699777569333, 1148.6699777569333, 1148.6699777569963, 1148.6699777569875, 1148.6699777569875, 1148.6699777569875, 1148.6699777569875, 1148.6699777569875, 1148.6699777569875, 1148.6699777569875, 1148.6699777569875, 1148.6699777569875, 1148.6699777569875, 1148.6699777569875, 1148.6699777569875, 1148.6699777569875, 1148.6699777569875, 1148.6699777569875, 1148.6699777569875, 1148.6699777569875, 1148.6699777569875, 1148.6699777569875, 1148.6699777569875, 1148.6699777569875, 1148.6699777569875, 1148.6699777569875, 1148.6699777569875, 1148.6699777569875, 1148.6699777569875, 1148.6699777569875, 1148.6699777569875, 1148.6699777569875, 1148.6699777569875, 1148.6699777569875, 1148.6699777569875, 1148.6699777569875, 1148.6699777569875, 1148.6699777569875, 1148.6699777569875, 1148.6699777569875, 1148.6699777569831, 1148.6699777569875, 1148.6699777569875, 1148.6699777569875, 1148.6699777569875, 1148.6699777569875, 1148.6699777569875, 1148.6699777569875, 1148.6699777569875, 1148.6699777569875, 1148.6699777569875, 1148.6699777569875, 1148.6699777569875, 1148.6699777569875, 1148.6699777569875, 1148.6699777569875, 1148.6699777569875, 1148.6699777569875, 1148.6699777569875, 1148.6699777569875, 1148.6699777569875, 1148.6699777569875, 1148.6699777569875, 1148.6699777569875, 1148.6699777569875, 1148.6699777569875, 1148.6699777569875, 1148.6699777569875, 1148.6699777569875, 1148.6699777569875, 1148.6699777569875, 1148.6699777569875, 1148.6699777569875, 1148.6699777569875, 1148.6699777569875, 1148.6699777569875, 1148.6699777569875, 1148.6699777569875, 1148.6699777569875, 1148.6699777569731, 1148.669977756971, 1148.669977756971, 1148.669977756971, 1148.669977756971, 1148.669977756971, 1148.669977756971, 1148.669977756971, 1148.669977756971, 1148.669977756971, 1148.669977756971, 1148.669977756971, 1148.669977756971, 1148.669977756971, 1148.669977756939, 1148.6699777567146, 1148.6699777567146, 1148.6699777567146, 1148.6699777567146, 1148.6699777567146, 1148.6699777567146, 1148.6699777567146, 1148.6699777567146, 1148.6699777567146, 1148.6699777567146, 1148.6699777567146, 1148.6699777567146, 1148.6699777567146, 1148.6699777567146, 1148.6699777567146, 1148.6699777567146, 1148.6699777567146, 1148.6699777567146, 1148.6699777567146, 1148.6699777567146, 1148.6699777567146, 1148.6699777567146, 1148.6699777567146, 1148.6699777567146, 1148.6699777567146, 1148.6699777567146, 1148.6699777567146, 1148.6699777567146, 1148.6699777567146, 1148.6699777567146, 1148.6699777567146, 1148.6699777567378, 1148.6699777567533, 1148.6699777567533, 1148.6699777567533, 1148.6699777567533, 1148.6699777567533, 1148.6699777567533, 1148.6699777567533, 1148.6699777567533, 1148.6699777567533, 1148.6699777567533, 1148.6699777567533, 1148.6699777567533, 1148.6699777567533, 1148.6699777567533, 1148.6699777567533, 1148.6699777567533, 1148.6699777567533, 1148.6699777567533, 1148.6699777567533, 1148.6699777567533, 1148.6699777567533, 1148.6699777567533, 1148.6699777567533, 1148.6699777567533, 1148.6699777567533, 1148.6699777567533, 1148.6699777567533, 1148.6699777567533, 1148.6699777567533, 1148.6699777567533, 1148.6699777567533, 1148.6699777567533, 1148.6699777567533, 1148.6699777567542, 1148.6699777567537, 1148.6699777567537, 1148.6699777567537, 1148.6699777567537, 1148.6699777567537, 1148.6699777567464, 1148.6699777567758, 1148.6699777567758, 1148.6699777570996, 1148.6699777570996, 1148.669977757114, 1148.6699777571198, 1148.6699777571198, 1148.6699777571198, 1148.6699777571198, 1148.6699777571198, 1148.6699777571198, 1148.6699777571198, 1148.6699777571198, 1148.6699777571198, 1148.6699777571198, 1148.6699777571198, 1148.6699777571198, 1148.6699777571189, 1148.6699777571189, 1148.6699777571189, 1148.6699777571189, 1148.6699777571189, 1148.6699777571189, 1148.6699777571189, 1148.6699777571189, 1148.6699777571189, 1148.6699777571189, 1148.6699777571189, 1148.6699777571189, 1148.6699777571189, 1148.6699777571189, 1148.6699777571189, 1148.6699777571175, 1148.6699777571152, 1148.6699777571152, 1148.6699777571152, 1148.6699777571152, 1148.6699777571152, 1148.6699777571152, 1148.6699777571152, 1148.6699777571152, 1148.6699777571152, 1148.6699777571152, 1148.6699777571152, 1148.6699777571152, 1148.6699777571152, 1148.6699777571223, 1148.6699777571223, 1148.6699777571223, 1148.6699777571223, 1148.6699777571223, 1148.6699777571223, 1148.6699777571223, 1148.6699777571223, 1148.6699777571223, 1148.6699777571223, 1148.6699777571223, 1148.6699777571223, 1148.6699777571223, 1148.6699777571223, 1148.6699777571223, 1148.6699777571223, 1148.6699777571223, 1148.6699777571223, 1148.6699777571223, 1148.6699777571241, 1148.6699777571241, 1148.6699777571241, 1148.6699777571241, 1148.6699777571241, 1148.6699777571241, 1148.6699777571241, 1148.6699777571241, 1148.6699777571241, 1148.6699777571241, 1148.6699777571241, 1148.6699777571241, 1148.6699777571241, 1148.6699777571241, 1148.6699777571241, 1148.6699777571241, 1148.6699777571241, 1148.6699777571241, 1148.6699777571241, 1148.6699777571241, 1148.6699777571241, 1148.6699777571241, 1148.6699777571241, 1148.6699777571241, 1148.6699777571241, 1148.6699777571241, 1148.6699777571241, 1148.6699777571241, 1148.6699777571241, 1148.6699777571241, 1148.6699777571241, 1148.6699777571241, 1148.6699777571241, 1148.6699777571241]\n",
      "Accuracy finale (train):  0.3333333333333333\n",
      "Accuracy finale (test) :  0.5094339622641509\n"
     ]
    }
   ],
   "source": [
    "# ------------------------ COMPLETER LES INSTRUCTIONS DANS CETTE BOITE \n",
    "\n",
    "np.random.seed(42)   # on prend 42 comme graine\n",
    "\n",
    "# Création d'un perceptron avec initialisation aléatoire et le learning_rate ci-dessous:\n",
    "learning_rate = 0.1\n",
    "perceptron = classif.ClassifierPerceptron(dim, learning_rate=learning_rate, init=True)\n",
    "\n",
    "# Apprentissage du perceptron\n",
    "les_variations = perceptron.train(data_train,label_train,nb_max=1000)\n",
    "print(\"Nb iterations: \", len(les_variations))\n",
    "\n",
    "\n",
    "# Traçage de la courbe des variations\n",
    "plt.plot(range(1,len(les_variations)+1),les_variations)  \n",
    "plt.ylabel('Différence')\n",
    "plt.xlabel(\"Etape\")\n",
    "plt.show()\n",
    "\n",
    "L_test = perceptron.train(data_test, label_test)\n",
    "print(\"Les variations :\", les_variations)\n",
    "print(\"Accuracy finale (train): \", perceptron.accuracy(data_train, label_train))\n",
    "print(\"Accuracy finale (test) : \", perceptron.accuracy(data_test, label_test))"
   ]
  },
  {
   "cell_type": "markdown",
   "metadata": {},
   "source": [
    "Pour $\\alpha=0.001$ : "
   ]
  },
  {
   "cell_type": "code",
   "execution_count": 185,
   "metadata": {},
   "outputs": [
    {
     "name": "stdout",
     "output_type": "stream",
     "text": [
      "Nb iterations:  1000\n"
     ]
    },
    {
     "data": {
      "image/png": "[encoded data removed]",
      "text/plain": [
       "<Figure size 432x288 with 1 Axes>"
      ]
     },
     "metadata": {
      "needs_background": "light"
     },
     "output_type": "display_data"
    },
    {
     "name": "stdout",
     "output_type": "stream",
     "text": [
      "Accuracy finale (train):  0.3333333333333333\n",
      "Accuracy finale (test) :  0.5094339622641509\n"
     ]
    }
   ],
   "source": [
    "# Par exemple : \n",
    "\n",
    "# ------------------------ COMPLETER LES INSTRUCTIONS DANS CETTE BOITE \n",
    "\n",
    "np.random.seed(42)   # on prend 42 comme graine\n",
    "\n",
    "# Création d'un perceptron avec initialisation aléatoire et le learning_rate ci-dessous:\n",
    "learning_rate = 0.001\n",
    "perceptron = classif.ClassifierPerceptron(dim, learning_rate=learning_rate, init=True)\n",
    "\n",
    "# Apprentissage du perceptron\n",
    "les_variations = perceptron.train(data_train,label_train,nb_max=1000,seuil=1E-6)\n",
    "print(\"Nb iterations: \", len(les_variations))\n",
    "\n",
    "# Traçage de la courbe des variations\n",
    "plt.plot(range(1,len(les_variations)+1),les_variations)  \n",
    "plt.ylabel('Différence')\n",
    "plt.xlabel(\"Etape\")\n",
    "plt.show()\n",
    "\n",
    "print(\"Accuracy finale (train): \", perceptron.accuracy(data_train,label_train) )\n",
    "print(\"Accuracy finale (test) : \", perceptron.accuracy(data_test,label_test) )\n"
   ]
  },
  {
   "cell_type": "markdown",
   "metadata": {},
   "source": [
    "### Étude de la validation croisée"
   ]
  },
  {
   "cell_type": "code",
   "execution_count": 186,
   "metadata": {},
   "outputs": [
    {
     "name": "stdout",
     "output_type": "stream",
     "text": [
      "------ affichage validation croisée\n",
      "Itération 0  : taille base app.= 63  taille base test= 7  Taux de bonne classif: 0.2857142857142857\n",
      "Itération 1  : taille base app.= 63  taille base test= 7  Taux de bonne classif: 0.2857142857142857\n",
      "Itération 2  : taille base app.= 63  taille base test= 7  Taux de bonne classif: 0.42857142857142855\n",
      "Itération 3  : taille base app.= 63  taille base test= 7  Taux de bonne classif: 0.42857142857142855\n",
      "Itération 4  : taille base app.= 63  taille base test= 7  Taux de bonne classif: 0.0\n",
      "Itération 5  : taille base app.= 63  taille base test= 7  Taux de bonne classif: 0.2857142857142857\n",
      "Itération 6  : taille base app.= 63  taille base test= 7  Taux de bonne classif: 0.42857142857142855\n",
      "Itération 7  : taille base app.= 63  taille base test= 7  Taux de bonne classif: 0.42857142857142855\n",
      "Itération 8  : taille base app.= 63  taille base test= 7  Taux de bonne classif: 0.42857142857142855\n",
      "Itération 9  : taille base app.= 63  taille base test= 7  Taux de bonne classif: 0.5714285714285714\n",
      "------ fin affichage validation croisée\n",
      "Validation croisée sur pen_dataset :\n",
      "Perf obtenues :  [0.2857142857142857, 0.2857142857142857, 0.42857142857142855, 0.42857142857142855, 0.0, 0.2857142857142857, 0.42857142857142855, 0.42857142857142855, 0.42857142857142855, 0.5714285714285714]\n",
      "Accuracy moyenne: 0.357\técart type: 0.1464\n",
      "Résultat en 2.7689 secondes.\n"
     ]
    }
   ],
   "source": [
    "print(\"------ affichage validation croisée\")\n",
    "\n",
    "#################################\n",
    "\n",
    "# ce qui se passe:\n",
    "tic= time.time()\n",
    "(res_all, res_moy, res_sd) = ev.validation_croisee(perceptron, (data_cv, label_cv), 10)\n",
    "toc= time.time()\n",
    "\n",
    "print(\"------ fin affichage validation croisée\")\n",
    "\n",
    "print(\"Validation croisée sur pen_dataset :\")\n",
    "print(\"Perf obtenues : \",res_all)\n",
    "print(f'Accuracy moyenne: {res_moy:0.3f}\\técart type: {res_sd:0.4f}')\n",
    "print(f'Résultat en {(toc-tic):0.4f} secondes.')"
   ]
  },
  {
   "cell_type": "markdown",
   "metadata": {},
   "source": [
    "## Arbre de décision "
   ]
  },
  {
   "cell_type": "code",
   "execution_count": 191,
   "metadata": {},
   "outputs": [],
   "source": [
    "import graphviz as gv"
   ]
  },
  {
   "cell_type": "markdown",
   "metadata": {},
   "source": [
    "### Premier essai avec un seuil d'entropie bas"
   ]
  },
  {
   "cell_type": "code",
   "execution_count": 192,
   "metadata": {},
   "outputs": [
    {
     "name": "stdout",
     "output_type": "stream",
     "text": [
      "Cet arbre possède  4  feuilles.\n"
     ]
    },
    {
     "data": {
      "image/svg+xml": [
       "<?xml version=\"1.0\" encoding=\"UTF-8\" standalone=\"no\"?>\n",
       "<!DOCTYPE svg PUBLIC \"-//W3C//DTD SVG 1.1//EN\"\n",
       " \"http://www.w3.org/Graphics/SVG/1.1/DTD/svg11.dtd\">\n",
       "<!-- Generated by graphviz version 12.1.2 (20240928.0832)\n",
       " -->\n",
       "<!-- Pages: 1 -->\n",
       "<svg width=\"191pt\" height=\"310pt\"\n",
       " viewBox=\"0.00 0.00 191.00 309.50\" xmlns=\"http://www.w3.org/2000/svg\" xmlns:xlink=\"http://www.w3.org/1999/xlink\">\n",
       "<g id=\"graph0\" class=\"graph\" transform=\"scale(1 1) rotate(0) translate(4 305.5)\">\n",
       "<polygon fill=\"white\" stroke=\"none\" points=\"-4,4 -4,-305.5 187,-305.5 187,4 -4,4\"/>\n",
       "<!-- A -->\n",
       "<g id=\"node1\" class=\"node\">\n",
       "<title>A</title>\n",
       "<ellipse fill=\"none\" stroke=\"black\" cx=\"119\" cy=\"-283.5\" rx=\"48.28\" ry=\"18\"/>\n",
       "<text text-anchor=\"middle\" x=\"119\" y=\"-278.45\" font-family=\"Times,serif\" font-size=\"14.00\">split_time</text>\n",
       "</g>\n",
       "<!-- Ag -->\n",
       "<g id=\"node2\" class=\"node\">\n",
       "<title>Ag</title>\n",
       "<ellipse fill=\"none\" stroke=\"black\" cx=\"62\" cy=\"-195\" rx=\"48.28\" ry=\"18\"/>\n",
       "<text text-anchor=\"middle\" x=\"62\" y=\"-189.95\" font-family=\"Times,serif\" font-size=\"14.00\">split_time</text>\n",
       "</g>\n",
       "<!-- A&#45;&gt;Ag -->\n",
       "<g id=\"edge5\" class=\"edge\">\n",
       "<title>A&#45;&gt;Ag</title>\n",
       "<path fill=\"none\" stroke=\"black\" d=\"M99.72,-266.74C93.71,-261.13 87.44,-254.46 82.75,-247.5 77.92,-240.33 73.92,-231.86 70.77,-223.88\"/>\n",
       "<polygon fill=\"black\" stroke=\"black\" points=\"74.09,-222.76 67.4,-214.54 67.51,-225.13 74.09,-222.76\"/>\n",
       "<text text-anchor=\"middle\" x=\"106.38\" y=\"-234.2\" font-family=\"Times,serif\" font-size=\"14.00\">&lt;=133.4</text>\n",
       "</g>\n",
       "<!-- Ad -->\n",
       "<g id=\"node7\" class=\"node\">\n",
       "<title>Ad</title>\n",
       "<polygon fill=\"none\" stroke=\"black\" points=\"182,-213 128,-213 128,-177 182,-177 182,-213\"/>\n",
       "<text text-anchor=\"middle\" x=\"155\" y=\"-189.95\" font-family=\"Times,serif\" font-size=\"14.00\">0</text>\n",
       "</g>\n",
       "<!-- A&#45;&gt;Ad -->\n",
       "<g id=\"edge6\" class=\"edge\">\n",
       "<title>A&#45;&gt;Ad</title>\n",
       "<path fill=\"none\" stroke=\"black\" d=\"M126.11,-265.41C131.06,-253.52 137.77,-237.41 143.47,-223.7\"/>\n",
       "<polygon fill=\"black\" stroke=\"black\" points=\"146.59,-225.32 147.2,-214.75 140.12,-222.64 146.59,-225.32\"/>\n",
       "<text text-anchor=\"middle\" x=\"159.72\" y=\"-234.2\" font-family=\"Times,serif\" font-size=\"14.00\">&gt;133.4</text>\n",
       "</g>\n",
       "<!-- Agg -->\n",
       "<g id=\"node3\" class=\"node\">\n",
       "<title>Agg</title>\n",
       "<polygon fill=\"none\" stroke=\"black\" points=\"54,-124.5 0,-124.5 0,-88.5 54,-88.5 54,-124.5\"/>\n",
       "<text text-anchor=\"middle\" x=\"27\" y=\"-101.45\" font-family=\"Times,serif\" font-size=\"14.00\">2</text>\n",
       "</g>\n",
       "<!-- Ag&#45;&gt;Agg -->\n",
       "<g id=\"edge3\" class=\"edge\">\n",
       "<title>Ag&#45;&gt;Agg</title>\n",
       "<path fill=\"none\" stroke=\"black\" d=\"M49.1,-177.26C45.31,-171.69 41.45,-165.3 38.75,-159 35.63,-151.72 33.28,-143.5 31.53,-135.79\"/>\n",
       "<polygon fill=\"black\" stroke=\"black\" points=\"35,-135.29 29.62,-126.17 28.13,-136.66 35,-135.29\"/>\n",
       "<text text-anchor=\"middle\" x=\"62.38\" y=\"-145.7\" font-family=\"Times,serif\" font-size=\"14.00\">&lt;=119.4</text>\n",
       "</g>\n",
       "<!-- Agd -->\n",
       "<g id=\"node4\" class=\"node\">\n",
       "<title>Agd</title>\n",
       "<ellipse fill=\"none\" stroke=\"black\" cx=\"120\" cy=\"-106.5\" rx=\"48.28\" ry=\"18\"/>\n",
       "<text text-anchor=\"middle\" x=\"120\" y=\"-101.45\" font-family=\"Times,serif\" font-size=\"14.00\">split_time</text>\n",
       "</g>\n",
       "<!-- Ag&#45;&gt;Agd -->\n",
       "<g id=\"edge4\" class=\"edge\">\n",
       "<title>Ag&#45;&gt;Agd</title>\n",
       "<path fill=\"none\" stroke=\"black\" d=\"M73.54,-177.31C77.51,-171.52 81.97,-164.99 86,-159 91.53,-150.78 97.5,-141.79 102.87,-133.65\"/>\n",
       "<polygon fill=\"black\" stroke=\"black\" points=\"105.64,-135.79 108.22,-125.51 99.8,-131.94 105.64,-135.79\"/>\n",
       "<text text-anchor=\"middle\" x=\"115.86\" y=\"-145.7\" font-family=\"Times,serif\" font-size=\"14.00\">&gt;119.4</text>\n",
       "</g>\n",
       "<!-- Agdg -->\n",
       "<g id=\"node5\" class=\"node\">\n",
       "<title>Agdg</title>\n",
       "<polygon fill=\"none\" stroke=\"black\" points=\"111,-36 57,-36 57,0 111,0 111,-36\"/>\n",
       "<text text-anchor=\"middle\" x=\"84\" y=\"-12.95\" font-family=\"Times,serif\" font-size=\"14.00\">1</text>\n",
       "</g>\n",
       "<!-- Agd&#45;&gt;Agdg -->\n",
       "<g id=\"edge1\" class=\"edge\">\n",
       "<title>Agd&#45;&gt;Agdg</title>\n",
       "<path fill=\"none\" stroke=\"black\" d=\"M100.65,-89.88C95.18,-84.38 89.87,-77.74 86.75,-70.5 83.73,-63.48 82.42,-55.42 82.01,-47.8\"/>\n",
       "<polygon fill=\"black\" stroke=\"black\" points=\"85.51,-47.89 82,-37.89 78.51,-47.89 85.51,-47.89\"/>\n",
       "<text text-anchor=\"middle\" x=\"110.38\" y=\"-57.2\" font-family=\"Times,serif\" font-size=\"14.00\">&lt;=133.2</text>\n",
       "</g>\n",
       "<!-- Agdd -->\n",
       "<g id=\"node6\" class=\"node\">\n",
       "<title>Agdd</title>\n",
       "<polygon fill=\"none\" stroke=\"black\" points=\"183,-36 129,-36 129,0 183,0 183,-36\"/>\n",
       "<text text-anchor=\"middle\" x=\"156\" y=\"-12.95\" font-family=\"Times,serif\" font-size=\"14.00\">0</text>\n",
       "</g>\n",
       "<!-- Agd&#45;&gt;Agdd -->\n",
       "<g id=\"edge2\" class=\"edge\">\n",
       "<title>Agd&#45;&gt;Agdd</title>\n",
       "<path fill=\"none\" stroke=\"black\" d=\"M127.11,-88.41C132.06,-76.52 138.77,-60.41 144.47,-46.7\"/>\n",
       "<polygon fill=\"black\" stroke=\"black\" points=\"147.59,-48.32 148.2,-37.75 141.12,-45.64 147.59,-48.32\"/>\n",
       "<text text-anchor=\"middle\" x=\"160.72\" y=\"-57.2\" font-family=\"Times,serif\" font-size=\"14.00\">&gt;133.2</text>\n",
       "</g>\n",
       "</g>\n",
       "</svg>\n"
      ],
      "text/plain": [
       "<graphviz.graphs.Digraph at 0x7fd3194c3430>"
      ]
     },
     "execution_count": 192,
     "metadata": {},
     "output_type": "execute_result"
    }
   ],
   "source": [
    "# Initialiation d'un arbre pour le dataset Iris:\n",
    "arbre = classif.ClassifierArbreNumerique(dim, 0.0, X_noms)\n",
    "\n",
    "# Construction de l'arbre de décision à partir du dataset Iris\n",
    "arbre.train(X,y)\n",
    "\n",
    "# Construction de la représentation graphique (affichage)\n",
    "graphe_arbre = gv.Digraph(format='png')\n",
    "arbre.affiche(graphe_arbre)\n",
    "\n",
    "# Affichage du graphe obtenu:\n",
    "print(\"Cet arbre possède \",arbre.number_leaves(),\" feuilles.\")\n",
    "graphe_arbre\n"
   ]
  },
  {
   "cell_type": "code",
   "execution_count": 193,
   "metadata": {},
   "outputs": [
    {
     "name": "stdout",
     "output_type": "stream",
     "text": [
      "Accuracy finale (train):  1.0\n",
      "Accuracy finale (test) :  1.0\n"
     ]
    }
   ],
   "source": [
    "# mesure du taux de bonne classification\n",
    "arbre.accuracy(data_test,label_test)\n",
    "print(\"Accuracy finale (train): \", arbre.accuracy(data_train,label_train))\n",
    "print(\"Accuracy finale (test) : \", arbre.accuracy(data_test,label_test))"
   ]
  },
  {
   "cell_type": "code",
   "execution_count": 194,
   "metadata": {},
   "outputs": [
    {
     "name": "stdout",
     "output_type": "stream",
     "text": [
      "Cet arbre possède  2  feuilles.\n"
     ]
    },
    {
     "data": {
      "image/svg+xml": [
       "<?xml version=\"1.0\" encoding=\"UTF-8\" standalone=\"no\"?>\n",
       "<!DOCTYPE svg PUBLIC \"-//W3C//DTD SVG 1.1//EN\"\n",
       " \"http://www.w3.org/Graphics/SVG/1.1/DTD/svg11.dtd\">\n",
       "<!-- Generated by graphviz version 12.1.2 (20240928.0832)\n",
       " -->\n",
       "<!-- Pages: 1 -->\n",
       "<svg width=\"134pt\" height=\"133pt\"\n",
       " viewBox=\"0.00 0.00 134.00 132.50\" xmlns=\"http://www.w3.org/2000/svg\" xmlns:xlink=\"http://www.w3.org/1999/xlink\">\n",
       "<g id=\"graph0\" class=\"graph\" transform=\"scale(1 1) rotate(0) translate(4 128.5)\">\n",
       "<polygon fill=\"white\" stroke=\"none\" points=\"-4,4 -4,-128.5 130,-128.5 130,4 -4,4\"/>\n",
       "<!-- A -->\n",
       "<g id=\"node1\" class=\"node\">\n",
       "<title>A</title>\n",
       "<ellipse fill=\"none\" stroke=\"black\" cx=\"63\" cy=\"-106.5\" rx=\"48.28\" ry=\"18\"/>\n",
       "<text text-anchor=\"middle\" x=\"63\" y=\"-101.45\" font-family=\"Times,serif\" font-size=\"14.00\">split_time</text>\n",
       "</g>\n",
       "<!-- Ag -->\n",
       "<g id=\"node2\" class=\"node\">\n",
       "<title>Ag</title>\n",
       "<polygon fill=\"none\" stroke=\"black\" points=\"54,-36 0,-36 0,0 54,0 54,-36\"/>\n",
       "<text text-anchor=\"middle\" x=\"27\" y=\"-12.95\" font-family=\"Times,serif\" font-size=\"14.00\">2</text>\n",
       "</g>\n",
       "<!-- A&#45;&gt;Ag -->\n",
       "<g id=\"edge1\" class=\"edge\">\n",
       "<title>A&#45;&gt;Ag</title>\n",
       "<path fill=\"none\" stroke=\"black\" d=\"M43.65,-89.88C38.18,-84.38 32.87,-77.74 29.75,-70.5 26.73,-63.48 25.42,-55.42 25.01,-47.8\"/>\n",
       "<polygon fill=\"black\" stroke=\"black\" points=\"28.51,-47.89 25,-37.89 21.51,-47.89 28.51,-47.89\"/>\n",
       "<text text-anchor=\"middle\" x=\"53.38\" y=\"-57.2\" font-family=\"Times,serif\" font-size=\"14.00\">&lt;=118.8</text>\n",
       "</g>\n",
       "<!-- Ad -->\n",
       "<g id=\"node3\" class=\"node\">\n",
       "<title>Ad</title>\n",
       "<polygon fill=\"none\" stroke=\"black\" points=\"126,-36 72,-36 72,0 126,0 126,-36\"/>\n",
       "<text text-anchor=\"middle\" x=\"99\" y=\"-12.95\" font-family=\"Times,serif\" font-size=\"14.00\">0</text>\n",
       "</g>\n",
       "<!-- A&#45;&gt;Ad -->\n",
       "<g id=\"edge2\" class=\"edge\">\n",
       "<title>A&#45;&gt;Ad</title>\n",
       "<path fill=\"none\" stroke=\"black\" d=\"M70.11,-88.41C75.06,-76.52 81.77,-60.41 87.47,-46.7\"/>\n",
       "<polygon fill=\"black\" stroke=\"black\" points=\"90.59,-48.32 91.2,-37.75 84.12,-45.64 90.59,-48.32\"/>\n",
       "<text text-anchor=\"middle\" x=\"103.72\" y=\"-57.2\" font-family=\"Times,serif\" font-size=\"14.00\">&gt;118.8</text>\n",
       "</g>\n",
       "</g>\n",
       "</svg>\n"
      ],
      "text/plain": [
       "<graphviz.graphs.Digraph at 0x7fd3194bf250>"
      ]
     },
     "execution_count": 194,
     "metadata": {},
     "output_type": "execute_result"
    }
   ],
   "source": [
    "# Initialiation d'un arbre pour le dataset Iris:\n",
    "arbre = classif.ClassifierArbreNumerique(dim, 0.75, X_noms)\n",
    "\n",
    "# Construction de l'arbre de décision à partir du dataset Iris\n",
    "arbre.train(data_train,label_train)\n",
    "\n",
    "# Construction de la représentation graphique (affichage)\n",
    "graphe_arbre = gv.Digraph(format='png')\n",
    "arbre.affiche(graphe_arbre)\n",
    "\n",
    "# Affichage du graphe obtenu:\n",
    "print(\"Cet arbre possède \",arbre.number_leaves(),\" feuilles.\")\n",
    "graphe_arbre\n"
   ]
  },
  {
   "cell_type": "code",
   "execution_count": 195,
   "metadata": {},
   "outputs": [
    {
     "name": "stdout",
     "output_type": "stream",
     "text": [
      "Accuracy finale (train):  0.6533333333333333\n",
      "Accuracy finale (test) :  0.4528301886792453\n"
     ]
    }
   ],
   "source": [
    "# mesure du taux de bonne classification\n",
    "arbre.accuracy(data_test,label_test)\n",
    "print(\"Accuracy finale (train): \", arbre.accuracy(data_train,label_train))\n",
    "print(\"Accuracy finale (test) : \", arbre.accuracy(data_test,label_test))"
   ]
  },
  {
   "cell_type": "code",
   "execution_count": 196,
   "metadata": {},
   "outputs": [
    {
     "name": "stdout",
     "output_type": "stream",
     "text": [
      "Itération 0  : taille base app.= 63  taille base test= 7  Taux de bonne classif: 1.0\n",
      "Itération 1  : taille base app.= 63  taille base test= 7  Taux de bonne classif: 1.0\n",
      "Itération 2  : taille base app.= 63  taille base test= 7  Taux de bonne classif: 0.8571428571428571\n",
      "Itération 3  : taille base app.= 63  taille base test= 7  Taux de bonne classif: 1.0\n",
      "Itération 4  : taille base app.= 63  taille base test= 7  Taux de bonne classif: 1.0\n",
      "Itération 5  : taille base app.= 63  taille base test= 7  Taux de bonne classif: 0.8571428571428571\n",
      "Itération 6  : taille base app.= 63  taille base test= 7  Taux de bonne classif: 1.0\n",
      "Itération 7  : taille base app.= 63  taille base test= 7  Taux de bonne classif: 0.8571428571428571\n",
      "Itération 8  : taille base app.= 63  taille base test= 7  Taux de bonne classif: 1.0\n",
      "Itération 9  : taille base app.= 63  taille base test= 7  Taux de bonne classif: 1.0\n",
      "\n",
      "Validation croisée sur les iris avec comme seuil  0.0\n",
      "Perf obtenues :  [1.0, 1.0, 0.8571428571428571, 1.0, 1.0, 0.8571428571428571, 1.0, 0.8571428571428571, 1.0, 1.0]\n",
      "\n",
      "Accuracy moyenne: 0.957\técart type: 0.065\n"
     ]
    }
   ],
   "source": [
    "# ################### A COMPLETER \n",
    "arbre = classif.ClassifierArbreNumerique(dim, 0.0, X_noms)\n",
    "tic= time.time()\n",
    "(res_all, res_moy, res_sd) = ev.validation_croisee(arbre, (data_cv, label_cv), 10)\n",
    "toc= time.time()\n",
    "# ################### \n",
    "       \n",
    "print(\"\\nValidation croisée sur les iris avec comme seuil \",0.0)\n",
    "print(\"Perf obtenues : \",res_all)\n",
    "print(f'\\nAccuracy moyenne: {res_moy:.3f}\\técart type: {res_sd:.3f}')"
   ]
  },
  {
   "cell_type": "code",
   "execution_count": 197,
   "metadata": {},
   "outputs": [
    {
     "name": "stdout",
     "output_type": "stream",
     "text": [
      "run  0 : seuil d'entropie = 0.0         accyracy moyenne:  0.9571428571428571        écart type:  0.06546536707079774\n",
      "run  1 : seuil d'entropie = 0.101         accyracy moyenne:  0.9571428571428571        écart type:  0.06546536707079774\n",
      "run  2 : seuil d'entropie = 0.202         accyracy moyenne:  0.9571428571428571        écart type:  0.06546536707079774\n",
      "run  3 : seuil d'entropie = 0.30300000000000005         accyracy moyenne:  0.9571428571428571        écart type:  0.06546536707079774\n",
      "run  4 : seuil d'entropie = 0.404         accyracy moyenne:  0.9571428571428571        écart type:  0.06546536707079774\n",
      "run  5 : seuil d'entropie = 0.505         accyracy moyenne:  0.9571428571428571        écart type:  0.06546536707079774\n",
      "run  6 : seuil d'entropie = 0.6060000000000001         accyracy moyenne:  0.9571428571428571        écart type:  0.06546536707079774\n",
      "run  7 : seuil d'entropie = 0.7070000000000001         accyracy moyenne:  0.8714285714285716        écart type:  0.19639610121239315\n",
      "run  8 : seuil d'entropie = 0.808         accyracy moyenne:  0.7        écart type:  0.14914723584157927\n",
      "run  9 : seuil d'entropie = 0.909         accyracy moyenne:  0.7        écart type:  0.14914723584157927\n",
      "run  10 : seuil d'entropie = 1.01         accyracy moyenne:  0.2857142857142857        écart type:  0.14285714285714285\n"
     ]
    }
   ],
   "source": [
    "array = np.arange(0, 1.111, 0.101)\n",
    "for i in range(len(array)) : \n",
    "  arbre = classif.ClassifierArbreNumerique(dim, array[i], X_noms)\n",
    "  (res_all, res_moy, res_sd) = ev.validation_croisee(arbre, (data_cv, label_cv), 10, verbose=False)\n",
    "  print(\"run \",i,\": seuil d'entropie =\",array[i],\"        accyracy moyenne: \",res_moy,\"       écart type: \",res_sd)\n"
   ]
  },
  {
   "cell_type": "code",
   "execution_count": 198,
   "metadata": {},
   "outputs": [
    {
     "name": "stdout",
     "output_type": "stream",
     "text": [
      "Entropie max accuracy: 0.0\n"
     ]
    },
    {
     "data": {
      "text/html": [
       "<div>\n",
       "<style scoped>\n",
       "    .dataframe tbody tr th:only-of-type {\n",
       "        vertical-align: middle;\n",
       "    }\n",
       "\n",
       "    .dataframe tbody tr th {\n",
       "        vertical-align: top;\n",
       "    }\n",
       "\n",
       "    .dataframe thead th {\n",
       "        text-align: right;\n",
       "    }\n",
       "</style>\n",
       "<table border=\"1\" class=\"dataframe\">\n",
       "  <thead>\n",
       "    <tr style=\"text-align: right;\">\n",
       "      <th></th>\n",
       "      <th>Entropie</th>\n",
       "      <th>Accuracy</th>\n",
       "    </tr>\n",
       "  </thead>\n",
       "  <tbody>\n",
       "    <tr>\n",
       "      <th>0</th>\n",
       "      <td>0.00</td>\n",
       "      <td>1.000000</td>\n",
       "    </tr>\n",
       "    <tr>\n",
       "      <th>1</th>\n",
       "      <td>0.00</td>\n",
       "      <td>1.000000</td>\n",
       "    </tr>\n",
       "    <tr>\n",
       "      <th>2</th>\n",
       "      <td>0.00</td>\n",
       "      <td>0.857143</td>\n",
       "    </tr>\n",
       "    <tr>\n",
       "      <th>3</th>\n",
       "      <td>0.00</td>\n",
       "      <td>1.000000</td>\n",
       "    </tr>\n",
       "    <tr>\n",
       "      <th>4</th>\n",
       "      <td>0.00</td>\n",
       "      <td>1.000000</td>\n",
       "    </tr>\n",
       "    <tr>\n",
       "      <th>...</th>\n",
       "      <td>...</td>\n",
       "      <td>...</td>\n",
       "    </tr>\n",
       "    <tr>\n",
       "      <th>105</th>\n",
       "      <td>1.01</td>\n",
       "      <td>0.142857</td>\n",
       "    </tr>\n",
       "    <tr>\n",
       "      <th>106</th>\n",
       "      <td>1.01</td>\n",
       "      <td>0.428571</td>\n",
       "    </tr>\n",
       "    <tr>\n",
       "      <th>107</th>\n",
       "      <td>1.01</td>\n",
       "      <td>0.428571</td>\n",
       "    </tr>\n",
       "    <tr>\n",
       "      <th>108</th>\n",
       "      <td>1.01</td>\n",
       "      <td>0.428571</td>\n",
       "    </tr>\n",
       "    <tr>\n",
       "      <th>109</th>\n",
       "      <td>1.01</td>\n",
       "      <td>0.142857</td>\n",
       "    </tr>\n",
       "  </tbody>\n",
       "</table>\n",
       "<p>110 rows × 2 columns</p>\n",
       "</div>"
      ],
      "text/plain": [
       "     Entropie  Accuracy\n",
       "0        0.00  1.000000\n",
       "1        0.00  1.000000\n",
       "2        0.00  0.857143\n",
       "3        0.00  1.000000\n",
       "4        0.00  1.000000\n",
       "..        ...       ...\n",
       "105      1.01  0.142857\n",
       "106      1.01  0.428571\n",
       "107      1.01  0.428571\n",
       "108      1.01  0.428571\n",
       "109      1.01  0.142857\n",
       "\n",
       "[110 rows x 2 columns]"
      ]
     },
     "execution_count": 198,
     "metadata": {},
     "output_type": "execute_result"
    }
   ],
   "source": [
    "df_res = pd.DataFrame(columns=['Entropie', 'Accuracy'])\n",
    "\n",
    "# ################### A COMPLETER \n",
    "entropie = []\n",
    "acc = []\n",
    "for i in range(len(array)) : \n",
    "  arbre = classif.ClassifierArbreNumerique(dim, array[i], X_noms)\n",
    "  (res_all, res_moy, res_sd) = ev.validation_croisee(arbre, (data_cv, label_cv), 10, verbose=False)\n",
    "  for j in range(len(res_all)) : \n",
    "    entropie.append(array[i])\n",
    "    acc.append(res_all[j])\n",
    "\n",
    "df_res[\"Entropie\"] = entropie\n",
    "df_res[\"Accuracy\"] = acc\n",
    "\n",
    "print(\"Entropie max accuracy:\",df_res['Entropie'][np.argmax(df_res['Accuracy'])])\n",
    "# ################### \n",
    "# Le datataframe obtenu :\n",
    "df_res"
   ]
  },
  {
   "cell_type": "code",
   "execution_count": 199,
   "metadata": {},
   "outputs": [
    {
     "data": {
      "text/plain": [
       "<Axes: xlabel='Entropie', ylabel='Accuracy'>"
      ]
     },
     "execution_count": 199,
     "metadata": {},
     "output_type": "execute_result"
    },
    {
     "data": {
      "image/png": "[encoded data removed]",
      "text/plain": [
       "<Figure size 432x288 with 1 Axes>"
      ]
     },
     "metadata": {
      "needs_background": "light"
     },
     "output_type": "display_data"
    }
   ],
   "source": [
    "# Tracé avec lineplot\n",
    "sns.lineplot(x=\"Entropie\", y=\"Accuracy\", data=df_res)"
   ]
  },
  {
   "cell_type": "code",
   "execution_count": null,
   "metadata": {},
   "outputs": [],
   "source": []
  }
 ],
 "metadata": {
  "kernelspec": {
   "display_name": "Python 3",
   "language": "python",
   "name": "python3"
  },
  "language_info": {
   "codemirror_mode": {
    "name": "ipython",
    "version": 3
   },
   "file_extension": ".py",
   "mimetype": "text/x-python",
   "name": "python",
   "nbconvert_exporter": "python",
   "pygments_lexer": "ipython3",
   "version": "3.9.7"
  }
 },
 "nbformat": 4,
 "nbformat_minor": 2
}
