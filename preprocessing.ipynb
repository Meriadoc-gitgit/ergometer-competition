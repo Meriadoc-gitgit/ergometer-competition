{
 "cells": [
  {
   "cell_type": "markdown",
   "metadata": {},
   "source": [
    "# Data preprocessing"
   ]
  },
  {
   "cell_type": "code",
   "execution_count": 102,
   "metadata": {},
   "outputs": [],
   "source": [
    "# Import pandas\n",
    "import pandas as pd\n",
    "import numpy as np"
   ]
  },
  {
   "cell_type": "code",
   "execution_count": 12,
   "metadata": {},
   "outputs": [
    {
     "name": "stdout",
     "output_type": "stream",
     "text": [
      "List of database : ['Série 1(0001).json', 'Série 4.json', 'Série 5.json', 'Série 2.json', 'Série 3.json', 'Progressif.json', 'Série 6.json', 'Série 7.json']\n"
     ]
    }
   ],
   "source": [
    "import os\n",
    "\n",
    "directory = os.getcwd() + \"/Test/\"\n",
    "db_lst = os.listdir(directory) \n",
    "\n",
    "print(\"List of database :\",db_lst)"
   ]
  },
  {
   "cell_type": "markdown",
   "metadata": {},
   "source": [
    "## Création de la base sur 2000m"
   ]
  },
  {
   "cell_type": "code",
   "execution_count": 131,
   "metadata": {},
   "outputs": [
    {
     "name": "stdout",
     "output_type": "stream",
     "text": [
      "Columns name : ['affiliation', 'avg_pace', 'calories', 'class', 'distance', 'id', 'lane', 'logbook_id', 'logged_time', 'machine_type', 'participant', 'place', 'score', 'serial_number', 'splits', 'spm', 'time']\n"
     ]
    },
    {
     "name": "stderr",
     "output_type": "stream",
     "text": [
      "/var/folders/dk/5xxlbv9n6xngmfm92w8343_40000gp/T/ipykernel_94673/2929631469.py:4: FutureWarning: Series.__getitem__ treating keys as positions is deprecated. In a future version, integer keys will always be treated as labels (consistent with DataFrame behavior). To access a value by position, use `ser.iloc[pos]`\n",
      "  col = list(pd.read_json(\"Test/\" + db_lst[0]).loc[\"participants\"][0][0].keys())\n",
      "/var/folders/dk/5xxlbv9n6xngmfm92w8343_40000gp/T/ipykernel_94673/2929631469.py:18: FutureWarning: Series.__getitem__ treating keys as positions is deprecated. In a future version, integer keys will always be treated as labels (consistent with DataFrame behavior). To access a value by position, use `ser.iloc[pos]`\n",
      "  df = pd.DataFrame(pd.read_json(\"Test/\" + db_lst[db]).loc[\"participants\"][0][0])\n",
      "/var/folders/dk/5xxlbv9n6xngmfm92w8343_40000gp/T/ipykernel_94673/2929631469.py:18: FutureWarning: Series.__getitem__ treating keys as positions is deprecated. In a future version, integer keys will always be treated as labels (consistent with DataFrame behavior). To access a value by position, use `ser.iloc[pos]`\n",
      "  df = pd.DataFrame(pd.read_json(\"Test/\" + db_lst[db]).loc[\"participants\"][0][0])\n",
      "/var/folders/dk/5xxlbv9n6xngmfm92w8343_40000gp/T/ipykernel_94673/2929631469.py:18: FutureWarning: Series.__getitem__ treating keys as positions is deprecated. In a future version, integer keys will always be treated as labels (consistent with DataFrame behavior). To access a value by position, use `ser.iloc[pos]`\n",
      "  df = pd.DataFrame(pd.read_json(\"Test/\" + db_lst[db]).loc[\"participants\"][0][0])\n",
      "/var/folders/dk/5xxlbv9n6xngmfm92w8343_40000gp/T/ipykernel_94673/2929631469.py:18: FutureWarning: Series.__getitem__ treating keys as positions is deprecated. In a future version, integer keys will always be treated as labels (consistent with DataFrame behavior). To access a value by position, use `ser.iloc[pos]`\n",
      "  df = pd.DataFrame(pd.read_json(\"Test/\" + db_lst[db]).loc[\"participants\"][0][0])\n",
      "/var/folders/dk/5xxlbv9n6xngmfm92w8343_40000gp/T/ipykernel_94673/2929631469.py:18: FutureWarning: Series.__getitem__ treating keys as positions is deprecated. In a future version, integer keys will always be treated as labels (consistent with DataFrame behavior). To access a value by position, use `ser.iloc[pos]`\n",
      "  df = pd.DataFrame(pd.read_json(\"Test/\" + db_lst[db]).loc[\"participants\"][0][0])\n",
      "/var/folders/dk/5xxlbv9n6xngmfm92w8343_40000gp/T/ipykernel_94673/2929631469.py:18: FutureWarning: Series.__getitem__ treating keys as positions is deprecated. In a future version, integer keys will always be treated as labels (consistent with DataFrame behavior). To access a value by position, use `ser.iloc[pos]`\n",
      "  df = pd.DataFrame(pd.read_json(\"Test/\" + db_lst[db]).loc[\"participants\"][0][0])\n",
      "/var/folders/dk/5xxlbv9n6xngmfm92w8343_40000gp/T/ipykernel_94673/2929631469.py:18: FutureWarning: Series.__getitem__ treating keys as positions is deprecated. In a future version, integer keys will always be treated as labels (consistent with DataFrame behavior). To access a value by position, use `ser.iloc[pos]`\n",
      "  df = pd.DataFrame(pd.read_json(\"Test/\" + db_lst[db]).loc[\"participants\"][0][0])\n",
      "/var/folders/dk/5xxlbv9n6xngmfm92w8343_40000gp/T/ipykernel_94673/2929631469.py:18: FutureWarning: Series.__getitem__ treating keys as positions is deprecated. In a future version, integer keys will always be treated as labels (consistent with DataFrame behavior). To access a value by position, use `ser.iloc[pos]`\n",
      "  df = pd.DataFrame(pd.read_json(\"Test/\" + db_lst[db]).loc[\"participants\"][0][0])\n",
      "/var/folders/dk/5xxlbv9n6xngmfm92w8343_40000gp/T/ipykernel_94673/2929631469.py:23: FutureWarning: Downcasting behavior in `replace` is deprecated and will be removed in a future version. To retain the old behavior, explicitly call `result.infer_objects(copy=False)`. To opt-in to the future behavior, set `pd.set_option('future.no_silent_downcasting', True)`\n",
      "  ergo_2000m.replace(to_replace='',value=np.nan,inplace=True)\n"
     ]
    }
   ],
   "source": [
    "# Create 2000m ergometer database\n",
    "\n",
    "# Get columns\n",
    "col = list(pd.read_json(\"Test/\" + db_lst[0]).loc[\"participants\"][0][0].keys())\n",
    "print(\"Columns name :\",col)\n",
    "\n",
    "#df_main = pd.DataFrame(pd.read_json(\"Test/\" + db_lst[0]).loc[\"participants\"][0][0])\n",
    "dict_main = dict()\n",
    "for c in range(len(col)) : \n",
    "    if col[c] not in dict_main : \n",
    "        dict_main[col[c]] = []\n",
    "\n",
    "for db in range(len(db_lst)) : \n",
    "    # print(db_lst[db])\n",
    "    # df = pd.DataFrame(pd.read_json(\"Test/\" + db_lst[db]).loc[\"participants\"][0][0])\n",
    "    # for c in range(len(col)) : \n",
    "    #     pass\n",
    "    df = pd.DataFrame(pd.read_json(\"Test/\" + db_lst[db]).loc[\"participants\"][0][0])\n",
    "    for c in range(len(col)) : \n",
    "        dict_main[col[c]] += list(df[col[c]])\n",
    "\n",
    "ergo_2000m = pd.DataFrame(dict_main)\n",
    "ergo_2000m.replace(to_replace='',value=np.nan,inplace=True)\n",
    "\n",
    "for c in range(len(col)) : \n",
    "    if ergo_2000m[col[c]].isna().sum() >= len(ergo_2000m) // 2 : \n",
    "        ergo_2000m.drop([col[c]],axis=1,inplace=True)\n",
    "\n",
    "\n",
    "# To save\n",
    "ergo_2000m.to_json(\"Test/ergometer_2000m.json\", index=False)"
   ]
  },
  {
   "cell_type": "markdown",
   "metadata": {},
   "source": [
    "## Création de la base sur 500m"
   ]
  },
  {
   "cell_type": "code",
   "execution_count": 192,
   "metadata": {},
   "outputs": [
    {
     "name": "stderr",
     "output_type": "stream",
     "text": [
      "/var/folders/dk/5xxlbv9n6xngmfm92w8343_40000gp/T/ipykernel_94673/188529299.py:2: FutureWarning: Series.__getitem__ treating keys as positions is deprecated. In a future version, integer keys will always be treated as labels (consistent with DataFrame behavior). To access a value by position, use `ser.iloc[pos]`\n",
      "  col = list(pd.DataFrame(pd.read_json(\"Test/\" + db_lst[0]).loc[\"participants\"][0][0])['splits'][0].keys()) + ['participant', 'serial_number','spm','calories']\n",
      "/var/folders/dk/5xxlbv9n6xngmfm92w8343_40000gp/T/ipykernel_94673/188529299.py:17: FutureWarning: Series.__getitem__ treating keys as positions is deprecated. In a future version, integer keys will always be treated as labels (consistent with DataFrame behavior). To access a value by position, use `ser.iloc[pos]`\n",
      "  df = pd.DataFrame(pd.read_json(\"Test/\" + db_lst[db]).loc[\"participants\"][0][0])\n",
      "/var/folders/dk/5xxlbv9n6xngmfm92w8343_40000gp/T/ipykernel_94673/188529299.py:17: FutureWarning: Series.__getitem__ treating keys as positions is deprecated. In a future version, integer keys will always be treated as labels (consistent with DataFrame behavior). To access a value by position, use `ser.iloc[pos]`\n",
      "  df = pd.DataFrame(pd.read_json(\"Test/\" + db_lst[db]).loc[\"participants\"][0][0])\n",
      "/var/folders/dk/5xxlbv9n6xngmfm92w8343_40000gp/T/ipykernel_94673/188529299.py:17: FutureWarning: Series.__getitem__ treating keys as positions is deprecated. In a future version, integer keys will always be treated as labels (consistent with DataFrame behavior). To access a value by position, use `ser.iloc[pos]`\n",
      "  df = pd.DataFrame(pd.read_json(\"Test/\" + db_lst[db]).loc[\"participants\"][0][0])\n",
      "/var/folders/dk/5xxlbv9n6xngmfm92w8343_40000gp/T/ipykernel_94673/188529299.py:17: FutureWarning: Series.__getitem__ treating keys as positions is deprecated. In a future version, integer keys will always be treated as labels (consistent with DataFrame behavior). To access a value by position, use `ser.iloc[pos]`\n",
      "  df = pd.DataFrame(pd.read_json(\"Test/\" + db_lst[db]).loc[\"participants\"][0][0])\n",
      "/var/folders/dk/5xxlbv9n6xngmfm92w8343_40000gp/T/ipykernel_94673/188529299.py:17: FutureWarning: Series.__getitem__ treating keys as positions is deprecated. In a future version, integer keys will always be treated as labels (consistent with DataFrame behavior). To access a value by position, use `ser.iloc[pos]`\n",
      "  df = pd.DataFrame(pd.read_json(\"Test/\" + db_lst[db]).loc[\"participants\"][0][0])\n",
      "/var/folders/dk/5xxlbv9n6xngmfm92w8343_40000gp/T/ipykernel_94673/188529299.py:17: FutureWarning: Series.__getitem__ treating keys as positions is deprecated. In a future version, integer keys will always be treated as labels (consistent with DataFrame behavior). To access a value by position, use `ser.iloc[pos]`\n",
      "  df = pd.DataFrame(pd.read_json(\"Test/\" + db_lst[db]).loc[\"participants\"][0][0])\n",
      "/var/folders/dk/5xxlbv9n6xngmfm92w8343_40000gp/T/ipykernel_94673/188529299.py:17: FutureWarning: Series.__getitem__ treating keys as positions is deprecated. In a future version, integer keys will always be treated as labels (consistent with DataFrame behavior). To access a value by position, use `ser.iloc[pos]`\n",
      "  df = pd.DataFrame(pd.read_json(\"Test/\" + db_lst[db]).loc[\"participants\"][0][0])\n",
      "/var/folders/dk/5xxlbv9n6xngmfm92w8343_40000gp/T/ipykernel_94673/188529299.py:17: FutureWarning: Series.__getitem__ treating keys as positions is deprecated. In a future version, integer keys will always be treated as labels (consistent with DataFrame behavior). To access a value by position, use `ser.iloc[pos]`\n",
      "  df = pd.DataFrame(pd.read_json(\"Test/\" + db_lst[db]).loc[\"participants\"][0][0])\n",
      "/var/folders/dk/5xxlbv9n6xngmfm92w8343_40000gp/T/ipykernel_94673/188529299.py:40: SettingWithCopyWarning: \n",
      "A value is trying to be set on a copy of a slice from a DataFrame.\n",
      "Try using .loc[row_indexer,col_indexer] = value instead\n",
      "\n",
      "See the caveats in the documentation: https://pandas.pydata.org/pandas-docs/stable/user_guide/indexing.html#returning-a-view-versus-a-copy\n",
      "  ergo_500m_norm[\"split_time\"] = ergo_500m_norm[\"split_time\"] / 10\n",
      "/var/folders/dk/5xxlbv9n6xngmfm92w8343_40000gp/T/ipykernel_94673/188529299.py:43: SettingWithCopyWarning: \n",
      "A value is trying to be set on a copy of a slice from a DataFrame.\n",
      "Try using .loc[row_indexer,col_indexer] = value instead\n",
      "\n",
      "See the caveats in the documentation: https://pandas.pydata.org/pandas-docs/stable/user_guide/indexing.html#returning-a-view-versus-a-copy\n",
      "  ergo_500m_cumule[\"split_running_time\"] = ergo_500m_cumule[\"split_running_time\"] / 10\n"
     ]
    },
    {
     "name": "stdout",
     "output_type": "stream",
     "text": [
      "Columns name : ['split_avg_pace', 'split_calories', 'split_distance', 'split_drag_factor', 'split_running_calories', 'split_running_distance', 'split_running_time', 'split_stroke_count', 'split_stroke_rate', 'split_time', 'split_type', 'participant', 'serial_number', 'spm', 'calories']\n"
     ]
    }
   ],
   "source": [
    "# Get columns\n",
    "col = list(pd.DataFrame(pd.read_json(\"Test/\" + db_lst[0]).loc[\"participants\"][0][0])['splits'][0].keys()) + ['participant', 'serial_number','spm','calories']\n",
    "print(\"Columns name :\",col)\n",
    "\n",
    "\n",
    "#df_main = pd.DataFrame(pd.read_json(\"Test/\" + db_lst[0]).loc[\"participants\"][0][0])\n",
    "dict_main = dict()\n",
    "for c in range(len(col)) : \n",
    "    if col[c] not in dict_main : \n",
    "        dict_main[col[c]] = []\n",
    "\n",
    "for db in range(len(db_lst)) : \n",
    "    # print(db_lst[db])\n",
    "    # df = pd.DataFrame(pd.read_json(\"Test/\" + db_lst[db]).loc[\"participants\"][0][0])\n",
    "    # for c in range(len(col)) : \n",
    "    #     pass\n",
    "    df = pd.DataFrame(pd.read_json(\"Test/\" + db_lst[db]).loc[\"participants\"][0][0])\n",
    "    di = df['splits']\n",
    "\n",
    "\n",
    "    for i in range(len(di)) : \n",
    "        for c in range(len(col)) : \n",
    "            if col[c] in ['participant', 'serial_number','spm','calories'] : \n",
    "                dict_main[col[c]].append(df[col[c]][0])\n",
    "            else : \n",
    "                dict_main[col[c]].append(di[i][col[c]])\n",
    "\n",
    "ergo_500m = pd.DataFrame(dict_main)\n",
    "\n",
    "cumule_col = []\n",
    "norm_col = []\n",
    "\n",
    "for c in col : \n",
    "    if \"running\" in c : \n",
    "        cumule_col.append(c)\n",
    "    else : \n",
    "        norm_col.append(c)\n",
    "\n",
    "ergo_500m_norm = ergo_500m[norm_col]\n",
    "ergo_500m_norm[\"split_time\"] = ergo_500m_norm[\"split_time\"] / 10\n",
    "\n",
    "ergo_500m_cumule = ergo_500m[cumule_col]\n",
    "ergo_500m_cumule[\"split_running_time\"] = ergo_500m_cumule[\"split_running_time\"] / 10\n",
    "\n",
    "# To save\n",
    "ergo_500m.to_json(\"Test/ergometer_500m.json\", index=False)\n",
    "ergo_500m_norm.to_json(\"Test/ergometer_500m_norm.json\", index=False)\n",
    "ergo_500m_cumule.to_json(\"Test/ergometer_500m_cumule.json\", index=False)"
   ]
  },
  {
   "cell_type": "markdown",
   "metadata": {},
   "source": [
    "---"
   ]
  }
 ],
 "metadata": {
  "kernelspec": {
   "display_name": "Python 3",
   "language": "python",
   "name": "python3"
  },
  "language_info": {
   "codemirror_mode": {
    "name": "ipython",
    "version": 3
   },
   "file_extension": ".py",
   "mimetype": "text/x-python",
   "name": "python",
   "nbconvert_exporter": "python",
   "pygments_lexer": "ipython3",
   "version": "3.9.7"
  }
 },
 "nbformat": 4,
 "nbformat_minor": 2
}
