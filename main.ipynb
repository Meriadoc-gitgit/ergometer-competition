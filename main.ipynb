{
 "cells": [
  {
   "cell_type": "markdown",
   "metadata": {},
   "source": [
    "<h1><center>Ergometer Competition | SDA 2024</center></h1>\n",
    "\n",
    "## I - Team Information\n",
    "1. Hoang Thuy Duong VU | 12413578\n",
    "2. Johan\n",
    "3. Inès HUMMEL\n",
    "4. Céline CHEN\n",
    "\n",
    "## II - Présentation du projet\n",
    "\n",
    "Le fichier `.zip` joint contient les données recueillies au cours d’une compétition d’ergomètre *(machine à ramer)* → L’ensemble de fichiers sous forme `.json`.\n",
    "\n",
    "La compétition se déroule comme suit: chaque série comporte 4 rameurs qui vont parcourir 2000m virtuels sur leurs machines. \n",
    "\n",
    ">**But**: Être le plus rapide possible sur ces 2000m. \n",
    "\n",
    "Les données de chaque série sont enregistrées par les machines et recueillies. \n",
    "\n",
    "Les courses ont été paramétrées pour que chaque parcours de 2000m soit divisé en 4 parties de 500m, ie. les stats données par les ergomètres sont calculées et restituées tous les 500m. \n",
    "\n",
    "Chaque fichier `.zip` correspond à une série. \n",
    "\n",
    "## III - Table of Contents\n",
    "\n",
    "1. [Requirements](#i---requirements)\n",
    "\n",
    "2. [Utils](#ii---utils)\n",
    "\n",
    "3. [Data Preprocessing](#iii---data-preprocessing)\n",
    "    1. [Schema](#schema)\n",
    "    2. [Race over 2000m](#race-over-2000m)\n",
    "        1. [Creation 2000m](#creation-2000m)\n",
    "        2. [Description 2000m](#description-2000m)\n",
    "\n",
    "    3. [Race over 500m](#race-over-500m)\n",
    "        1. [Creation 500m](#creation-500m)\n",
    "        2. [Description 500m](#description-500m)\n",
    "\n",
    "4. [Data Exploration](#iv---data-exploration)\n",
    "    1. [Question 1](#question-1)\n",
    "    2. [Question 2](#question-2)\n",
    "    3. [Question 3](#question-3\\)\n"
   ]
  },
  {
   "cell_type": "markdown",
   "metadata": {},
   "source": [
    "---"
   ]
  },
  {
   "cell_type": "markdown",
   "metadata": {},
   "source": [
    "# I - Requirements"
   ]
  },
  {
   "cell_type": "code",
   "execution_count": 1,
   "metadata": {},
   "outputs": [
    {
     "name": "stdout",
     "output_type": "stream",
     "text": [
      "List of database : ['Série 1(0001).json', 'Série 4.json', 'Série 5.json', 'Série 2.json', 'Série 3.json', 'Progressif.json', 'Série 6.json', 'Série 7.json']\n"
     ]
    }
   ],
   "source": [
    "# Import pandas\n",
    "import pandas as pd\n",
    "import numpy as np\n",
    "\n",
    "# ========================================\n",
    "import os\n",
    "\n",
    "directory = os.getcwd() + \"/Test/\"\n",
    "db_lst = os.listdir(directory) \n",
    "\n",
    "print(\"List of database :\",db_lst)\n",
    "\n",
    "# ========================================\n",
    "import warnings\n",
    "\n",
    "# Suppress all warnings\n",
    "warnings.filterwarnings(\"ignore\")\n",
    "\n",
    "# Suppress a specific warning type\n",
    "warnings.filterwarnings(\"ignore\", category=DeprecationWarning)"
   ]
  },
  {
   "cell_type": "markdown",
   "metadata": {},
   "source": [
    "# II - Utils"
   ]
  },
  {
   "cell_type": "code",
   "execution_count": 2,
   "metadata": {},
   "outputs": [],
   "source": [
    "# Identify duplicate columns having different names\n",
    "def duplicate_columns(frame):\n",
    "    groups = frame.columns.to_series().groupby(frame.dtypes).groups\n",
    "    dups = []\n",
    "\n",
    "    for t, v in groups.items():\n",
    "\n",
    "        cs = frame[v].columns\n",
    "        vs = frame[v]\n",
    "        lcs = len(cs)\n",
    "\n",
    "        for i in range(lcs):\n",
    "            iv = vs.iloc[:,i].tolist()\n",
    "            for j in range(i+1, lcs):\n",
    "                jv = vs.iloc[:,j].tolist()\n",
    "                if iv == jv:\n",
    "                    dups.append(cs[i])\n",
    "                    break\n",
    "\n",
    "    return dups "
   ]
  },
  {
   "cell_type": "markdown",
   "metadata": {},
   "source": [
    "# III - Data preprocessing\n",
    "\n",
    "*@Writer : Duong*"
   ]
  },
  {
   "cell_type": "markdown",
   "metadata": {},
   "source": [
    "## Schema\n",
    "\n",
    "*(à insérer l'image dessus)*"
   ]
  },
  {
   "cell_type": "markdown",
   "metadata": {},
   "source": [
    "## Race over 2000m\n",
    "### Creation 2000m"
   ]
  },
  {
   "cell_type": "code",
   "execution_count": 3,
   "metadata": {},
   "outputs": [
    {
     "name": "stdout",
     "output_type": "stream",
     "text": [
      "Columns name : ['affiliation', 'avg_pace', 'calories', 'class', 'distance', 'id', 'lane', 'logbook_id', 'logged_time', 'machine_type', 'participant', 'place', 'score', 'serial_number', 'spm', 'time']\n"
     ]
    }
   ],
   "source": [
    "# Create 2000m ergometer database\n",
    "\n",
    "# Get columns\n",
    "col = list(pd.read_json(\"Test/\" + db_lst[0]).loc[\"participants\"][0][0].keys())\n",
    "col.remove('splits')\n",
    "print(\"Columns name :\",col)\n",
    "\n",
    "#df_main = pd.DataFrame(pd.read_json(\"Test/\" + db_lst[0]).loc[\"participants\"][0][0])\n",
    "dict_main = dict()\n",
    "for c in range(len(col)) : \n",
    "    if col[c] not in dict_main : \n",
    "        dict_main[col[c]] = []\n",
    "\n",
    "for db in range(len(db_lst)) : \n",
    "    data = pd.read_json(\"Test/\" + db_lst[db]).loc[\"participants\"][0]\n",
    "    for i in range(len(data)) : \n",
    "        # print(db_lst[db])\n",
    "        # df = pd.DataFrame(pd.read_json(\"Test/\" + db_lst[db]).loc[\"participants\"][0][0])\n",
    "        # for c in range(len(col)) : \n",
    "        #     pass\n",
    "        df = pd.DataFrame(pd.read_json(\"Test/\" + db_lst[db]).loc[\"participants\"][0][i])\n",
    "        for c in range(len(col)) : \n",
    "            dict_main[col[c]].append(np.unique(list(df[col[c]]))[0])\n",
    "\n",
    "ergo_2000m = pd.DataFrame(dict_main)\n",
    "ergo_2000m.replace(to_replace='',value=np.nan,inplace=True)\n",
    "\n",
    "for c in range(len(col)) : \n",
    "    if ergo_2000m[col[c]].isna().sum() >= len(ergo_2000m) // 2 : \n",
    "        ergo_2000m.drop([col[c]],axis=1,inplace=True)\n",
    "\n",
    "ergo_2000m.drop(duplicate_columns(ergo_2000m),axis=1,inplace=True)\n",
    "\n",
    "ergo_2000m.drop([\"machine_type\"],axis=1,inplace=True)\n",
    "\n",
    "# To save\n",
    "ergo_2000m.to_json(\"Test/ergometer_2000m.json\", index=False)"
   ]
  },
  {
   "cell_type": "markdown",
   "metadata": {},
   "source": [
    "### Description 2000m\n",
    "\n",
    "**Fichier à utiliser** : `Test/ergometer_2000m.json`\n",
    "\n",
    "|id|Nom de colonnes|Signification|Mesuré en|\n",
    "|-|-|-|-|\n",
    "|0|avg_pace|L’allure moyenne du rameur pendant la course, mesurée en minutes et secondes par 500 mètres|`1:59.3` pour une allure de 1 minute et 59,3 secondes par 500m|\n",
    "|1|calories|Le nombre total de calories brûlées par le participant pendant la course, calculé en fonction de l’effort fourni et de la durée de la course|calories|\n",
    "|2|distance|La distance totale parcourue par le participant en mètres|mètre|\n",
    "|3|lane|Le numéro de la ligne attribuée au participant, qui permet d’identifier sa position dans la série de la course|numéro|\n",
    "|4|logged_time|L’horodatage indiquant le moment où les données ont été enregistrées, souvent sous forme de chaîne de caractères|texte|\n",
    "|5|participant|Le nom ou l’identifiant du rameur participant à la compétition, stocké sous forme de chaîne de caractères|texte|\n",
    "|6|place|Le classement final ou la position du rameur à la fin de la course|numéro|\n",
    "|7|serial_number|Le numéro de série de la machine d’ergomètre utilisée par le participant. Ce numéro permet de tracer chaque machine individuellement|numéro|\n",
    "|8|splits|Informations concernant les 4 splits de 500m|objet JSON|\n",
    "|9|spm|Strokes per minute (SPM), c’est-à-dire le nombre de coups de rame par minute. Cela mesure la cadence du rameur pendant la course|coups par minute (SPM)|\n",
    "|10|time|Le temps total pris par le rameur pour terminer la course, probablement sous forme de chaîne de caractères|format de type HH:MM:SS|\n"
   ]
  },
  {
   "cell_type": "code",
   "execution_count": 4,
   "metadata": {},
   "outputs": [
    {
     "name": "stdout",
     "output_type": "stream",
     "text": [
      "Number of data : 32\n"
     ]
    }
   ],
   "source": [
    "print(\"Number of data :\",len(ergo_2000m))"
   ]
  },
  {
   "cell_type": "code",
   "execution_count": 5,
   "metadata": {},
   "outputs": [
    {
     "data": {
      "text/html": [
       "<div>\n",
       "<style scoped>\n",
       "    .dataframe tbody tr th:only-of-type {\n",
       "        vertical-align: middle;\n",
       "    }\n",
       "\n",
       "    .dataframe tbody tr th {\n",
       "        vertical-align: top;\n",
       "    }\n",
       "\n",
       "    .dataframe thead th {\n",
       "        text-align: right;\n",
       "    }\n",
       "</style>\n",
       "<table border=\"1\" class=\"dataframe\">\n",
       "  <thead>\n",
       "    <tr style=\"text-align: right;\">\n",
       "      <th></th>\n",
       "      <th>avg_pace</th>\n",
       "      <th>calories</th>\n",
       "      <th>distance</th>\n",
       "      <th>lane</th>\n",
       "      <th>logged_time</th>\n",
       "      <th>participant</th>\n",
       "      <th>place</th>\n",
       "      <th>serial_number</th>\n",
       "      <th>spm</th>\n",
       "      <th>time</th>\n",
       "    </tr>\n",
       "  </thead>\n",
       "  <tbody>\n",
       "    <tr>\n",
       "      <th>0</th>\n",
       "      <td>1:59.3</td>\n",
       "      <td>131</td>\n",
       "      <td>2000</td>\n",
       "      <td>3</td>\n",
       "      <td>22/01/2023 09:51:00</td>\n",
       "      <td>Eric</td>\n",
       "      <td>1</td>\n",
       "      <td>430839301</td>\n",
       "      <td>27</td>\n",
       "      <td>7:57.3</td>\n",
       "    </tr>\n",
       "    <tr>\n",
       "      <th>1</th>\n",
       "      <td>2:00.9</td>\n",
       "      <td>130</td>\n",
       "      <td>2000</td>\n",
       "      <td>1</td>\n",
       "      <td>22/01/2023 09:51:00</td>\n",
       "      <td>Edouard</td>\n",
       "      <td>2</td>\n",
       "      <td>530398582</td>\n",
       "      <td>30</td>\n",
       "      <td>8:03.7</td>\n",
       "    </tr>\n",
       "    <tr>\n",
       "      <th>2</th>\n",
       "      <td>2:05.2</td>\n",
       "      <td>125</td>\n",
       "      <td>2000</td>\n",
       "      <td>2</td>\n",
       "      <td>22/01/2023 09:52:00</td>\n",
       "      <td>Baptiste</td>\n",
       "      <td>3</td>\n",
       "      <td>530087901</td>\n",
       "      <td>24</td>\n",
       "      <td>8:21.1</td>\n",
       "    </tr>\n",
       "    <tr>\n",
       "      <th>3</th>\n",
       "      <td>2:06.0</td>\n",
       "      <td>124</td>\n",
       "      <td>2000</td>\n",
       "      <td>4</td>\n",
       "      <td>22/01/2023 09:52:00</td>\n",
       "      <td>Loïs</td>\n",
       "      <td>4</td>\n",
       "      <td>430321703</td>\n",
       "      <td>30</td>\n",
       "      <td>8:24.1</td>\n",
       "    </tr>\n",
       "    <tr>\n",
       "      <th>4</th>\n",
       "      <td>1:59.5</td>\n",
       "      <td>132</td>\n",
       "      <td>2000</td>\n",
       "      <td>1</td>\n",
       "      <td>22/01/2023 10:33:00</td>\n",
       "      <td>Alice</td>\n",
       "      <td>1</td>\n",
       "      <td>530398582</td>\n",
       "      <td>28</td>\n",
       "      <td>7:58.1</td>\n",
       "    </tr>\n",
       "  </tbody>\n",
       "</table>\n",
       "</div>"
      ],
      "text/plain": [
       "  avg_pace  calories  distance  lane          logged_time participant  place  \\\n",
       "0   1:59.3       131      2000     3  22/01/2023 09:51:00        Eric      1   \n",
       "1   2:00.9       130      2000     1  22/01/2023 09:51:00     Edouard      2   \n",
       "2   2:05.2       125      2000     2  22/01/2023 09:52:00    Baptiste      3   \n",
       "3   2:06.0       124      2000     4  22/01/2023 09:52:00        Loïs      4   \n",
       "4   1:59.5       132      2000     1  22/01/2023 10:33:00       Alice      1   \n",
       "\n",
       "   serial_number  spm    time  \n",
       "0      430839301   27  7:57.3  \n",
       "1      530398582   30  8:03.7  \n",
       "2      530087901   24  8:21.1  \n",
       "3      430321703   30  8:24.1  \n",
       "4      530398582   28  7:58.1  "
      ]
     },
     "execution_count": 5,
     "metadata": {},
     "output_type": "execute_result"
    }
   ],
   "source": [
    "# Visualisation des données\n",
    "ergo_2000m.head()"
   ]
  },
  {
   "cell_type": "code",
   "execution_count": 6,
   "metadata": {},
   "outputs": [
    {
     "name": "stdout",
     "output_type": "stream",
     "text": [
      "<class 'pandas.core.frame.DataFrame'>\n",
      "RangeIndex: 32 entries, 0 to 31\n",
      "Data columns (total 10 columns):\n",
      " #   Column         Non-Null Count  Dtype \n",
      "---  ------         --------------  ----- \n",
      " 0   avg_pace       32 non-null     object\n",
      " 1   calories       32 non-null     int64 \n",
      " 2   distance       32 non-null     int64 \n",
      " 3   lane           32 non-null     int64 \n",
      " 4   logged_time    32 non-null     object\n",
      " 5   participant    32 non-null     object\n",
      " 6   place          32 non-null     int64 \n",
      " 7   serial_number  32 non-null     int64 \n",
      " 8   spm            32 non-null     int64 \n",
      " 9   time           32 non-null     object\n",
      "dtypes: int64(6), object(4)\n",
      "memory usage: 2.6+ KB\n"
     ]
    }
   ],
   "source": [
    "# Informations générales des données\n",
    "ergo_2000m.info()"
   ]
  },
  {
   "cell_type": "markdown",
   "metadata": {},
   "source": [
    "## Race over 500m\n",
    "### Creation 500m"
   ]
  },
  {
   "cell_type": "code",
   "execution_count": 19,
   "metadata": {},
   "outputs": [
    {
     "name": "stdout",
     "output_type": "stream",
     "text": [
      "Columns name : ['split_avg_pace', 'split_calories', 'split_distance', 'split_drag_factor', 'split_running_calories', 'split_running_distance', 'split_running_time', 'split_stroke_count', 'split_stroke_rate', 'split_time', 'split_type', 'participant', 'serial_number', 'calories', 'place']\n"
     ]
    }
   ],
   "source": [
    "# Get columns\n",
    "col = list(pd.DataFrame(pd.read_json(\"Test/\" + db_lst[0]).loc[\"participants\"][0][0])['splits'][0].keys()) + ['participant', 'serial_number','calories','place']\n",
    "print(\"Columns name :\",col)\n",
    "\n",
    "\n",
    "#df_main = pd.DataFrame(pd.read_json(\"Test/\" + db_lst[0]).loc[\"participants\"][0][0])\n",
    "dict_main = dict()\n",
    "for c in range(len(col)) : \n",
    "    if col[c] not in dict_main : \n",
    "        dict_main[col[c]] = []\n",
    "\n",
    "for db in range(len(db_lst)) : \n",
    "    data = pd.read_json(\"Test/\" + db_lst[db]).loc[\"participants\"][0]\n",
    "    for i in range(len(data)) : \n",
    "        # print(db_lst[db])\n",
    "        # df = pd.DataFrame(pd.read_json(\"Test/\" + db_lst[db]).loc[\"participants\"][0][0])\n",
    "        # for c in range(len(col)) : \n",
    "        #     pass\n",
    "        df = pd.DataFrame(pd.read_json(\"Test/\" + db_lst[db]).loc[\"participants\"][0][i])\n",
    "        di = df['splits']\n",
    "\n",
    "\n",
    "        for i in range(len(di)) : \n",
    "            for c in range(len(col)) : \n",
    "                if col[c] in ['participant', 'serial_number','calories','place'] : \n",
    "                    dict_main[col[c]].append(df[col[c]][0])\n",
    "                else : \n",
    "                    dict_main[col[c]].append(di[i][col[c]])\n",
    "\n",
    "ergo_500m = pd.DataFrame(dict_main)\n",
    "\n",
    "cumule_col = []\n",
    "norm_col = []\n",
    "\n",
    "for c in col : \n",
    "    if \"running\" in c : \n",
    "        cumule_col.append(c)\n",
    "    else : \n",
    "        norm_col.append(c)\n",
    "\n",
    "ergo_500m.drop(duplicate_columns(ergo_500m),axis=1,inplace=True)\n",
    "ergo_500m[\"split_running_time\"] = ergo_500m[\"split_running_time\"] / 10\n",
    "ergo_500m[\"split_time\"] = ergo_500m[\"split_time\"] / 10\n",
    "\n",
    "ergo_500m_norm = ergo_500m[norm_col]\n",
    "\n",
    "ergo_500m_cumule = ergo_500m[cumule_col]\n",
    "\n",
    "# To save\n",
    "ergo_500m.to_json(\"Test/ergometer_500m.json\", index=False)\n",
    "ergo_500m_norm.to_json(\"Test/ergometer_500m_norm.json\", index=False)\n",
    "ergo_500m_cumule.to_json(\"Test/ergometer_500m_cumule.json\", index=False)"
   ]
  },
  {
   "cell_type": "markdown",
   "metadata": {},
   "source": [
    "### Description 500m\n",
    "\n",
    "**Fichier à utiliser** : \n",
    "- Fichier principal : `Test/ergometer_500m.json`\n",
    "- Fichier à utiliser (recommandé) : `Test/ergometer_500m_norm.json`\n",
    "- Fichier cumulé : `Test/ergometer_500m_cumule.json`\n",
    "\n",
    "|id|Nom de colonnes|Signification|Mesuré en|\n",
    "|-|-|-|-|\n",
    "|0|split_avg_pace|L'allure moyenne du rameur pendant chaque split, mesurée en minutes et secondes par 500 mètres|`1:59.3` pour une allure de 1 minute et 59,3 secondes par 500m|\n",
    "|1|split_calories|Le nombre de calories brûlées durant chaque split de 500m, calculé en fonction de l'effort fourni pendant la section de course|calories|\n",
    "|2|split_distance|La distance parcourue dans chaque split, correspondant à 500m|mètre|\n",
    "|3|split_drag_factor|Le coefficient de résistance de l'ergomètre pendant chaque split, influençant la difficulté du mouvement|valeur numérique (sans unité)|\n",
    "|4|split_running_calories|Le cumul des calories brûlées jusqu'à la fin de chaque split|calories|\n",
    "|5|split_running_distance|Le cumul de la distance parcourue jusqu'à la fin de chaque split|mètre|\n",
    "|6|split_running_time|Le cumul du temps écoulé jusqu'à la fin de chaque split|format de type HH:MM:SS|\n",
    "|7|split_stroke_count|Le nombre total de coups de rame effectués dans chaque split de 500m|nombre de coups|\n",
    "|8|split_stroke_rate|La cadence moyenne de coups de rame par minute durant chaque split|coups par minute (SPM)|\n",
    "|9|split_time|Le temps total pris pour terminer chaque split|format de type HH:MM:SS|\n",
    "|10|split_type|Type de split enregistré, indiquant les différentes sections de la course (par ex., 1er split, 2e split, etc.)|texte|\n",
    "|11|participant|Le nom ou l'identifiant du rameur participant à la compétition, stocké sous forme de chaîne de caractères|texte|\n",
    "|12|serial_number|Le numéro de série de la machine d'ergomètre utilisée par le participant. Ce numéro permet de tracer chaque machine|nombre|\n",
    "|13|calories|Le nombre total de calories brûlées par le participant pendant la course, calculé en fonction de l'effort fourni et de la durée de la course|calories|\n",
    "|14|place|Le classement final ou la position du rameur à la fin de la course|numéro|"
   ]
  },
  {
   "cell_type": "code",
   "execution_count": 20,
   "metadata": {},
   "outputs": [
    {
     "name": "stdout",
     "output_type": "stream",
     "text": [
      "Number of data : 128\n"
     ]
    }
   ],
   "source": [
    "print(\"Number of data :\",len(ergo_500m))"
   ]
  },
  {
   "cell_type": "code",
   "execution_count": 21,
   "metadata": {},
   "outputs": [
    {
     "data": {
      "text/html": [
       "<div>\n",
       "<style scoped>\n",
       "    .dataframe tbody tr th:only-of-type {\n",
       "        vertical-align: middle;\n",
       "    }\n",
       "\n",
       "    .dataframe tbody tr th {\n",
       "        vertical-align: top;\n",
       "    }\n",
       "\n",
       "    .dataframe thead th {\n",
       "        text-align: right;\n",
       "    }\n",
       "</style>\n",
       "<table border=\"1\" class=\"dataframe\">\n",
       "  <thead>\n",
       "    <tr style=\"text-align: right;\">\n",
       "      <th></th>\n",
       "      <th>split_avg_pace</th>\n",
       "      <th>split_calories</th>\n",
       "      <th>split_distance</th>\n",
       "      <th>split_drag_factor</th>\n",
       "      <th>split_running_calories</th>\n",
       "      <th>split_running_distance</th>\n",
       "      <th>split_running_time</th>\n",
       "      <th>split_stroke_count</th>\n",
       "      <th>split_stroke_rate</th>\n",
       "      <th>split_time</th>\n",
       "      <th>split_type</th>\n",
       "      <th>participant</th>\n",
       "      <th>serial_number</th>\n",
       "      <th>calories</th>\n",
       "      <th>place</th>\n",
       "    </tr>\n",
       "  </thead>\n",
       "  <tbody>\n",
       "    <tr>\n",
       "      <th>0</th>\n",
       "      <td>1:59.4</td>\n",
       "      <td>33</td>\n",
       "      <td>500</td>\n",
       "      <td>120</td>\n",
       "      <td>33</td>\n",
       "      <td>500</td>\n",
       "      <td>119.4</td>\n",
       "      <td>56</td>\n",
       "      <td>28</td>\n",
       "      <td>119.4</td>\n",
       "      <td>distance_split</td>\n",
       "      <td>Eric</td>\n",
       "      <td>430839301</td>\n",
       "      <td>131</td>\n",
       "      <td>1</td>\n",
       "    </tr>\n",
       "    <tr>\n",
       "      <th>1</th>\n",
       "      <td>2:01.2</td>\n",
       "      <td>32</td>\n",
       "      <td>500</td>\n",
       "      <td>120</td>\n",
       "      <td>65</td>\n",
       "      <td>1000</td>\n",
       "      <td>240.6</td>\n",
       "      <td>53</td>\n",
       "      <td>26</td>\n",
       "      <td>121.2</td>\n",
       "      <td>distance_split</td>\n",
       "      <td>Eric</td>\n",
       "      <td>430839301</td>\n",
       "      <td>131</td>\n",
       "      <td>1</td>\n",
       "    </tr>\n",
       "    <tr>\n",
       "      <th>2</th>\n",
       "      <td>2:01.2</td>\n",
       "      <td>32</td>\n",
       "      <td>500</td>\n",
       "      <td>120</td>\n",
       "      <td>97</td>\n",
       "      <td>1500</td>\n",
       "      <td>361.8</td>\n",
       "      <td>54</td>\n",
       "      <td>27</td>\n",
       "      <td>121.2</td>\n",
       "      <td>distance_split</td>\n",
       "      <td>Eric</td>\n",
       "      <td>430839301</td>\n",
       "      <td>131</td>\n",
       "      <td>1</td>\n",
       "    </tr>\n",
       "    <tr>\n",
       "      <th>3</th>\n",
       "      <td>1:55.5</td>\n",
       "      <td>34</td>\n",
       "      <td>500</td>\n",
       "      <td>120</td>\n",
       "      <td>131</td>\n",
       "      <td>2000</td>\n",
       "      <td>477.3</td>\n",
       "      <td>56</td>\n",
       "      <td>29</td>\n",
       "      <td>115.5</td>\n",
       "      <td>distance_split</td>\n",
       "      <td>Eric</td>\n",
       "      <td>430839301</td>\n",
       "      <td>131</td>\n",
       "      <td>1</td>\n",
       "    </tr>\n",
       "    <tr>\n",
       "      <th>4</th>\n",
       "      <td>1:54.8</td>\n",
       "      <td>35</td>\n",
       "      <td>500</td>\n",
       "      <td>121</td>\n",
       "      <td>35</td>\n",
       "      <td>500</td>\n",
       "      <td>114.8</td>\n",
       "      <td>59</td>\n",
       "      <td>31</td>\n",
       "      <td>114.8</td>\n",
       "      <td>distance_split</td>\n",
       "      <td>Edouard</td>\n",
       "      <td>530398582</td>\n",
       "      <td>130</td>\n",
       "      <td>2</td>\n",
       "    </tr>\n",
       "  </tbody>\n",
       "</table>\n",
       "</div>"
      ],
      "text/plain": [
       "  split_avg_pace  split_calories  split_distance  split_drag_factor  \\\n",
       "0         1:59.4              33             500                120   \n",
       "1         2:01.2              32             500                120   \n",
       "2         2:01.2              32             500                120   \n",
       "3         1:55.5              34             500                120   \n",
       "4         1:54.8              35             500                121   \n",
       "\n",
       "   split_running_calories  split_running_distance  split_running_time  \\\n",
       "0                      33                     500               119.4   \n",
       "1                      65                    1000               240.6   \n",
       "2                      97                    1500               361.8   \n",
       "3                     131                    2000               477.3   \n",
       "4                      35                     500               114.8   \n",
       "\n",
       "   split_stroke_count  split_stroke_rate  split_time      split_type  \\\n",
       "0                  56                 28       119.4  distance_split   \n",
       "1                  53                 26       121.2  distance_split   \n",
       "2                  54                 27       121.2  distance_split   \n",
       "3                  56                 29       115.5  distance_split   \n",
       "4                  59                 31       114.8  distance_split   \n",
       "\n",
       "  participant  serial_number  calories  place  \n",
       "0        Eric      430839301       131      1  \n",
       "1        Eric      430839301       131      1  \n",
       "2        Eric      430839301       131      1  \n",
       "3        Eric      430839301       131      1  \n",
       "4     Edouard      530398582       130      2  "
      ]
     },
     "execution_count": 21,
     "metadata": {},
     "output_type": "execute_result"
    }
   ],
   "source": [
    "# Visualisation des données\n",
    "ergo_500m.head()"
   ]
  },
  {
   "cell_type": "code",
   "execution_count": 10,
   "metadata": {},
   "outputs": [
    {
     "name": "stdout",
     "output_type": "stream",
     "text": [
      "<class 'pandas.core.frame.DataFrame'>\n",
      "RangeIndex: 128 entries, 0 to 127\n",
      "Data columns (total 15 columns):\n",
      " #   Column                  Non-Null Count  Dtype \n",
      "---  ------                  --------------  ----- \n",
      " 0   split_avg_pace          128 non-null    object\n",
      " 1   split_calories          128 non-null    int64 \n",
      " 2   split_distance          128 non-null    int64 \n",
      " 3   split_drag_factor       128 non-null    int64 \n",
      " 4   split_running_calories  128 non-null    int64 \n",
      " 5   split_running_distance  128 non-null    int64 \n",
      " 6   split_running_time      128 non-null    int64 \n",
      " 7   split_stroke_count      128 non-null    int64 \n",
      " 8   split_stroke_rate       128 non-null    int64 \n",
      " 9   split_time              128 non-null    int64 \n",
      " 10  split_type              128 non-null    object\n",
      " 11  participant             128 non-null    object\n",
      " 12  serial_number           128 non-null    int64 \n",
      " 13  calories                128 non-null    int64 \n",
      " 14  place                   128 non-null    int64 \n",
      "dtypes: int64(12), object(3)\n",
      "memory usage: 15.1+ KB\n"
     ]
    }
   ],
   "source": [
    "# Informations générales des données\n",
    "ergo_500m.info()"
   ]
  },
  {
   "cell_type": "markdown",
   "metadata": {},
   "source": [
    "# IV - Data exploration"
   ]
  },
  {
   "cell_type": "markdown",
   "metadata": {},
   "source": [
    "## Question 1\n",
    "*@Writer : Céline + Inès*"
   ]
  },
  {
   "cell_type": "markdown",
   "metadata": {},
   "source": [
    "## Question 2\n",
    "*@Writer : Céline + Inès*"
   ]
  },
  {
   "cell_type": "markdown",
   "metadata": {},
   "source": [
    "## Question 3\n",
    "*@Writer : Duong + Johan*"
   ]
  },
  {
   "cell_type": "code",
   "execution_count": 23,
   "metadata": {},
   "outputs": [
    {
     "name": "stdout",
     "output_type": "stream",
     "text": [
      "La vitesse maximale est de 19.54397394136808 km/h, atteinte à une cadence de 34 SPM.\n"
     ]
    },
    {
     "data": {
      "image/png": "[encoded data removed]",
      "text/plain": [
       "<Figure size 720x432 with 1 Axes>"
      ]
     },
     "metadata": {
      "needs_background": "light"
     },
     "output_type": "display_data"
    }
   ],
   "source": [
    "import pandas as pd\n",
    "import matplotlib.pyplot as plt\n",
    "\n",
    "df = pd.read_json(\"Test/ergometer_500m_norm.json\")\n",
    "\n",
    "distance = 0.5 # km\n",
    "\n",
    "\n",
    "# Calcul de la longueur moyenne du coup (distance parcourue / nombre de coups)\n",
    "df['stroke_length'] = (distance * 1000) / df['split_stroke_count']\n",
    "\n",
    "# Calcul de la vitesse en km/h (distance en km / temps en heures)\n",
    "df['split_time_hours'] = df['split_time'] / 3600  # Conversion du temps en heures\n",
    "df['speed_kmh'] = distance / df['split_time_hours']  # La distance est de 0.5 km (500m)\n",
    "\n",
    "fastest_row = df.loc[df['speed_kmh'].idxmax()]\n",
    "\n",
    "print(f\"La vitesse maximale est de {fastest_row['speed_kmh']} km/h, atteinte à une cadence de {fastest_row['split_stroke_rate']} SPM.\")\n",
    "\n",
    "\n",
    "\n",
    "plt.figure(figsize=(10, 6))\n",
    "plt.scatter(df['split_stroke_rate'], df['stroke_length'], color='blue', label='Length of stroke per cadence')\n",
    "\n",
    "# point de cadence où la vitesse maximale est atteinte\n",
    "plt.scatter(fastest_row['split_stroke_rate'], fastest_row['stroke_length'], color='red', s=100, label=f'Max speed: {fastest_row[\"speed_kmh\"]:.2f} km/h')\n",
    "\n",
    "plt.title('Relationship between Stroke Rate and Length of Stroke')\n",
    "plt.xlabel('Cadence (SPM)')\n",
    "plt.ylabel('Length of Stroke (meters)')\n",
    "plt.grid()\n",
    "plt.legend()\n",
    "\n",
    "# Affichage du graphique\n",
    "plt.show()\n"
   ]
  },
  {
   "cell_type": "markdown",
   "metadata": {},
   "source": [
    "---"
   ]
  }
 ],
 "metadata": {
  "kernelspec": {
   "display_name": "Python 3",
   "language": "python",
   "name": "python3"
  },
  "language_info": {
   "codemirror_mode": {
    "name": "ipython",
    "version": 3
   },
   "file_extension": ".py",
   "mimetype": "text/x-python",
   "name": "python",
   "nbconvert_exporter": "python",
   "pygments_lexer": "ipython3",
   "version": "3.9.7"
  }
 },
 "nbformat": 4,
 "nbformat_minor": 2
}
