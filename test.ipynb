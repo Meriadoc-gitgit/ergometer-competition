{
 "cells": [
  {
   "cell_type": "code",
   "execution_count": 1,
   "metadata": {},
   "outputs": [],
   "source": [
    "import pandas as pd\n",
    "import numpy as np\n",
    "import matplotlib.pyplot as plt\n",
    "import seaborn as sns\n",
    "\n",
    "from sklearn.linear_model import LinearRegression\n",
    "from sklearn.ensemble import RandomForestClassifier\n",
    "from sklearn.neighbors import KNeighborsRegressor\n",
    "from sklearn.svm import SVC\n",
    "from sklearn.naive_bayes import MultinomialNB\n",
    "from sklearn.linear_model import LogisticRegression"
   ]
  },
  {
   "cell_type": "code",
   "execution_count": 2,
   "metadata": {},
   "outputs": [],
   "source": [
    "# Load the data\n",
    "df = pd.read_json(\"Test/ergometer_500m.json\")"
   ]
  },
  {
   "cell_type": "code",
   "execution_count": 3,
   "metadata": {},
   "outputs": [],
   "source": [
    "# Define target variable (e.g., speed) and features (time)\n",
    "X = df['split_time'].values.reshape(-1, 1)  # Time as the independent variable\n",
    "# Calcul de la vitesse en km/h (distance en km / temps en heures)\n",
    "df['split_time_hours'] = df['split_time'] / 3600  # Conversion du temps en heures\n",
    "df['speed_kmh'] = (0.5 / df['split_time'])*3600  # La distance est de 0.5 km (500m)\n",
    "y = df['speed_kmh'].values  # Speed as the dependent variable"
   ]
  },
  {
   "cell_type": "code",
   "execution_count": 4,
   "metadata": {},
   "outputs": [
    {
     "data": {
      "text/plain": [
       "128"
      ]
     },
     "execution_count": 4,
     "metadata": {},
     "output_type": "execute_result"
    }
   ],
   "source": [
    "len(X)"
   ]
  },
  {
   "cell_type": "code",
   "execution_count": 5,
   "metadata": {},
   "outputs": [
    {
     "name": "stdout",
     "output_type": "stream",
     "text": [
      "Actual Speed: 15.08 km/h, Predicted Speed: 15.09 km/h\n",
      "Actual Speed: 14.85 km/h, Predicted Speed: 14.86 km/h\n",
      "Actual Speed: 14.85 km/h, Predicted Speed: 14.86 km/h\n",
      "Actual Speed: 15.58 km/h, Predicted Speed: 15.59 km/h\n",
      "Actual Speed: 15.68 km/h, Predicted Speed: 15.66 km/h\n"
     ]
    }
   ],
   "source": [
    "import pandas as pd\n",
    "from sklearn.neighbors import KNeighborsRegressor\n",
    "\n",
    "# Load your data\n",
    "df = pd.read_json(\"Test/ergometer_500m.json\")\n",
    "\n",
    "# Define target variable (e.g., speed) and features (time)\n",
    "X = df['split_time'].values.reshape(-1, 1)  # Time as the independent variable\n",
    "\n",
    "# Calculate speed in km/h (distance in km / time in hours)\n",
    "df['split_time_hours'] = df['split_time'] / 3600  # Convert time to hours\n",
    "df['speed_kmh'] = (0.5 / df['split_time_hours'])  # Distance is 0.5 km (500m)\n",
    "\n",
    "y = df['speed_kmh'].values  # Speed as the dependent variable\n",
    "\n",
    "# Use KNeighborsRegressor instead of KNeighborsClassifier\n",
    "neigh = KNeighborsRegressor(n_neighbors=3)\n",
    "neigh.fit(X, y)\n",
    "\n",
    "# Predict speeds for new split times (you can input new data here)\n",
    "predicted_speeds = neigh.predict(X)\n",
    "\n",
    "# Display some predictions\n",
    "for actual, predicted in zip(y[:5], predicted_speeds[:5]):\n",
    "    print(f\"Actual Speed: {actual:.2f} km/h, Predicted Speed: {predicted:.2f} km/h\")"
   ]
  },
  {
   "cell_type": "code",
   "execution_count": 6,
   "metadata": {},
   "outputs": [
    {
     "name": "stdout",
     "output_type": "stream",
     "text": [
      "Predicted categories: ['medium' 'slow' 'slow' 'medium' 'medium' 'slow' 'slow' 'medium' 'medium'\n",
      " 'slow' 'slow' 'slow' 'medium' 'slow' 'slow' 'slow' 'medium' 'slow' 'slow'\n",
      " 'medium' 'slow' 'slow' 'slow' 'slow' 'slow' 'slow' 'slow' 'slow' 'slow'\n",
      " 'slow' 'slow' 'slow' 'slow' 'slow' 'slow' 'slow' 'slow' 'slow' 'slow'\n",
      " 'slow' 'slow' 'slow' 'slow' 'slow' 'slow' 'slow' 'slow' 'slow' 'medium'\n",
      " 'slow' 'slow' 'medium' 'medium' 'slow' 'slow' 'slow' 'slow' 'slow' 'slow'\n",
      " 'slow' 'slow' 'slow' 'slow' 'slow' 'medium' 'slow' 'slow' 'slow' 'slow'\n",
      " 'slow' 'slow' 'slow' 'slow' 'slow' 'slow' 'slow' 'slow' 'slow' 'slow'\n",
      " 'slow' 'fast' 'fast' 'fast' 'fast' 'medium' 'medium' 'medium' 'medium'\n",
      " 'medium' 'slow' 'medium' 'medium' 'slow' 'slow' 'slow' 'medium' 'fast'\n",
      " 'medium' 'medium' 'medium' 'medium' 'medium' 'medium' 'medium' 'medium'\n",
      " 'medium' 'medium' 'medium' 'slow' 'slow' 'slow' 'slow' 'slow' 'slow'\n",
      " 'slow' 'slow' 'slow' 'slow' 'slow' 'slow' 'slow' 'slow' 'slow' 'slow'\n",
      " 'slow' 'slow' 'slow' 'slow']\n"
     ]
    }
   ],
   "source": [
    "from sklearn.ensemble import RandomForestClassifier\n",
    "\n",
    "# Discretize speed into categories (e.g., low, medium, high speed)\n",
    "bins = np.linspace(0, 20, 5)\n",
    "df['speed_category'] = pd.cut(df['speed_kmh'], bins=[0, 15, 17.5, 20], labels=['slow', 'medium', 'fast'])\n",
    "\n",
    "X = df['split_time'].values.reshape(-1, 1)  # Time as feature\n",
    "y = df['speed_category'].values  # Speed categories as the target variable\n",
    "\n",
    "# Create and fit the model\n",
    "model = RandomForestClassifier(n_estimators=100)\n",
    "model.fit(X, y)\n",
    "\n",
    "# Predict speed categories based on the time\n",
    "predicted_categories = model.predict(X)\n",
    "print(f\"Predicted categories: {predicted_categories}\")"
   ]
  },
  {
   "cell_type": "code",
   "execution_count": 8,
   "metadata": {},
   "outputs": [
    {
     "data": {
      "text/plain": [
       "['medium', 'slow', 'slow', 'medium', 'medium', ..., 'slow', 'slow', 'slow', 'slow', 'slow']\n",
       "Length: 128\n",
       "Categories (3, object): ['slow' < 'medium' < 'fast']"
      ]
     },
     "execution_count": 8,
     "metadata": {},
     "output_type": "execute_result"
    }
   ],
   "source": [
    "y"
   ]
  },
  {
   "cell_type": "code",
   "execution_count": 10,
   "metadata": {},
   "outputs": [
    {
     "data": {
      "text/plain": [
       "array([ True,  True,  True,  True,  True,  True,  True,  True,  True,\n",
       "        True,  True,  True,  True,  True,  True,  True,  True,  True,\n",
       "        True,  True,  True,  True,  True,  True,  True,  True,  True,\n",
       "        True,  True,  True,  True,  True,  True,  True,  True,  True,\n",
       "        True,  True,  True,  True,  True,  True,  True,  True,  True,\n",
       "        True,  True,  True,  True,  True,  True,  True,  True,  True,\n",
       "        True,  True,  True,  True,  True,  True,  True,  True,  True,\n",
       "        True,  True,  True,  True,  True,  True,  True,  True,  True,\n",
       "        True,  True,  True,  True,  True,  True,  True,  True,  True,\n",
       "        True,  True,  True,  True,  True,  True,  True,  True,  True,\n",
       "        True,  True,  True,  True,  True,  True,  True,  True,  True,\n",
       "        True,  True,  True,  True,  True,  True,  True,  True,  True,\n",
       "        True,  True,  True,  True,  True,  True,  True,  True,  True,\n",
       "        True,  True,  True,  True,  True,  True,  True,  True,  True,\n",
       "        True,  True])"
      ]
     },
     "execution_count": 10,
     "metadata": {},
     "output_type": "execute_result"
    }
   ],
   "source": [
    "predicted_categories==y"
   ]
  },
  {
   "cell_type": "code",
   "execution_count": 18,
   "metadata": {},
   "outputs": [
    {
     "name": "stdout",
     "output_type": "stream",
     "text": [
      "Predicted categories: ['medium' 'slow' 'slow' 'medium' 'medium' 'slow' 'slow' 'medium' 'medium'\n",
      " 'slow' 'slow' 'slow' 'medium' 'slow' 'slow' 'slow' 'medium' 'slow' 'slow'\n",
      " 'medium' 'slow' 'slow' 'slow' 'slow' 'slow' 'slow' 'slow' 'slow' 'slow'\n",
      " 'slow' 'slow' 'slow' 'slow' 'slow' 'slow' 'slow' 'slow' 'slow' 'slow'\n",
      " 'slow' 'slow' 'slow' 'slow' 'slow' 'slow' 'slow' 'slow' 'slow' 'medium'\n",
      " 'slow' 'slow' 'medium' 'medium' 'slow' 'slow' 'slow' 'slow' 'slow' 'slow'\n",
      " 'slow' 'slow' 'slow' 'slow' 'slow' 'medium' 'slow' 'slow' 'slow' 'slow'\n",
      " 'slow' 'slow' 'slow' 'slow' 'slow' 'slow' 'slow' 'slow' 'slow' 'slow'\n",
      " 'slow' 'fast' 'fast' 'fast' 'fast' 'medium' 'medium' 'medium' 'medium'\n",
      " 'medium' 'slow' 'medium' 'medium' 'slow' 'slow' 'slow' 'medium' 'fast'\n",
      " 'medium' 'medium' 'medium' 'medium' 'medium' 'medium' 'medium' 'medium'\n",
      " 'medium' 'medium' 'medium' 'slow' 'slow' 'slow' 'slow' 'slow' 'slow'\n",
      " 'slow' 'slow' 'slow' 'slow' 'slow' 'slow' 'slow' 'slow' 'slow' 'slow'\n",
      " 'slow' 'slow' 'slow' 'slow']\n"
     ]
    }
   ],
   "source": [
    "from sklearn.ensemble import RandomForestClassifier\n",
    "\n",
    "# Discretize speed into categories (e.g., low, medium, high speed)\n",
    "bins = np.linspace(0, 20, 5)\n",
    "df['speed_category'] = pd.cut(df['speed_kmh'], bins=[0, 15, 17.5, 20], labels=['slow', 'medium', 'fast'])\n",
    "\n",
    "X = df['split_time'].values.reshape(-1, 1)  # Time as feature\n",
    "y = df['speed_category'].values  # Speed categories as the target variable\n",
    "\n",
    "# Create and fit the model\n",
    "model = LogisticRegression()\n",
    "model.fit(X, y)\n",
    "\n",
    "# Predict speed categories based on the time\n",
    "predicted_categories = model.predict(X)\n",
    "print(f\"Predicted categories: {predicted_categories}\")"
   ]
  },
  {
   "cell_type": "code",
   "execution_count": 16,
   "metadata": {},
   "outputs": [
    {
     "data": {
      "text/plain": [
       "array([ True,  True,  True,  True,  True,  True,  True,  True,  True,\n",
       "        True,  True,  True,  True,  True,  True,  True,  True,  True,\n",
       "        True,  True,  True,  True,  True,  True,  True,  True,  True,\n",
       "        True,  True,  True,  True,  True,  True,  True,  True,  True,\n",
       "        True,  True,  True,  True,  True,  True,  True,  True,  True,\n",
       "        True,  True,  True,  True,  True,  True,  True,  True,  True,\n",
       "        True,  True,  True,  True,  True,  True,  True,  True,  True,\n",
       "        True,  True,  True,  True,  True,  True,  True,  True,  True,\n",
       "        True,  True,  True,  True,  True,  True,  True,  True,  True,\n",
       "        True,  True,  True,  True,  True,  True,  True,  True,  True,\n",
       "        True,  True,  True,  True,  True,  True,  True,  True,  True,\n",
       "        True,  True,  True,  True,  True,  True,  True,  True,  True,\n",
       "        True,  True,  True,  True,  True,  True,  True,  True,  True,\n",
       "        True,  True,  True,  True,  True,  True,  True,  True,  True,\n",
       "        True,  True])"
      ]
     },
     "execution_count": 16,
     "metadata": {},
     "output_type": "execute_result"
    }
   ],
   "source": [
    "predicted_categories==y"
   ]
  },
  {
   "cell_type": "code",
   "execution_count": 19,
   "metadata": {},
   "outputs": [
    {
     "name": "stdout",
     "output_type": "stream",
     "text": [
      "Predictions: [15.22245476 15.01932643 15.01932643 15.66256614 15.74156049 14.53407543\n",
      " 14.55664524 15.36915855 15.31273402 14.54536033 13.94726026 14.42122636\n",
      " 15.25630948 14.00368479 14.09396405 14.54536033 15.22245476 15.08703587\n",
      " 15.1208906  15.40301327 15.03061134 13.91340554 13.42815453 13.51843379\n",
      " 14.22938294 13.5297187  12.66078085 13.80055647 13.90212063 12.96547334\n",
      " 12.5817865  12.60435631 13.66513758 13.01061297 12.40122799 12.81876955\n",
      " 13.13474695 11.9385468  11.83698263 11.97240152 12.44636762 11.67899393\n",
      " 11.58871468 11.7805581  10.44893906  9.8734088  10.31352018 11.12603349\n",
      " 15.96725863 14.89519245 14.8049132  15.52714725 15.63999632 14.74848866\n",
      " 14.63563959 14.94033208 14.60178487 14.30837728 14.15038859 14.26323766\n",
      " 14.59049996 13.61999795 13.24759602 13.87955082 15.34658874 14.63563959\n",
      " 14.03753951 14.11653386 13.99239989 13.56357342 13.66513758 13.78927156\n",
      " 13.64256777 11.70156375 11.18245802 12.02882605 12.62692613 11.52100523\n",
      " 11.6225694  11.35173163 17.23116822 17.18602859 17.6825645  18.30323439\n",
      " 17.06189461 16.63306815 16.58792852 16.91519082 15.56100197 15.09832078\n",
      " 15.69642086 15.74156049 14.75977357 14.34223201 14.83876792 15.2901642\n",
      " 17.29887766 16.79105684 16.5540738  16.81362666 16.96033045 16.79105684\n",
      " 16.66692287 16.73463231 16.47507945 16.18167186 16.29452093 16.64435305\n",
      " 13.56357342 13.10089223 13.14603185 14.07139424 14.73720375 14.26323766\n",
      " 13.98111498 14.09396405 14.1729584  14.19552821 13.73284702 14.06010933\n",
      " 14.24066784 13.5297187  13.42815453 13.91340554 14.34223201 13.64256777\n",
      " 13.29273565 13.71027721]\n"
     ]
    }
   ],
   "source": [
    "from sklearn.linear_model import LinearRegression\n",
    "\n",
    "# Define feature (X) and target (y)\n",
    "X = df['split_time'].values.reshape(-1, 1)  # Time as the independent variable\n",
    "y = df['speed_kmh'].values  # Speed as the dependent variable\n",
    "\n",
    "# Create and fit the model\n",
    "model = LinearRegression()\n",
    "model.fit(X, y)\n",
    "\n",
    "# Predict speed based on the time\n",
    "predicted_speed = model.predict(X)\n",
    "print(f\"Predictions: {predicted_speed}\")"
   ]
  },
  {
   "cell_type": "code",
   "execution_count": 20,
   "metadata": {},
   "outputs": [
    {
     "data": {
      "text/plain": [
       "array([False, False, False, False, False, False, False, False, False,\n",
       "       False, False, False, False, False, False, False, False, False,\n",
       "       False, False, False, False, False, False, False, False, False,\n",
       "       False, False, False, False, False, False, False, False, False,\n",
       "       False, False, False, False, False, False, False, False, False,\n",
       "       False, False, False, False, False, False, False, False, False,\n",
       "       False, False, False, False, False, False, False, False, False,\n",
       "       False, False, False, False, False, False, False, False, False,\n",
       "       False, False, False, False, False, False, False, False, False,\n",
       "       False, False, False, False, False, False, False, False, False,\n",
       "       False, False, False, False, False, False, False, False, False,\n",
       "       False, False, False, False, False, False, False, False, False,\n",
       "       False, False, False, False, False, False, False, False, False,\n",
       "       False, False, False, False, False, False, False, False, False,\n",
       "       False, False])"
      ]
     },
     "execution_count": 20,
     "metadata": {},
     "output_type": "execute_result"
    }
   ],
   "source": [
    "predicted_speed==y"
   ]
  },
  {
   "cell_type": "code",
   "execution_count": 7,
   "metadata": {},
   "outputs": [
    {
     "data": {
      "image/png": "[encoded data removed]",
      "text/plain": [
       "<Figure size 432x288 with 1 Axes>"
      ]
     },
     "metadata": {
      "needs_background": "light"
     },
     "output_type": "display_data"
    }
   ],
   "source": [
    "# Create a bar plot for the count of each predicted category\n",
    "sns.countplot(x=predicted_categories)\n",
    "plt.title('Count of Predicted Speed Categories')\n",
    "plt.xlabel('Speed Category')\n",
    "plt.ylabel('Count')\n",
    "plt.show()"
   ]
  },
  {
   "cell_type": "code",
   "execution_count": 80,
   "metadata": {},
   "outputs": [
    {
     "data": {
      "image/png": "[encoded data removed]",
      "text/plain": [
       "<Figure size 504x504 with 1 Axes>"
      ]
     },
     "metadata": {},
     "output_type": "display_data"
    }
   ],
   "source": [
    "plt.figure(figsize=(7, 7))\n",
    "plt.pie([list(predicted_categories).count('fast'), list(predicted_categories).count('medium'),list(predicted_categories).count('slow')],\n",
    "        labels=['fast', 'medium','slow'], autopct='%1.1f%%', colors=['blue', 'orange','green'])\n",
    "plt.title('Proportion of Predicted Speed Categories')\n",
    "plt.show()"
   ]
  },
  {
   "cell_type": "code",
   "execution_count": 81,
   "metadata": {},
   "outputs": [
    {
     "name": "stderr",
     "output_type": "stream",
     "text": [
      "/Library/Frameworks/Python.framework/Versions/3.9/lib/python3.9/site-packages/seaborn/categorical.py:632: FutureWarning: SeriesGroupBy.grouper is deprecated and will be removed in a future version of pandas.\n",
      "  positions = grouped.grouper.result_index.to_numpy(dtype=float)\n"
     ]
    },
    {
     "data": {
      "image/png": "[encoded data removed]",
      "text/plain": [
       "<Figure size 432x288 with 1 Axes>"
      ]
     },
     "metadata": {
      "needs_background": "light"
     },
     "output_type": "display_data"
    }
   ],
   "source": [
    "# Assuming 'df' contains a column 'speed_kmh' and 'predicted_categories'\n",
    "df['predicted_category'] = predicted_categories\n",
    "\n",
    "sns.boxplot(x='predicted_category', y='speed_kmh', data=df)\n",
    "plt.title('Speed Distribution by Predicted Category')\n",
    "plt.xlabel('Predicted Category')\n",
    "plt.ylabel('Speed (km/h)')\n",
    "plt.show()"
   ]
  },
  {
   "cell_type": "code",
   "execution_count": 83,
   "metadata": {},
   "outputs": [
    {
     "data": {
      "image/png": "[encoded data removed]",
      "text/plain": [
       "<Figure size 432x288 with 1 Axes>"
      ]
     },
     "metadata": {
      "needs_background": "light"
     },
     "output_type": "display_data"
    }
   ],
   "source": [
    "plt.scatter(df['split_time'], df['speed_kmh'], c=df['predicted_category'].map({'fast': 'red', 'medium': 'blue', 'slow': 'green'}))\n",
    "plt.title('Time vs Speed (Colored by Predicted Category)')\n",
    "plt.xlabel('Time (seconds)')\n",
    "plt.ylabel('Speed (km/h)')\n",
    "plt.grid(True)\n",
    "plt.show()"
   ]
  },
  {
   "cell_type": "code",
   "execution_count": null,
   "metadata": {},
   "outputs": [],
   "source": []
  }
 ],
 "metadata": {
  "kernelspec": {
   "display_name": "Python 3",
   "language": "python",
   "name": "python3"
  },
  "language_info": {
   "codemirror_mode": {
    "name": "ipython",
    "version": 3
   },
   "file_extension": ".py",
   "mimetype": "text/x-python",
   "name": "python",
   "nbconvert_exporter": "python",
   "pygments_lexer": "ipython3",
   "version": "3.9.7"
  }
 },
 "nbformat": 4,
 "nbformat_minor": 2
}
