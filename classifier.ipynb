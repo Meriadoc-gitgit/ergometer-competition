{
 "cells": [
  {
   "cell_type": "code",
   "execution_count": 1,
   "metadata": {},
   "outputs": [],
   "source": [
    "# Import necessary libraries\n",
    "import pandas as pd\n",
    "import numpy as np\n",
    "import matplotlib.pyplot as plt\n",
    "import seaborn as sns\n",
    "from sklearn.model_selection import GridSearchCV\n",
    "from sklearn.model_selection import train_test_split\n",
    "from sklearn.ensemble import RandomForestClassifier\n",
    "from sklearn.neighbors import KNeighborsRegressor\n",
    "from sklearn.naive_bayes import MultinomialNB\n",
    "from sklearn.linear_model import LogisticRegression\n",
    "\n",
    "\n",
    "import warnings\n",
    "\n",
    "# Suppress all warnings\n",
    "warnings.filterwarnings(\"ignore\")\n",
    "\n",
    "# Suppress a specific warning type\n",
    "warnings.filterwarnings(\"ignore\", category=DeprecationWarning)"
   ]
  },
  {
   "cell_type": "code",
   "execution_count": 2,
   "metadata": {},
   "outputs": [],
   "source": [
    "# Load the data\n",
    "df = pd.read_json(\"Test/ergometer_500m.json\")"
   ]
  },
  {
   "cell_type": "code",
   "execution_count": 3,
   "metadata": {},
   "outputs": [],
   "source": [
    "# Define target variable (e.g., speed) and features (time)\n",
    "X = df['split_calories'].values.reshape(-1, 1)  # Time as the independent variable\n",
    "\n",
    "# Calcul de la vitesse en km/h (distance en km / temps en heures)\n",
    "df['split_time_hours'] = df['split_time'] / 3600  # Conversion du temps en heures\n",
    "df['speed_kmh'] = (0.5 / df['split_time_hours'])  # La distance est de 0.5 km (500m)\n",
    "df['speed_category'] = pd.cut(df['speed_kmh'], bins=[0, 13.5, 15, 20], labels=[0, 1, 2])\n",
    "\n",
    "y = df['speed_category']"
   ]
  },
  {
   "cell_type": "code",
   "execution_count": 37,
   "metadata": {},
   "outputs": [],
   "source": [
    "class Classifier : \n",
    "\n",
    "    def __init__(\n",
    "        self,\n",
    "        X : np.ndarray,\n",
    "        y : np.ndarray,\n",
    "        n_per_class : int = 10\n",
    "    ) -> None : \n",
    "            \n",
    "        self.X_train, self.X_test, self.y_train,self.y_test = train_test_split(X, y, test_size=0.3, random_state=42)\n",
    "\n",
    "    def train(self) : \n",
    "        raise NotImplementedError(\"Please Implement this method\")\n",
    "\n",
    "    def predict(self) : \n",
    "        return self.model.predict(self.X_test)\n",
    "\n",
    "    def accuracy(self) : \n",
    "        self.train()\n",
    "        predicted_categories = self.predict()\n",
    "\n",
    "        # print(predicted_categories)\n",
    "\n",
    "        return len([i for i in range(len(predicted_categories)) if predicted_categories[i]==list(self.y_test)[i]]) / len(self.X_test)\n",
    "\n",
    "    def finetune(self) : \n",
    "        raise NotImplementedError(\"Please Implement this method\")"
   ]
  },
  {
   "cell_type": "code",
   "execution_count": 38,
   "metadata": {},
   "outputs": [],
   "source": [
    "class RFC(Classifier) : \n",
    "    def __init__(\n",
    "        self,\n",
    "        X : np.ndarray,\n",
    "        y : np.ndarray,\n",
    "    ) -> None :\n",
    "        super().__init__(X=X,y=y)\n",
    "        self.model = RandomForestClassifier(n_estimators=100)\n",
    "\n",
    "    def finetune(self) : \n",
    "        param_grid = {'n_estimators': [10, 50, 100, 200, 500]}\n",
    "\n",
    "        grid_search = GridSearchCV(estimator=self.model, param_grid=param_grid, scoring='accuracy')\n",
    "        grid_search.fit(self.X_train, self.y_train)\n",
    "\n",
    "        # Best parameters and score\n",
    "        # print(f\"Best n_estimators: {grid_search.best_params_}\")\n",
    "        # print(f\"Best cross-validation score: {grid_search.best_score_}\")\n",
    "\n",
    "        return grid_search.best_params_['n_estimators'], grid_search.best_score_\n",
    "\n",
    "    def train(self) : \n",
    "        n_est = self.finetune()[0]\n",
    "        self.model = RandomForestClassifier(n_estimators=n_est)\n",
    "        self.model.fit(self.X_train, self.y_train)"
   ]
  },
  {
   "cell_type": "code",
   "execution_count": 39,
   "metadata": {},
   "outputs": [],
   "source": [
    "class LR(Classifier) : \n",
    "    def __init__(\n",
    "        self,\n",
    "        X : np.ndarray,\n",
    "        y : np.ndarray,\n",
    "    ) -> None :\n",
    "        super().__init__(X=X,y=y)\n",
    "        self.model = LogisticRegression()\n",
    "    \n",
    "    def finetune(self) : \n",
    "\n",
    "        # Define the hyperparameters to tune\n",
    "        param_grid = {\n",
    "            'C': [0.001, 0.01, 0.1, 1, 10, 100],  # Regularization strength\n",
    "            'penalty': ['l1', 'l2', 'elasticnet', 'none'],  # Type of regularization\n",
    "            'solver': ['liblinear', 'saga', 'lbfgs', 'newton-cg'],  # Optimization algorithm\n",
    "        }\n",
    "\n",
    "        grid_search = GridSearchCV(estimator=self.model, param_grid=param_grid, scoring='accuracy')\n",
    "        grid_search.fit(self.X_train, self.y_train)\n",
    "\n",
    "        # Best parameters and score\n",
    "        # print(f\"Best params: {grid_search.best_params_}\")\n",
    "        # print(f\"Best cross-validation score: {grid_search.best_score_}\")\n",
    "        \n",
    "        return grid_search.best_params_, grid_search.best_score_\n",
    "    \n",
    "    def train(self) : \n",
    "        params = self.finetune()[0]\n",
    "        self.model = LogisticRegression(\n",
    "            C = params['C'],\n",
    "            penalty = params['penalty'],\n",
    "            solver = params['solver']\n",
    "        )\n",
    "        self.model.fit(self.X_train, self.y_train)"
   ]
  },
  {
   "cell_type": "code",
   "execution_count": 40,
   "metadata": {},
   "outputs": [],
   "source": [
    "class KNR(Classifier) : \n",
    "    def __init__(\n",
    "        self,\n",
    "        X : np.ndarray,\n",
    "        y : np.ndarray,\n",
    "    ) -> None :\n",
    "        super().__init__(X=X,y=y)\n",
    "        self.model = KNeighborsRegressor(n_neighbors=3)\n",
    "    \n",
    "    def finetune(self) : \n",
    "        # Define our candidate hyperparameters\n",
    "        hp_candidates = [{'n_neighbors': [2,3,4,5,6,7,8,9,10,11,12,13,14,15], 'weights': ['uniform','distance'],'p':[1,2,5]}]\n",
    "\n",
    "        # Define the hyperparameters to tune\n",
    "        param_grid = {\n",
    "            'n_neighbors': [3, 5, 7, 9, 11],  # Number of neighbors\n",
    "            'weights': ['uniform', 'distance'],  # Weighting of neighbors\n",
    "            'metric': ['minkowski', 'euclidean', 'manhattan'],  # Distance metric\n",
    "            'p': [1, 2],  # Power parameter for Minkowski metric (only used if metric is 'minkowski')\n",
    "        }\n",
    "\n",
    "        # Perform Grid Search with cross-validation\n",
    "        grid_search = GridSearchCV(estimator=self.model, param_grid=param_grid, scoring='neg_mean_squared_error')\n",
    "        grid_search.fit(self.X_train, self.y_train)\n",
    "\n",
    "        # Best parameters and score\n",
    "        # print(f\"Best parameters: {grid_search.best_params_}\")\n",
    "        # print(f\"Best cross-validation score: {grid_search.best_score_}\")\n",
    "        return grid_search.best_params_, grid_search.best_score_\n",
    "\n",
    "    def train(self) : \n",
    "        params = self.finetune()[0]\n",
    "        self.model = KNeighborsRegressor(\n",
    "            n_neighbors = params['n_neighbors'],\n",
    "            weights = params['weights'],\n",
    "            metric = params['metric'],\n",
    "            p = params['p']\n",
    "        )\n",
    "        self.model.fit(self.X_train, self.y_train)"
   ]
  },
  {
   "cell_type": "code",
   "execution_count": 45,
   "metadata": {},
   "outputs": [],
   "source": [
    "class MNB(Classifier) : \n",
    "    def __init__(\n",
    "        self,\n",
    "        X : np.ndarray,\n",
    "        y : np.ndarray,\n",
    "    ) -> None :\n",
    "        super().__init__(X=X,y=y)\n",
    "        self.model = MultinomialNB()\n",
    "    \n",
    "    def finetune(self) : \n",
    "        # Define the hyperparameters to tune\n",
    "        param_grid = {\n",
    "            'alpha': [0.1, 0.5, 1, 10],  # Smoothing parameter\n",
    "            'fit_prior': [True, False]    # Whether to learn class prior probabilities\n",
    "        }\n",
    "\n",
    "        # Perform Grid Search with cross-validation\n",
    "        grid_search = GridSearchCV(estimator=self.model, param_grid=param_grid, scoring='accuracy')\n",
    "        grid_search.fit(self.X_train, self.y_train)\n",
    "\n",
    "        # Best parameters and score\n",
    "        # print(f\"Best parameters: {grid_search.best_params_}\")\n",
    "        # print(f\"Best cross-validation score: {grid_search.best_score_}\")\n",
    "        return grid_search.best_params_, grid_search.best_score_\n",
    "\n",
    "    def train(self) : \n",
    "        params = self.finetune()[0]\n",
    "        self.model = MultinomialNB(\n",
    "            alpha = params['alpha'],\n",
    "            fit_prior = params['fit_prior'],\n",
    "        )\n",
    "        self.model.fit(self.X_train, self.y_train)"
   ]
  },
  {
   "cell_type": "code",
   "execution_count": 46,
   "metadata": {},
   "outputs": [
    {
     "name": "stdout",
     "output_type": "stream",
     "text": [
      "Accuracy: 0.9230769230769231\n",
      "Accuracy: 0.8461538461538461\n",
      "Accuracy: 0.38461538461538464\n",
      "Accuracy: 0.8974358974358975\n"
     ]
    }
   ],
   "source": [
    "list_classifier = [RFC(X,y),KNR(X,y),MNB(X,y),LR(X,y)]\n",
    "\n",
    "for classif in list_classifier : \n",
    "    model = classif \n",
    "    print(\"Accuracy:\",model.accuracy())"
   ]
  },
  {
   "cell_type": "code",
   "execution_count": 43,
   "metadata": {},
   "outputs": [],
   "source": [
    "model = MNB(X,y)"
   ]
  },
  {
   "cell_type": "code",
   "execution_count": 44,
   "metadata": {},
   "outputs": [
    {
     "data": {
      "text/plain": [
       "array([0, 1, 2])"
      ]
     },
     "execution_count": 44,
     "metadata": {},
     "output_type": "execute_result"
    }
   ],
   "source": [
    "np.unique(model.y_test)"
   ]
  },
  {
   "cell_type": "code",
   "execution_count": 28,
   "metadata": {},
   "outputs": [
    {
     "data": {
      "text/plain": [
       "89"
      ]
     },
     "execution_count": 28,
     "metadata": {},
     "output_type": "execute_result"
    }
   ],
   "source": [
    "len(model.y_train)"
   ]
  },
  {
   "cell_type": "code",
   "execution_count": 47,
   "metadata": {},
   "outputs": [
    {
     "data": {
      "text/plain": [
       "0.8974358974358975"
      ]
     },
     "execution_count": 47,
     "metadata": {},
     "output_type": "execute_result"
    }
   ],
   "source": [
    "model.accuracy()"
   ]
  },
  {
   "cell_type": "code",
   "execution_count": 48,
   "metadata": {},
   "outputs": [
    {
     "data": {
      "image/png": "[encoded data removed]",
      "text/plain": [
       "<Figure size 432x288 with 1 Axes>"
      ]
     },
     "metadata": {
      "needs_background": "light"
     },
     "output_type": "display_data"
    }
   ],
   "source": [
    "# Create a bar plot for the count of each predicted category\n",
    "sns.countplot(x=model.predict())\n",
    "plt.title('Count of Predicted Speed Categories')\n",
    "plt.xlabel('Speed Category')\n",
    "plt.ylabel('Count')\n",
    "plt.show()"
   ]
  },
  {
   "cell_type": "code",
   "execution_count": 49,
   "metadata": {},
   "outputs": [
    {
     "data": {
      "image/png": "[encoded data removed]",
      "text/plain": [
       "<Figure size 504x504 with 1 Axes>"
      ]
     },
     "metadata": {},
     "output_type": "display_data"
    }
   ],
   "source": [
    "predicted_categories = model.predict()\n",
    "plt.figure(figsize=(7, 7))\n",
    "plt.pie([list(predicted_categories).count(2), list(predicted_categories).count(1),list(predicted_categories).count(0)],\n",
    "        labels=['fast', 'medium','slow'], autopct='%1.1f%%', colors=['blue', 'orange','green'])\n",
    "plt.title('Proportion of Predicted Speed Categories')\n",
    "plt.show()"
   ]
  },
  {
   "cell_type": "code",
   "execution_count": null,
   "metadata": {},
   "outputs": [],
   "source": []
  }
 ],
 "metadata": {
  "language_info": {
   "name": "python"
  }
 },
 "nbformat": 4,
 "nbformat_minor": 2
}
